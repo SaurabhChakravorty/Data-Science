{
 "cells": [
  {
   "cell_type": "markdown",
   "metadata": {
    "deletable": false,
    "editable": false,
    "nbgrader": {
     "cell_type": "markdown",
     "checksum": "6e66ce186f96bde03abc8a223e9e9de8",
     "grade": false,
     "grade_id": "cell-6453afbe0bdb6aa6",
     "locked": true,
     "schema_version": 3,
     "solution": false,
     "task": false
    }
   },
   "source": [
    "<img src=\"logo-2020.png\" alt=\"frankfurt school hmi\" style=\"width: 160px;\"/>"
   ]
  },
  {
   "cell_type": "markdown",
   "metadata": {
    "deletable": false,
    "editable": false,
    "nbgrader": {
     "cell_type": "markdown",
     "checksum": "3915b840c68b251334acbf37c7995111",
     "grade": false,
     "grade_id": "cell-acb40d952bd1742d",
     "locked": true,
     "schema_version": 3,
     "solution": false,
     "task": false
    }
   },
   "source": [
    "___\n",
    "# Machine Learning I.\n",
    "## Problem Set 1: Linear Regression (14 points total)\n",
    "\n",
    "### Instructions\n",
    "The graded portion of problem set 1 consists of one notebook:\n",
    "```\n",
    "ps1_nb1-ml.ipynb\n",
    "```\n",
    "There is also a quick introduction to Jupyter notebooks and a non-graded tutorial of numpy arrays:\n",
    "```\n",
    "0-ten_minute_introduction_to_notebooks.ipynb\n",
    "1-numpy_introduction.ipynb\n",
    "```\n",
    "Both are recommended. \n",
    "\n",
    "### Due Date\n",
    "* Group D 19.02.2020 before 23:59:59 (CET)\n",
    "\n",
    "### Instructor\n",
    "* Prof. Dr. Gregory Wheeler ([gregorywheeler.org](http://gregorywheeler.org))\n",
    "\n",
    "---\n",
    "\n",
    "### Declare your collaborators\n",
    "You may work alone or in a group. The maximum group size is 4 people. \n",
    "\n",
    "If you work in a group, use the next cell to enter the list of names (first, last) of your collaborators. \n",
    "~~~python\n",
    "# Example\n",
    "COLLABORATORS = ['Stu Dent', 'May Bee', 'Ki Val Storr']\n",
    "~~~\n",
    "You should also familiarize yourself with the collaboration policy on the course Canvas page."
   ]
  },
  {
   "cell_type": "code",
   "execution_count": 1,
   "metadata": {},
   "outputs": [],
   "source": [
    "# Be sure your names are strings\n",
    "COLLABORATORS = [\"Gaurav Sharma\"]\n"
   ]
  },
  {
   "cell_type": "markdown",
   "metadata": {
    "deletable": false,
    "editable": false,
    "nbgrader": {
     "cell_type": "markdown",
     "checksum": "3a45a5aa786fb3bbdaaf9ed66b7d6ae0",
     "grade": false,
     "grade_id": "cell-b62ce31b7ef69ad4",
     "locked": true,
     "schema_version": 3,
     "solution": false,
     "task": false
    }
   },
   "source": [
    "\n",
    "---\n",
    "## <i>Money cannot buy happiness. Or can it?</i>\n",
    "\n",
    "The populations of some countries are happier than other countries. In this exercise, you will investigate the relationship between a country's per capita GDP and its \"happiness score\".  Since 2012, the annual [World Happiness Report](https://worldhappiness.report/), published by the United Nations' [Sustainable Development Solutions Network](https://www.unsdsn.org/), asks people around the world how happy they are. The happiness score uses the [Cantril scale](https://news.gallup.com/poll/122453/understanding-gallup-uses-cantril-scale.aspx), which is a subjective scale constructed by asking respondents to imagine a ladder on which the best possible life for themselves receives the score of 10, the worst possible life a score of 0, and then are asked to rate their own lives on that scale between 0 and 10.  The questionaire is given to a representative sample of each country each year.\n",
    "\n",
    "We expect more individual wealth to correlate with higher happiness. But, how much of the variation in happiness is explained by individual wealth?  That is the question we will explore.\n",
    "\n",
    "There are three main tasks in this notebook.\n",
    "\n",
    " - PART A. Implement Gradient Descent to calculate the coefficients of a univariate linear regression\n",
    " - PART B. Use a built-in library to check your implementation in A and perform some analysis \n",
    " - PART C. Prepare data yourself and apply your model. \n",
    " \n",
    "You will be asked to write some code and also answer several questions about the model and data. The first step is to run the next cell to load the basic libraries we will use in this assignment."
   ]
  },
  {
   "cell_type": "code",
   "execution_count": 2,
   "metadata": {
    "deletable": false,
    "editable": false,
    "nbgrader": {
     "cell_type": "code",
     "checksum": "206fae5c66a46f9835a8e9164601debb",
     "grade": false,
     "grade_id": "cell-3683f8c3c14a645b",
     "locked": true,
     "schema_version": 3,
     "solution": false,
     "task": false
    }
   },
   "outputs": [],
   "source": [
    "# import numpy and set up plotting parameters\n",
    "import numpy as np\n",
    "import matplotlib.pyplot as plt\n",
    "from mpl_toolkits.mplot3d import Axes3D"
   ]
  },
  {
   "cell_type": "markdown",
   "metadata": {
    "deletable": false,
    "editable": false,
    "nbgrader": {
     "cell_type": "markdown",
     "checksum": "d729fa9ac39acb98c247c56385ae40ea",
     "grade": false,
     "grade_id": "cell-cda1152bfc9e0c0d",
     "locked": true,
     "schema_version": 3,
     "solution": false,
     "task": false
    }
   },
   "source": [
    "# PART A - Gradient Descent\n",
    "\n",
    "## I. Loading and Formatting Data\n",
    "In the ps1 directory you will find the data set for problem 1, `ps1_data.csv`. File loading methods vary depending on the format of the data file. This particular data set is a _comma-seperated text file_ (.csv), so we will use the numpy function `np.loadtxt` and specify that the columns are delimited by commas.\n",
    "\n",
    "Run the next cell to load `ps1_data.csv` into a numpy array assigned to the variable `data`."
   ]
  },
  {
   "cell_type": "code",
   "execution_count": 3,
   "metadata": {},
   "outputs": [],
   "source": [
    "data = np.loadtxt('ps1_data1.csv', delimiter=',')\n",
    "#data"
   ]
  },
  {
   "cell_type": "markdown",
   "metadata": {
    "deletable": false,
    "editable": false,
    "nbgrader": {
     "cell_type": "markdown",
     "checksum": "3403e8f373aa43b72afa29a1ea38569f",
     "grade": false,
     "grade_id": "cell-3feec8c3b2a19f6c",
     "locked": true,
     "schema_version": 3,
     "solution": false,
     "task": false
    }
   },
   "source": [
    "Recall that numpy arrays are Python's standard datatype for computing with vectors, matrices, and tensors, and the numerical methods of numpy -- such as `np.dot` and `np.sum` -- are element-wise operations. Although there is also a Python matrix package designed specifically to do linear algebra operations, we will use numpy.\n",
    "\n",
    "(For those of you new to Python but who are familiar with linear algebra or with programming matrix operations in MATLAB, [this page](https://www.khanacademy.org/math/precalculus/precalc-matrices/multiplying-matrices-by-matrices/v/matrix-multiplication-intro) contains useful comparison between Python and MATLAB to help you get quickly up to speed.)\n",
    "\n",
    "You can confirm that data is a numpy array by checking its type, i.e. by excuting `type(data)`. It is also important to know about the dimensions of `data` -- that is, the number of rows (training examples) and the number of columns (features and target). This information is given by using the method `.shape`, i.e., by executing `data.shape`.\n",
    "\n",
    "<div class=\"alert alert-block alert-info\">\n",
    "<b>Tip:</b> You can insert a cell anywhere (+) and delete it (scissors) or any other cell that is not locked\n",
    "    \n",
    "<img src=\"ps_fig1.png\" alt=\"ps3_fig1\" style=\"width: 100px;\"/>  \n",
    "\n",
    "However, before turning in your assignment, you should remove any cells you have added.  \n",
    "</div>\n",
    "\n",
    "<div class=\"alert alert-block alert-info\">\n",
    "<b>Tip:</b> To clear the output of your notebook and your local memory, you can restart the kernel and clear  “Kernel >> Restart and Clear all Output\":\n",
    "\n",
    "<img src=\"ps_fig2.png\" alt=\"ps3_fig2\" style=\"width: 250px;\"/> \n",
    "</div>"
   ]
  },
  {
   "cell_type": "markdown",
   "metadata": {
    "deletable": false,
    "editable": false,
    "nbgrader": {
     "cell_type": "markdown",
     "checksum": "4ed4d1a1d733eeb9d0f02986d9efa0fe",
     "grade": false,
     "grade_id": "cell-61e93e897ed5317a",
     "locked": true,
     "schema_version": 3,
     "solution": false,
     "task": false
    }
   },
   "source": [
    "You should see that `data` has two columns. The first column is the feature $x$, <b>per Capita GDP</b> of each country in `data`, and the second column is the target $y$, the corresponding <b>Happiness index</b>. The number of rows denotes the number of training examples, which by convention is assigned to the variable `m`.\n",
    "\n",
    "In the next cell, you should complete the function `set_variables()` which will take an array as an argument and return three variables: `x` and `y` , each of which is itself an array; and `m`, an integer. When `set_variables()` is called specifically on `data`, the three variables are\n",
    "\n",
    "    x - the features of psl_data; i.e., the first column, which are city populations\n",
    "    y - the target variable of psl_data; i.e., the second column, which are revenues\n",
    "    m - the number of training examples in psl_data.\n",
    "\n",
    "<u>Your code should work on <b>any</b> two-column array</u>, not only on `data`.\n",
    "\n",
    "<div class=\"alert alert-info\"><b>Tip</b>: Remember that arrays in Python are 0-indexed.</div>\n",
    "\n",
    "\n",
    "\n",
    "### Completing Functions\n",
    "\n",
    "The next cell has a partially completed function, `set_variables()`.  Inside the code block, you will see two lines:\n",
    "\n",
    "~~~python\n",
    "\n",
    "# YOUR CODE HERE\n",
    "raise NotImplementedError()\n",
    "~~~\n",
    "\n",
    "To complete the function, you should delete both of these lines and replace the comment `# YOUR CODE HERE` with your line or lines of code.  The second line raises a  \"not implemented error\" and is included automatically to guard against accidentally submitting an incomplete assignment.  To pass the final validation, you must remove each of these errors from your functions.\n",
    "\n"
   ]
  },
  {
   "cell_type": "code",
   "execution_count": 4,
   "metadata": {
    "deletable": false,
    "nbgrader": {
     "cell_type": "code",
     "checksum": "b0b07ef437c33001dd39d42ffbac8ff2",
     "grade": false,
     "grade_id": "setVariables",
     "locked": false,
     "schema_version": 3,
     "solution": true,
     "task": false
    }
   },
   "outputs": [],
   "source": [
    "def setVariables(data_array) :\n",
    "    \"\"\"\n",
    "\n",
    "    The function set_variables() is called on one argument:\n",
    "    \n",
    "        data_array - an np.array \n",
    "        \n",
    "    and returns three global variables:\n",
    "        x - the first column of data_array\n",
    "        y - the second column of the data_array\n",
    "        m - the number of rows of the data_array na\n",
    "    Your code should run on any two-column data_array.\n",
    "    \"\"\"\n",
    "    global x\n",
    "    global y\n",
    "    global m\n",
    "    # YOUR CODE HERE\n",
    "    \n",
    "    x = [data_array[i][0] for i in range(len(data_array))]\n",
    "    \n",
    "    y = [data_array[i][1] for i in range(len(data_array))]\n",
    "    \n",
    "    #Pythonic way of coding!\n",
    "    m = len(data_array)\n",
    "    #raise NotImplementedError()\n",
    "    return x, y, m"
   ]
  },
  {
   "cell_type": "markdown",
   "metadata": {
    "deletable": false,
    "editable": false,
    "nbgrader": {
     "cell_type": "markdown",
     "checksum": "b94a24af6669307c652b6a6d4e53fb9d",
     "grade": false,
     "grade_id": "cell-6a1a3dea65d20fa6",
     "locked": true,
     "schema_version": 3,
     "solution": false,
     "task": false
    }
   },
   "source": [
    "### Test Cells\n",
    "The next three cells are test cells that will evaluate your implementation of `setVariables()`. You should run all three. (They will be run automatically when your notebook is graded.) Each of these cells has a line of code, which is a \"public\" test of your code, but there are also \"hidden\" tests of your code.  The public tests are designed to give you some initial feedback that you are on the right track.  "
   ]
  },
  {
   "cell_type": "code",
   "execution_count": 5,
   "metadata": {
    "deletable": false,
    "editable": false,
    "nbgrader": {
     "cell_type": "code",
     "checksum": "1e68614f6e7d05c3d02efb5f852fe063",
     "grade": true,
     "grade_id": "setVariables-test1",
     "locked": true,
     "points": 1,
     "schema_version": 3,
     "solution": false,
     "task": false
    }
   },
   "outputs": [],
   "source": [
    "\"\"\"TEST CELL 1 for set_variables\"\"\"\n",
    "setVariables(data)\n",
    "assert x[34] == 1.870765686 "
   ]
  },
  {
   "cell_type": "code",
   "execution_count": 6,
   "metadata": {
    "deletable": false,
    "editable": false,
    "nbgrader": {
     "cell_type": "code",
     "checksum": "e69c74b0d093494cb379b3d2b82e4f09",
     "grade": true,
     "grade_id": "setVariable-test2",
     "locked": true,
     "points": 1,
     "schema_version": 3,
     "solution": false,
     "task": false
    }
   },
   "outputs": [],
   "source": [
    "\"\"\"TEST CELL 2 for set_variables\"\"\"\n",
    "setVariables(data)\n",
    "assert y[71] == 5.429999828"
   ]
  },
  {
   "cell_type": "code",
   "execution_count": null,
   "metadata": {},
   "outputs": [],
   "source": []
  },
  {
   "cell_type": "code",
   "execution_count": 7,
   "metadata": {
    "deletable": false,
    "editable": false,
    "nbgrader": {
     "cell_type": "code",
     "checksum": "dd3b769e852e1a10ea1f9f829c098984",
     "grade": true,
     "grade_id": "setVariable-test3",
     "locked": true,
     "points": 1,
     "schema_version": 3,
     "solution": false,
     "task": false
    }
   },
   "outputs": [],
   "source": [
    "\"\"\"TEST CELL 3 for m of set_variables\"\"\"\n",
    "setVariables(data)\n",
    "assert m < 200"
   ]
  },
  {
   "cell_type": "markdown",
   "metadata": {
    "deletable": false,
    "editable": false,
    "nbgrader": {
     "cell_type": "markdown",
     "checksum": "3802d09ac28c5cd087e01c7e3cc077dd",
     "grade": false,
     "grade_id": "cell-537ebf2ac6ef5737",
     "locked": true,
     "schema_version": 3,
     "solution": false,
     "task": false
    }
   },
   "source": [
    "## II. Data Visualization \n",
    "The following block of code produces a basic scatterplot with a legend and title."
   ]
  },
  {
   "cell_type": "code",
   "execution_count": 8,
   "metadata": {},
   "outputs": [
    {
     "data": {
      "text/plain": [
       "<matplotlib.legend.Legend at 0x7fdf1b27e978>"
      ]
     },
     "execution_count": 8,
     "metadata": {},
     "output_type": "execute_result"
    },
    {
     "data": {
      "image/png": "[encoded data removed]",
      "text/plain": [
       "<Figure size 432x288 with 1 Axes>"
      ]
     },
     "metadata": {},
     "output_type": "display_data"
    }
   ],
   "source": [
    "# produce scatterplot\n",
    "\n",
    "plt.scatter(x,y, label=\"ps1_data1\")\n",
    "plt.title('2017 World Happiness by Country')\n",
    "plt.xlabel(r'Per Capita GPD')\n",
    "plt.ylabel(r'Happiness Score')\n",
    "plt.legend()"
   ]
  },
  {
   "cell_type": "markdown",
   "metadata": {
    "deletable": false,
    "editable": false,
    "nbgrader": {
     "cell_type": "markdown",
     "checksum": "1869da2a358ac0e036fee3c2310906e6",
     "grade": false,
     "grade_id": "cell-ccc4359102f38e22",
     "locked": true,
     "schema_version": 3,
     "solution": false,
     "task": false
    }
   },
   "source": [
    "## III. Implementing Gradient Descent\n",
    "\n",
    "\n",
    "Now we will implement gradient descent to fit the **linear regression** parameters $\\begin{align} \\theta & = (\\theta_0,\\theta_1)\\end{align}$ to the data set, `data`.\n",
    "\n",
    "### Univariate Linear Regression\n",
    "\n",
    "A univariate linear regression has one _independent variable or regressor, x,_ which is called a _feature_ in machine learning. The _dependent variable_ or _target_ variable $y$, is the  true happiness score.  The goal is to fit a linear model to estimate or predict the value of $y$, happiness, as some linear function of $x$, per capita GDP. Specifically, the hypothesis $\\begin{align} h(x; \\theta) \\end{align}$ is determined by $\\begin{align} \\boldsymbol{\\theta} \\end{align}$, a two-dimensionpal vector $\\theta = (\\theta_0,\\theta_1)$, and the single feature $ x_1$, such that $$h(x; \\theta) = \\theta_0 + \\theta_1x_1.$$\n",
    "\n",
    "\n",
    "To fit a model of this form to data, we need a way to pick values for $\\theta_0$ and $ \\theta_1$ that \"best fit\" the data. Intuitively, we want to select parameters that minimize the error of its estimates of the known values for $y$ in the training data. Specifying, we will use <b>residual squared error (RSS)</b> as the numeric measure of performance and <b>ordinary least squares</b> as the definition of \"best fit.\"  Defining the precise form of this minimization task is done by defining the optimization objective of the algorithm, which is the next step."
   ]
  },
  {
   "cell_type": "markdown",
   "metadata": {
    "deletable": false,
    "editable": false,
    "nbgrader": {
     "cell_type": "markdown",
     "checksum": "22db03945e429730790c5f0a7be2fe27",
     "grade": false,
     "grade_id": "cell-daf616dda72c96f2",
     "locked": true,
     "schema_version": 3,
     "solution": false,
     "task": false
    }
   },
   "source": [
    "### Optimization Objective\n",
    "\n",
    "The optimization objective of linear regression is to minimize the <b>residual sum of squares</b>, RSS,  \n",
    "\n",
    "$$RSS = \\sum_{i=1}^m (\\hat{\\epsilon}^{(i)})^2 = \\sum_{i=1}^{m} (y^{(i)} - (\\hat{\\theta}_0 + \\hat{\\theta}_1x^{(i)} ))^2$$\n",
    "\n",
    "where RSS is the standard <b>loss function</b> used for fitting linear regression models.  The <b>mean squared error</b> (MSE) is $\\frac{RSS}{m}$.  The cost function $J(\\boldsymbol{\\theta})$ we will minimize is\n",
    "\n",
    "$$J(\\boldsymbol{\\theta}) = \\frac{1}{2m}\\sum_{i=1}^m (h(x^{(i)}; \\boldsymbol{\\theta}) - y^{(i)})^2$$\n",
    "\n",
    "which is $\\frac{1}{2} * MSE$. \n",
    "\n",
    "The index $i$ ranges over the number of training examples, $m$, in `data`. Informally, the cost function $J$ applied to $\\begin{align} \\boldsymbol{\\theta} & = (\\hat{\\theta}_0,\\hat{\\theta}_1)\\end{align}$ assesses the \"cost\" of using particular values for $\\hat{\\theta}_0$ and $\\hat{\\theta}_1$ to fit a line to `data`, measured as squared-error loss, and the optimization problem is one of picking values for $\\hat{\\theta}_0$ and for $\\hat{\\theta}_1$ that makes those costs as close to zero as possible. Unpacking the right side of this equation further, for each training example $i$ (that is, for each $i$ of the $m$ rows of `data` ), a hypothesis $h$ parameterized by $\\boldsymbol{\\theta}$ looks at the feature $x$ of the $i$th training example, written $x^{(i)}$, and computes an estimate of the value of $y$ for this $i$th example, written $h(x^{(i)}; \\boldsymbol{\\theta})$. The total loss then is the average squared-error loss for all $m$ training examples.\n",
    "\n",
    "Specifically, the optimization objective is to minimize the cost function $J(\\boldsymbol\\theta)$, written as $\\min_{\\boldsymbol{\\theta}} J(\\boldsymbol\\theta)$. The fraction $\\frac{1}{2}$ and changing $(y - h)^2$ in RSS to $(h- y)^2$ are each mathematical conveniences that make the next step simplier and more intuitive, respectively. \n",
    "\n",
    "<div class=\"alert alert-info\"><b>Notation 1</b>: Recall that in frequentist statistics $\\theta$ is a true but unknown parameter and $\\hat{\\theta}$ is an estimate of that unknown parameter. In short, the <b>estimators</b> that we construct, manipulate, and evaluate all wear hats. But, since we never deal directly with \"true but unknown\" parameters, when the discussion turns to coding we drop the hat notation. </div>"
   ]
  },
  {
   "cell_type": "markdown",
   "metadata": {
    "deletable": false,
    "editable": false,
    "nbgrader": {
     "cell_type": "markdown",
     "checksum": "c3de7cae84d978b572ae04ea9a5b1983",
     "grade": false,
     "grade_id": "cell-0d2eb27e9dd8e26d",
     "locked": true,
     "schema_version": 3,
     "solution": false,
     "task": false
    }
   },
   "source": [
    "\n",
    "### Implementation\n",
    "\n",
    "The adjustable parameters of a univariate regression model $h(x^{(i)}; \\boldsymbol{\\theta})$  are $\\theta_0$ and $\\theta_1$ -- or, if you did not read the previous remark about notation, $\\hat{\\theta}_0$ and $\\hat{\\theta}_1$. The parameters $\\theta_0$ and $\\theta_1$  determine the $y$-intercept and slope, respectively.  They are the values that gradient descent changes to minimize the cost $J(\\boldsymbol{\\theta})$.\n",
    "\n",
    "There are a family of gradient descent algorithms. We will implement **batch gradient descent**. In batch gradient descent, at each iteration of the algorithm the values for the parameter vector $\\boldsymbol{\\theta}$ (should!) change  closer to the optimal values that realize the lowest cost $ J(\\boldsymbol\\theta)$.  \n",
    "\n",
    "<div class=\"alert alert-info\"><b>Notation 2</b>:  The actual optimal parameter values that minimizes $J$ are unknown.  Were our discussion to dwell on the difference between the actual parameters and our estimated parameters, then we'd be compelled to put hats on the estimated parameters. </div>\n",
    "\n",
    "\n",
    "As we discussed in class, at each step batch gradient descent **simultaneously updates** all parameters $\\begin{align} \\theta_j \\end{align}$: <br>\n",
    "&emsp;&emsp;&emsp;&emsp;&emsp;&emsp;&emsp;&emsp;&emsp;&emsp;&emsp;&emsp;&emsp; $\\begin{align}\\theta_j := \\theta_j - \\alpha \\frac{1}{m} \\sum_{i=1}^{m}(h(x^{(i)}; \\boldsymbol{\\theta}) - y^{(i)})x^{(i)} \\end{align}$ simultaneous update of $\\begin{align} \\theta_j \\end{align}$ for all _j_.\n",
    "\n",
    "The next series of steps guides you through an implementation of gradient descent.\n",
    "\n",
    "___\n",
    "\n",
    "**Step 1**. Observe that there are two parameters, $\\theta_0$ and $\\theta_1$, but only one feature in `data`. (Check the shape of `x` if you are unconvinced.) Since $\\theta_0$ is the y-intercept term, this is the same as if we multiplied $\\theta_0$ by 1, for each <i>m</i> entries. We say that $x_0$ = 1 is a **intercept term**, and we add intercept terms in such cases to ensure that feature vectors and parameter vectors are <b>comformable</b>.\n",
    "\n",
    "With this explanation in mind, add a column of 1's to the single column feature vector within data. We do this first by initializing an $(m, 2)$ array of 1's, then replacing the second column of <i>X</i> with the first column of `data`. This new row of ones is to accommodate the $y$-intercept parameter, $\\theta_0$. The next step is to\n",
    "initialize a $(1, 2)$ array of zeros, called `theta` , which initializes the values for $\\theta_0$ and $\\theta_1$, respectively. Our gradient descent algorithm will update `theta` in order to minimize the cost function <i>J</i>.\n",
    "\n",
    "Running the next cell initializes the variables `x` and `theta` for you."
   ]
  },
  {
   "cell_type": "code",
   "execution_count": 9,
   "metadata": {
    "deletable": false,
    "editable": false,
    "nbgrader": {
     "cell_type": "code",
     "checksum": "8ae1fd9d210acb74b6ed2412f8f3b078",
     "grade": false,
     "grade_id": "cell-bbc0ed832ebb3d2e",
     "locked": true,
     "schema_version": 3,
     "solution": false,
     "task": false
    }
   },
   "outputs": [],
   "source": [
    "# initialize data array\n",
    "X = np.ones((m, 2))\n",
    "X[:,1] = data[:,0]\n",
    "# initalize model\n",
    "theta = np.zeros(2)"
   ]
  },
  {
   "cell_type": "markdown",
   "metadata": {
    "deletable": false,
    "editable": false,
    "nbgrader": {
     "cell_type": "markdown",
     "checksum": "7c28bffa357d4b3aab2135afb6814dd0",
     "grade": false,
     "grade_id": "cell-30394b510bba058a",
     "locked": true,
     "schema_version": 3,
     "solution": false,
     "task": false
    }
   },
   "source": [
    "---\n",
    "## Question 1\n",
    "\n",
    "Suppose that in addition to \"<i>per capita GDP</i>\" you also had the average \"<i>life expectancy</i>\" for each country to use as features in a linear model to estimate each country's <i>happiness score</i>. \n",
    "\n",
    "Which of the following statements are true? Select all and only that apply.\n",
    "\n",
    "* A) $h(\\boldsymbol{x}; \\boldsymbol{\\theta}) = \\theta_0 + \\theta_1x_1 + \\theta_2x_2$\n",
    "* B) $h(\\boldsymbol{x}; \\boldsymbol{\\theta}) = \\theta_0 + \\theta_1x_1 + x_2$\n",
    "* C) $h(\\boldsymbol{x}; \\boldsymbol{\\theta}) = \\theta_0 + \\theta_1x_1 x_2$\n",
    "\n",
    "Suppose now you wish to initialize a data array and parameter vector for this model.  Which block of code could you use for this model?  (Assume as above that the last column of `data` is the target, $y$.)\n",
    "\n",
    "* D) \n",
    "~~~python\n",
    "# initialize data array\n",
    "X = np.ones((m, 3))\n",
    "X[:,1] = data[:,0]\n",
    "# initalize model\n",
    "theta = np.zeros(2)\n",
    "~~~\n",
    "\n",
    "* E) \n",
    "~~~python\n",
    "# initialize data array\n",
    "X = np.ones((m, 3))\n",
    "X[:,0] = data[:,0]\n",
    "X[:,1] = data[:,1]\n",
    "# initalize model\n",
    "theta = np.zeros(3)\n",
    "~~~\n",
    "\n",
    "* F) \n",
    "~~~python\n",
    "# initialize data array\n",
    "X = np.ones((m, 3))\n",
    "X[:,1] = data[:,0]\n",
    "X[:,2] = data[:,1]\n",
    "# initalize model\n",
    "theta = np.zeros(3)\n",
    "~~~\n",
    "\n",
    "From the list of possible answers `['A', 'B', 'C', 'D', 'E', 'F]` , record your answer or answers as a <b>list</b> in the next cell by completing the function `ans_one()`.  For example, if the possible answers were `['P','Q','R']` and you selected P and Q as the correct answers, then you would simply write:\n",
    "~~~python\n",
    "ans = ['P', 'Q']\n",
    "~~~\n",
    "in the function `ans_one()`.\n",
    "\n",
    "---"
   ]
  },
  {
   "cell_type": "code",
   "execution_count": 10,
   "metadata": {
    "deletable": false,
    "nbgrader": {
     "cell_type": "code",
     "checksum": "3b8ecf4e123a6182ce1dc7bf17555fb4",
     "grade": false,
     "grade_id": "ans_one-answer",
     "locked": false,
     "schema_version": 3,
     "solution": true,
     "task": false
    }
   },
   "outputs": [],
   "source": [
    "def ans_one():\n",
    "    \"\"\" Returns a list of your answers.  \n",
    "    \n",
    "    Parameters\n",
    "    ----------\n",
    "    :ans:  list\n",
    "        The list of your answers. Elements of :ans: are strings.\n",
    "    Returns\n",
    "    -------\n",
    "    :ans:\n",
    "    \"\"\"\n",
    "    \n",
    "    # YOUR CODE HERE\n",
    "    ans = ['A','F']\n",
    "    #raise NotImplementedError()\n",
    "    return ans"
   ]
  },
  {
   "cell_type": "code",
   "execution_count": 11,
   "metadata": {
    "deletable": false,
    "editable": false,
    "nbgrader": {
     "cell_type": "code",
     "checksum": "2744205949f1e7e8e7df3d14ca36c00d",
     "grade": true,
     "grade_id": "ans_one-test",
     "locked": true,
     "points": 1,
     "schema_version": 3,
     "solution": false,
     "task": false
    }
   },
   "outputs": [],
   "source": [
    "# test cell for ans_one()\n",
    "ans = ans_one()\n",
    "possible_ans = ['A', 'B', 'C', 'D', 'E', 'F']\n",
    "if type(ans) == list and all(ii in possible_ans for ii in ans):\n",
    "    assert True\n",
    "else:\n",
    "    raise AssertionError(\"Inadmissible answer. Check that your answer to ans_one is the correct format.\")"
   ]
  },
  {
   "cell_type": "markdown",
   "metadata": {
    "deletable": false,
    "editable": false,
    "nbgrader": {
     "cell_type": "markdown",
     "checksum": "bfe04d786ee6a9e67939e063ea0561a9",
     "grade": false,
     "grade_id": "cell-98e89d3a79671865",
     "locked": true,
     "schema_version": 3,
     "solution": false,
     "task": false
    }
   },
   "source": [
    "**Step 2.** Compute the squared-error cost function from above:\n",
    "\\begin{align} \\frac{1}{2m}\\sum_{i=1}^m (h(x^{(i)}; \\boldsymbol{\\theta}) - y^{(i)})^2 \\end{align}\n",
    "\n",
    "The function `costJ(X, y, theta)` takes as arguments the (_m_, 2)-dimension features array, `X` ,the (_m_, 1)-dimension target column vector, `y`, and the initial two-element parameter vector `theta`.\n",
    "\n",
    "There are several ways to implement this code, but a good strategy is to break the operation down into several steps and implement those steps as separate lines of code. Here is one way to attack the problem in two lines of code.\n",
    "\n",
    "<u>First Line of Code</u>\n",
    "\n",
    "Setting aside the indices, notice the general form of the hypothesis: $$h(x; \\boldsymbol{\\theta}) = \\theta_0x_0 + \\theta_1x_1.$$ Our first operation, then, is to multiply each $x^{(i)}$ in the second column of X by $\\theta_1$ and to keep $\\theta_0$ as is, which is why we added a column of 1s to X above: that is, $\\begin{align} x_0 =  1\\end{align}$ for all _m_ training examples. Then, for each estimate you can subtract the corresponding values of $y$.  \n",
    "\n",
    "<div class=\"alert alert-info\"> <b>Hint</b>: We deliberately highlighted the dimensions of the arrays 'X' and ‘theta’ because there is a nice result from matrix algebra. Let $\\boldsymbol{X}$ and $\\boldsymbol{\\theta}$ be:\n",
    "    \n",
    " $$\\boldsymbol{X} = \\begin{bmatrix} \n",
    " \t\t\t\t1 & x_1^{(1)}  \\\\ \n",
    "\t\t\t\t1 & x_1^{(2)}   \\\\ \n",
    "\t\t\t\t1 & x_1^{(3)}   \\\\ \n",
    "\t\t\t\t\\vdots & \\vdots \\\\\n",
    "\t\t\t\t1 & x_1^{(m)}  \n",
    "\t\t\t\\end{bmatrix}\n",
    "\t\t\t%\n",
    "\t\t\t\\quad\n",
    "\t\t\t%\n",
    "\t\t\t%\n",
    " \\boldsymbol{\\theta} = \\begin{bmatrix} \\theta_0 \\\\ \\theta_1\n",
    "\t\\end{bmatrix}$$\n",
    "    \n",
    "Then,    \n",
    "$$\\begin{bmatrix} \n",
    " \t\t\t\t1 \\\\\n",
    "\t\t\t\t1 \\\\\n",
    "\t\t\t\t\\vdots \\\\\n",
    "\t\t\t\t1\n",
    "\t\t   \\end{bmatrix}\n",
    "\\theta_0  +\n",
    "%\n",
    " \\begin{bmatrix} \n",
    " \t\t\t\tx_1^{(1)}  \\\\\n",
    "\t\t\t\tx_1^{(2)}  \\\\\n",
    "\t\t\t\t\\vdots \\\\\n",
    "\t\t\t\tx_1^{(m)} \n",
    "\t\t   \\end{bmatrix}\n",
    "\\theta_1\n",
    "= \n",
    "\\begin{bmatrix} \n",
    " \t\t\t\t\\theta_0 + \\theta_1x^{(1)} \\\\ \n",
    "\t\t\t\t\\theta_0 + \\theta_1x^{(2)} \\\\ \n",
    "\t\t\t\t\\vdots \\\\\n",
    "\t\t\t\t\\theta_0 + \\theta_1x^{(m)} \\\\ \n",
    "\t\t\t\\end{bmatrix} = \\boldsymbol{X\\theta}$$\n",
    "\n",
    "where $\\boldsymbol{X\\theta}$ is an $m \\times 1$ vector. \n",
    "\n",
    "See the tutorial, `ps1-tutorial.ipynb`, for information about `np.dot` specifically, and about matrix multiplication in general.</div>\n",
    "\n",
    "The first step is to compute the difference between each of the $m$ estimates in the vector $\\boldsymbol{X\\theta}$ and the corresponding target values in the vector $y$. The next step is to square this difference, which we may use the built-in NumPy function `np.power(---,---)`.\n",
    "\n",
    "So, the vector of quantities $(h(x; \\boldsymbol{\\theta}) - y^{(i)})^2$ for each _i_ of the _m_ examples can be computed and stored to a local variable `scores` with one line of code of the form\n",
    "\n",
    "~~~python\n",
    "# YOUR CODE HERE\n",
    "scores = np.power(---, ---)\n",
    "return\n",
    "~~~  \n",
    "\n",
    "\n",
    "<u>Second Line of Code</u>\n",
    "\n",
    "What remains is to sum `scores` and divide by the number of training examples multiplied by two. The result should be a scalar saved to the variable `ans`:\n",
    "\n",
    "~~~python\n",
    "# YOUR CODE HERE\n",
    "scores = np.power(---, ---)\n",
    "ans = ---\n",
    "return ans\n",
    "~~~\n",
    "\n",
    "where `ans` will use the value computed in the first line of code and saved to the variable `scores`. \n"
   ]
  },
  {
   "cell_type": "code",
   "execution_count": 12,
   "metadata": {
    "deletable": false,
    "nbgrader": {
     "cell_type": "code",
     "checksum": "979c88f3536c3cc985b98515affebcec",
     "grade": false,
     "grade_id": "costJ",
     "locked": false,
     "schema_version": 3,
     "solution": true,
     "task": false
    }
   },
   "outputs": [],
   "source": [
    "def costJ(X, y, theta):\n",
    "    \"\"\"Implement the squared-error cost function, compute_cost_J.\n",
    "    compute_cost_J(X, y, theta) computes the cost of using the\n",
    "    theta to parameterize a linear regression hypothesis to fit\n",
    "    the data in X and y.\n",
    "    \"\"\"\n",
    "    # Your line of Code\n",
    "                    \n",
    "    scores = np.power((np.dot(X,theta) - y),2) #Finding error cost\n",
    "\n",
    "    ans = np.divide(np.sum(scores),np.multiply(2,m))\n",
    "    \n",
    "    #raise NotImplementedError()\n",
    "    return ans"
   ]
  },
  {
   "cell_type": "code",
   "execution_count": 13,
   "metadata": {
    "deletable": false,
    "editable": false,
    "nbgrader": {
     "cell_type": "code",
     "checksum": "6bb4f2067146165e30330da64d386fa9",
     "grade": true,
     "grade_id": "costJ-test1",
     "locked": true,
     "points": 1,
     "schema_version": 3,
     "solution": false,
     "task": false
    }
   },
   "outputs": [],
   "source": [
    "\"\"\"Test cell 1 for costJ\"\"\"\n",
    "assert round(costJ(X,y,theta), 1) == 15.0"
   ]
  },
  {
   "cell_type": "code",
   "execution_count": 14,
   "metadata": {
    "deletable": false,
    "editable": false,
    "nbgrader": {
     "cell_type": "code",
     "checksum": "ded5137b7a4a0c66af4628d4dce2ec54",
     "grade": true,
     "grade_id": "costJ-test2",
     "locked": true,
     "points": 1,
     "schema_version": 3,
     "solution": false,
     "task": false
    }
   },
   "outputs": [
    {
     "data": {
      "text/plain": [
       "'Test cell 2 for costJ'"
      ]
     },
     "execution_count": 14,
     "metadata": {},
     "output_type": "execute_result"
    }
   ],
   "source": [
    "\"\"\"Test cell 2 for costJ\"\"\""
   ]
  },
  {
   "cell_type": "markdown",
   "metadata": {
    "deletable": false,
    "editable": false,
    "nbgrader": {
     "cell_type": "markdown",
     "checksum": "881a9da468b77b7ba18c4b9b60379f3f",
     "grade": false,
     "grade_id": "cell-4d71ef4a29312e25",
     "locked": true,
     "schema_version": 3,
     "solution": false,
     "task": false
    }
   },
   "source": [
    "**Step 3**. We now turn to the implementation of gradient descent. The function,\n",
    "    \n",
    "    batchGradientDescent(X, y, theta, alpha, num_iterations)\n",
    "    \n",
    "takes 5 arguments:\n",
    "\n",
    "    X - an array of features from data\n",
    "    y - an array of labels from data\n",
    "    theta - an array of parameters that gradient descent adjust to minimize loss according to J_cost\n",
    "    alpha - the learning rate\n",
    "    num_iterations - the number of iterations that the algorithm runs before terminating.\n",
    "\n",
    "The loop structure to iterate gradient descent `num_iterations` times is given for you. What is missing are the simultaneous updates of the two components of __$\\theta$__, namely $\\theta_0$ and $\\theta_1$.\n",
    "\n",
    "\n",
    "\n",
    "__Gradient Descent Algorithm__\n",
    "\n",
    "    Enter loop\n",
    "        Repeat:\n",
    "               \n",
    "$$\\theta_0=:\\theta_0 - \\alpha \\frac{\\partial} {\\partial \\theta_0} J(\\theta_0, \\theta_1)$$\n",
    "$$\\theta_1=:\\theta_1 - \\alpha \\frac{\\partial} {\\partial \\theta_1} J(\\theta_0, \\theta_1)$$\n",
    "         \n",
    "        Stop at convergence\n",
    "    Exit loop\n",
    "    \n",
    "\n",
    "What you will need to do complete two steps within the for loop, namely update theta and create a history of the computed cost function _J($\\theta$)_ for each\n",
    "iteration of the algorithm.\n",
    "\n",
    "\n",
    "__1. Update theta__\n",
    "\n",
    "The code initializes `theta_new` as a copy of theta. Within the for loop, your simultaeous update of `theta_new` should be completed in one line of\n",
    "_vectorized code_:\n",
    "\n",
    "```python \n",
    "--- -= --- <operation> np.dot(---, ---) <operation> --- \n",
    "```\n",
    "            \n",
    "which may involve the following additional pieces, not necessarily in order,  may be used more than once:\n",
    "\n",
    "  * \\`X`\n",
    "  * \\`y`\n",
    "  * \\`theta_new`\n",
    "  * \\`X.T`, the transposition of X\n",
    "  * \\`alpha`\n",
    "  * \\`np.dot(---,---) (operation) ----`\n",
    "  * with \\`(operation)` from the set {—, *, /}\n",
    "\n",
    "<div class=\"alert alert-info\"> <b>Hint</b>: The partial derivative terms for each component $\\theta_j$ of the parameter vector $\\boldsymbol{\\theta}$ for is:\n",
    "$$\n",
    "\\theta_j:   {\\frac{\\partial}{\\partial\\theta_j}  J(\\theta_1, \\ldots, \\theta_j \\ldots, \\theta_n)} =  \\frac{1}{m} \\sum_{i=1}^m (h(x^{(i)}; \\boldsymbol{\\theta}) - y^{(i)}) \\cdot x_j^{(i)}, $$\n",
    "where $x_j^{(i)} = 1$ for all $i$. \n",
    "    \n",
    "We saw above that $h(x^{(i)}; \\boldsymbol{\\theta}) - y^{(i)})$ is calculated by $X \\theta$. Then, the partial derivatives are either computed by $(X \\theta) X$ or $(X \\theta) X^T$. Which is it? Why? </div>\n",
    "  \n",
    "__2. Store history of the cost function J__\n",
    "\n",
    "The second step is to write into the $j$th element of the vector `J_history` the result from computing the cost determined by executing costJ using `theta_new` that was just updated in the $j$th iternation. Bear in mind that `ii` is used as the index for `num_iterations`, to avoid confusing this for indices used to index rows ($i$) and columns ($j$) of our training set.\n",
    "___\n",
    "\n",
    "Now, complete the implementation of gradient descent."
   ]
  },
  {
   "cell_type": "code",
   "execution_count": 15,
   "metadata": {
    "deletable": false,
    "nbgrader": {
     "cell_type": "code",
     "checksum": "421667b45c33b5ea5e9d5511dce564a8",
     "grade": false,
     "grade_id": "cell-c89997583053c8e9",
     "locked": false,
     "schema_version": 3,
     "solution": true,
     "task": false
    }
   },
   "outputs": [],
   "source": [
    "def batchGradientDescent(X, y, theta, alpha, num_iterations):\n",
    "    \"\"\"gradient_descent performs batch gradient descent to minimize theta and return a history\n",
    "    of the gradient steps to plot.\n",
    "\n",
    "    gradient_descent updates theta by taking a number of gradient steps, fixed by the\n",
    "    parameter num_iterations, where the size of those steps is determined by the learning\n",
    "\n",
    "    rate, alpha.\n",
    "    \"\"\"\n",
    "    ## Initialize variables\n",
    "    # m is the number of training samples\n",
    "    m = len(y)\n",
    "\n",
    "    # J_history is the cost function history, intialized to a vector of zeros\n",
    "    # for each iteration step\n",
    "    J_history = np.zeros(num_iterations)\n",
    "    # initialize theta_new with a copy of theta.\n",
    "    theta_new = theta.copy() \n",
    "    \n",
    "    for ii in range(num_iterations):\n",
    "        # YOUR CODE HERE\n",
    "        # 1st line: update theta_new    \n",
    "        theta_new = theta_new - np.multiply(np.dot(np.transpose(X),np.subtract(np.dot(X,theta_new),y)),(alpha / m))\n",
    "        \n",
    "        # 2nd line: update J_history with compute_cost using theta_new\n",
    "        J_history[ii] = costJ(X,y,theta_new)\n",
    "        \n",
    "        #raise NotImplementedError()\n",
    "\n",
    "    return theta_new, J_history"
   ]
  },
  {
   "cell_type": "markdown",
   "metadata": {
    "deletable": false,
    "editable": false,
    "nbgrader": {
     "cell_type": "markdown",
     "checksum": "06eebdea8ce9b235aeb972b039841a11",
     "grade": false,
     "grade_id": "cell-d15c4c2300cad48a",
     "locked": true,
     "schema_version": 3,
     "solution": false,
     "task": false
    }
   },
   "source": [
    "## III. Running Gradient Descent\n",
    "\n",
    "The next step is to set the learning rate and number of iterations. Setting the correct values for these two parameters depends on the data set. In practise, you would need to try out different values of these parameters to see how your alhorithm performed. But,I provide you with parameter settings that will work if your code up to now is implemented correctly.  \n",
    "\n",
    "Specifically, be sure the next cell has the following parameter values:\n",
    "\n",
    "~~~python\n",
    "## gradient_descent adjustable parameters\n",
    "# learning rate\n",
    "alpha = 0.2\n",
    "#number of iterations\n",
    "iterations = 1100\n",
    "~~~"
   ]
  },
  {
   "cell_type": "code",
   "execution_count": 16,
   "metadata": {},
   "outputs": [],
   "source": [
    "## gradient_descent adjustable parameters\n",
    "# learning rate\n",
    "alpha = 0.2\n",
    "#number of iterations\n",
    "iterations = 1100"
   ]
  },
  {
   "cell_type": "markdown",
   "metadata": {
    "deletable": false,
    "editable": false,
    "nbgrader": {
     "cell_type": "markdown",
     "checksum": "69accbf7d10fea078af35e666a647dde",
     "grade": false,
     "grade_id": "cell-0b798470b6f642c3",
     "locked": true,
     "schema_version": 3,
     "solution": false,
     "task": false
    }
   },
   "source": [
    "Run the next cell to instantiate `alpha` and `iterations`.\n",
    "Now we are ready to run gradient descent with the parameter settings for `alpha` and the number of `iterations` excuting the following line of code in the next cell."
   ]
  },
  {
   "cell_type": "code",
   "execution_count": 17,
   "metadata": {},
   "outputs": [],
   "source": [
    "# run gradient descent\n",
    "theta_new, J_history = batchGradientDescent(X, y, theta, alpha, iterations)\n"
   ]
  },
  {
   "cell_type": "markdown",
   "metadata": {
    "deletable": false,
    "editable": false,
    "nbgrader": {
     "cell_type": "markdown",
     "checksum": "acf0a060e6117dceb606b182635400a4",
     "grade": false,
     "grade_id": "cell-0f71100dcf57f657",
     "locked": true,
     "schema_version": 3,
     "solution": false,
     "task": false
    }
   },
   "source": [
    "Gradient descent (correctly parameterized by `alpha` and `iterations`) returns values for $\\theta_0$ and $\\theta_1$ stored in `theta_new`,along with `J_history`.\n",
    "\n",
    "Run the next cell to see the values for $\\theta_0$ and $\\theta_1$."
   ]
  },
  {
   "cell_type": "code",
   "execution_count": 18,
   "metadata": {},
   "outputs": [
    {
     "data": {
      "text/plain": [
       "array([3.22558776, 2.164952  ])"
      ]
     },
     "execution_count": 18,
     "metadata": {},
     "output_type": "execute_result"
    }
   ],
   "source": [
    "# Check the output of batchGradientDescent\n",
    "theta_new"
   ]
  },
  {
   "cell_type": "markdown",
   "metadata": {
    "deletable": false,
    "editable": false,
    "nbgrader": {
     "cell_type": "markdown",
     "checksum": "df2cc9c121cf7cd772f161063f47fb60",
     "grade": false,
     "grade_id": "cell-ef954a0cd14dbbf5",
     "locked": true,
     "schema_version": 3,
     "solution": false,
     "task": false
    }
   },
   "source": [
    "When implemented correctly, running `batchGradientDescent` on `data` with learning rate `alpha = 0.2` and `iterations = 1300` should return a value for $\\theta_0$ that is aproximately $3.20$ and a value for $\\theta_1$ that is aproximately $2.18$, and `J_history` should be an array of monotonically decreasing values.\n",
    "\n",
    "\n",
    "Run the following test cells to check. Note that there are hidden test cells that will be used for grading."
   ]
  },
  {
   "cell_type": "code",
   "execution_count": null,
   "metadata": {
    "deletable": false,
    "editable": false,
    "nbgrader": {
     "cell_type": "code",
     "checksum": "9794e8e1f4254216aaa4f428146048f4",
     "grade": true,
     "grade_id": "BGD-test1",
     "locked": true,
     "points": 1,
     "schema_version": 3,
     "solution": false,
     "task": false
    }
   },
   "outputs": [],
   "source": []
  },
  {
   "cell_type": "code",
   "execution_count": null,
   "metadata": {
    "deletable": false,
    "editable": false,
    "nbgrader": {
     "cell_type": "code",
     "checksum": "12eb336ff8b4490a14a2e4a8981fc922",
     "grade": true,
     "grade_id": "BDG-test2",
     "locked": true,
     "points": 1,
     "schema_version": 3,
     "solution": false,
     "task": false
    }
   },
   "outputs": [],
   "source": []
  },
  {
   "cell_type": "code",
   "execution_count": null,
   "metadata": {
    "deletable": false,
    "editable": false,
    "nbgrader": {
     "cell_type": "code",
     "checksum": "c3368ce692907c40c2264c994d637e39",
     "grade": true,
     "grade_id": "BGD-test3",
     "locked": true,
     "points": 1,
     "schema_version": 3,
     "solution": false,
     "task": false
    }
   },
   "outputs": [],
   "source": []
  },
  {
   "cell_type": "markdown",
   "metadata": {
    "deletable": false,
    "editable": false,
    "nbgrader": {
     "cell_type": "markdown",
     "checksum": "6bd1dfd2461636987664dba5eb752558",
     "grade": false,
     "grade_id": "cell-9171f4c3368f3043",
     "locked": true,
     "schema_version": 3,
     "solution": false,
     "task": false
    }
   },
   "source": [
    "## IV. Visualization, Tuning, and Debugging\n",
    "\n",
    "### Plotting the history of J\n",
    "\n",
    "The variable J_history stores the computed cost function for each iteration of batchGradientDescent , which for our example we set to 1100 iterations. How do we determine that number of iterations is long enough to converge? One way to do this is to plot the value of $J(\\theta)$ at each iteration to see its\n",
    "performance.\n",
    "\n",
    "The next cell plots `J_history` with your initial parameters.  If your implementation is correct, your cost function should decrease with each iteration and loosely resemble the following plot:   \n",
    "\n",
    "<img src=\"ps1-fig1.png\" alt=\"sample learning rate\" style=\"width: 400px;\"/>\n",
    "\n",
    "<div class=\"alert alert-info\"><b>Hint:</b> You can use this plot to check whether you have implemented `batchGradientDescent` correctly, and perhaps to give you clues about how to correct\n",
    "your code if you find something amiss.</div>"
   ]
  },
  {
   "cell_type": "code",
   "execution_count": 19,
   "metadata": {},
   "outputs": [
    {
     "data": {
      "text/plain": [
       "Text(0,0.5,'$J(\\\\theta)$')"
      ]
     },
     "execution_count": 19,
     "metadata": {},
     "output_type": "execute_result"
    },
    {
     "data": {
      "image/png": "[encoded data removed]",
      "text/plain": [
       "<Figure size 432x288 with 1 Axes>"
      ]
     },
     "metadata": {},
     "output_type": "display_data"
    }
   ],
   "source": [
    "# Plot cost function vs. iteration\n",
    "plt.plot(J_history)\n",
    "plt.xlabel(r'Iteration number' )\n",
    "plt.ylabel(r'$J(\\theta)$')"
   ]
  },
  {
   "cell_type": "markdown",
   "metadata": {
    "deletable": false,
    "editable": false,
    "nbgrader": {
     "cell_type": "markdown",
     "checksum": "f86d6c82d8b21cdcf2b0b82cc418071d",
     "grade": false,
     "grade_id": "cell-5fa3a70db0fd500e",
     "locked": true,
     "schema_version": 3,
     "solution": false,
     "task": false
    }
   },
   "source": [
    "### Selecting Learning Rates\n",
    "\n",
    "We selected the learning rate `alpha = 0.2` and `num_iterations = 1100`. The previous plot should give you clues about how to improve the model.  What should you do? You can adjust either the learning rate `alpha` or the number of iterations `iters`. \n",
    "\n",
    "Let's look at the case where `iters = 20` and ask whether a different learning rate would be better in terms of minimizing $J(\\theta)$ within the first 20 iterations. To look at a several learning rates at once, we can define a list\n",
    "\n",
    "~~~python\n",
    "alphas = [ ---, ---, ---, ---, ---]\n",
    "iters = 20\n",
    "~~~\n",
    "\n",
    "to compute and plot different learning rates at once.\n",
    "\n",
    "In the next cell, supply a range of learning rates, to plot and compare with respect to a fixed number of iterations. Note that in this plot we only look at the first 20 iterations.\n",
    "\n",
    "Run the next cell, then answer the Question 2."
   ]
  },
  {
   "cell_type": "code",
   "execution_count": 20,
   "metadata": {
    "scrolled": true
   },
   "outputs": [
    {
     "name": "stdout",
     "output_type": "stream",
     "text": [
      "0.84\n"
     ]
    },
    {
     "data": {
      "image/png": "[encoded data removed]",
      "text/plain": [
       "<Figure size 432x288 with 1 Axes>"
      ]
     },
     "metadata": {},
     "output_type": "display_data"
    }
   ],
   "source": [
    "alphas = np.arange(0,1,0.01)\n",
    "iters = 20\n",
    "J = [] # For getting min value of J history \n",
    "alpha_list = [] # For gettting alpha values\n",
    "\n",
    "for aa in alphas:\n",
    "    theta_new, J_history = batchGradientDescent(X, y, theta, aa, iters)\n",
    "    #if np.min(J_history) <j:\n",
    "    a = np.min(J_history)\n",
    "    J.append(a)\n",
    "    alpha_list.append(aa)\n",
    "    plt.plot(J_history, label='learning rate={0}'.format(aa) )\n",
    "\n",
    "print(alpha_list[np.argmin(J)])"
   ]
  },
  {
   "cell_type": "markdown",
   "metadata": {
    "deletable": false,
    "editable": false,
    "nbgrader": {
     "cell_type": "markdown",
     "checksum": "d6bf9aa7513ee5ee14ba38a1f65eab00",
     "grade": false,
     "grade_id": "cell-fb0a79d046b5e584",
     "locked": true,
     "schema_version": 3,
     "solution": false,
     "task": false
    }
   },
   "source": [
    "---\n",
    "## Question 2\n",
    "\n",
    "What is the learning rate `alpha` that yields the lowest score $J(\\theta)$ after exactly 20 iterations? Limit your search to values of `alpha` to two decimal places.  For example, if `alpha = 0.07` is your answer, you would finish function `ans_two()` by writing\n",
    "\n",
    "~~~python\n",
    "num = 0.07\n",
    "~~~\n",
    "\n",
    "Enter your answer below.\n",
    "\n",
    "---"
   ]
  },
  {
   "cell_type": "code",
   "execution_count": 21,
   "metadata": {
    "deletable": false,
    "nbgrader": {
     "cell_type": "code",
     "checksum": "1ae3517551bf7c3c64a3ebb143f7f06d",
     "grade": false,
     "grade_id": "ans_two",
     "locked": false,
     "schema_version": 3,
     "solution": true,
     "task": false
    }
   },
   "outputs": [],
   "source": [
    "def ans_two():\n",
    "    \"\"\" Returns a list of your answers.  \n",
    "    \n",
    "    Parameters\n",
    "    ----------\n",
    "    :ans:  list\n",
    "        The list of your answers. Elements of :ans: are strings.\n",
    "    Returns\n",
    "    -------\n",
    "    :ans:\n",
    "    \"\"\"\n",
    "    \n",
    "    num = 0.84\n",
    "    #raise NotImplementedError()\n",
    "    return num"
   ]
  },
  {
   "cell_type": "code",
   "execution_count": 22,
   "metadata": {
    "deletable": false,
    "editable": false,
    "nbgrader": {
     "cell_type": "code",
     "checksum": "c4872ce5af3eeb4a89692d6110788ca4",
     "grade": true,
     "grade_id": "cell-74cfd101ab4b180f",
     "locked": true,
     "points": 0.25,
     "schema_version": 3,
     "solution": false,
     "task": false
    }
   },
   "outputs": [],
   "source": [
    "num = ans_two()\n",
    "if type(num) == float and num == round(num,2):\n",
    "    assert True\n",
    "else:\n",
    "    raise AssertionError(\"Check that your answer is a float and rounded to two decimal places\")"
   ]
  },
  {
   "cell_type": "code",
   "execution_count": null,
   "metadata": {
    "deletable": false,
    "editable": false,
    "nbgrader": {
     "cell_type": "code",
     "checksum": "b95f2850eecf139cd379ff79e2581d34",
     "grade": true,
     "grade_id": "cell-b8fa64c75b3c251c",
     "locked": true,
     "points": 0.25,
     "schema_version": 3,
     "solution": false,
     "task": false
    }
   },
   "outputs": [],
   "source": []
  },
  {
   "cell_type": "code",
   "execution_count": null,
   "metadata": {
    "deletable": false,
    "editable": false,
    "nbgrader": {
     "cell_type": "code",
     "checksum": "91b465e8254c763f95f8829c0e49d7e0",
     "grade": true,
     "grade_id": "ans_two-test1",
     "locked": true,
     "points": 0.5,
     "schema_version": 3,
     "solution": false,
     "task": false
    }
   },
   "outputs": [],
   "source": []
  },
  {
   "cell_type": "markdown",
   "metadata": {
    "deletable": false,
    "editable": false,
    "nbgrader": {
     "cell_type": "markdown",
     "checksum": "ce8ec0953069ac0e60ffd6eb0286f264",
     "grade": false,
     "grade_id": "cell-a110ae97236a41a7",
     "locked": true,
     "schema_version": 3,
     "solution": false,
     "task": false
    }
   },
   "source": [
    "---\n",
    "## Question 3\n",
    "\n",
    "Which are true? Mark all and only that apply.\n",
    "\n",
    "Suppose that $J(\\boldsymbol{\\theta})$ is a continuously differentiable and convex function and $\\theta$ is in $\\mathbb{R}^2$.\n",
    "\n",
    "  * A) Gradient Descent is guaranteed to converge to a local minima of <em>h</em> for all learning rates <em>α</em>.\n",
    "  * B) Gradient Descent is guaranteed to converge to a local minima of <em>h</em> for some learning rates <em>α</em>\n",
    "  * C) There is no learning rate <em>α</em> such that Gradient Descent is guaranteed to converge to a local minima of <em>h</em>\n",
    "  *  D) The gradient of <em>h</em> is zero at the minimum.\n",
    "  * E) The gradient of <em>J</em> points in the direction in $\\mathbb{R}^2$ of the steepest increase in the value of <em>J</em>\n",
    "---"
   ]
  },
  {
   "cell_type": "code",
   "execution_count": 24,
   "metadata": {
    "deletable": false,
    "nbgrader": {
     "cell_type": "code",
     "checksum": "b75a2021f0ad40a209b44d4767295039",
     "grade": false,
     "grade_id": "ans_three",
     "locked": false,
     "schema_version": 3,
     "solution": true,
     "task": false
    }
   },
   "outputs": [],
   "source": [
    "def ans_three():\n",
    "    \"\"\" Returns a list of your answers.  \n",
    "    \n",
    "    Parameters\n",
    "    ----------\n",
    "    :ans:  list\n",
    "        The list of your answers. Elements of :ans: are strings.\n",
    "    Returns\n",
    "    -------\n",
    "    :ans:\n",
    "    \"\"\"\n",
    " \n",
    "    # YOUR CODE HERE\n",
    "    ans = ['B','D','E']\n",
    "    #raise NotImplementedError()\n",
    "    return ans"
   ]
  },
  {
   "cell_type": "code",
   "execution_count": 25,
   "metadata": {
    "deletable": false,
    "editable": false,
    "nbgrader": {
     "cell_type": "code",
     "checksum": "b928220d6781a1e5b860e37fbaf69f0a",
     "grade": true,
     "grade_id": "ans_three-test",
     "locked": true,
     "points": 1,
     "schema_version": 3,
     "solution": false,
     "task": false
    }
   },
   "outputs": [],
   "source": [
    "# test cell for ans_three()\n",
    "ans = ans_three()\n",
    "possible_ans = ['A', 'B', 'C', 'D', 'E']\n",
    "if type(ans) == list and any(ii in ans for ii in possible_ans):\n",
    "    assert True\n",
    "else:\n",
    "    raise AssertionError(\"Inadmissible answer. Check that your answer to ans_one is the correct format.\")"
   ]
  },
  {
   "cell_type": "markdown",
   "metadata": {
    "deletable": false,
    "editable": false,
    "nbgrader": {
     "cell_type": "markdown",
     "checksum": "3f1e9f19e4acaedd0e53c36995802967",
     "grade": false,
     "grade_id": "cell-1f23e9f991d222b8",
     "locked": true,
     "schema_version": 3,
     "solution": false,
     "task": false
    }
   },
   "source": [
    "---\n",
    "## Question 4\n",
    "\n",
    "Instead of Gradient Descent, which yields an approximate solution to OLS regression, we can instead use the Normal Equation to calculate an analytical solution. \n",
    "\n",
    "Which of the following are true about the Normal Equation? Mark all and only that apply.\n",
    "\n",
    "  * A) The number of features must be less than the number of training examples.\n",
    "  * B) There is no learning rate hyperparameter to choose.\n",
    "  * C) There is no need to iterate.\n",
    "  * D) The speed of computing the normal equation slows exponentially as the number of features increases\n",
    "  * E) The speed of computing the normal equation slows exponentially as the number of training examples increases\n",
    "\n",
    "---"
   ]
  },
  {
   "cell_type": "code",
   "execution_count": 26,
   "metadata": {
    "deletable": false,
    "nbgrader": {
     "cell_type": "code",
     "checksum": "e9937c9179e5cee78d01dce19a64f05f",
     "grade": false,
     "grade_id": "ans_four",
     "locked": false,
     "schema_version": 3,
     "solution": true,
     "task": false
    }
   },
   "outputs": [],
   "source": [
    "def ans_four():\n",
    "    \"\"\" Returns a list of your answers.  \n",
    "    \n",
    "    Parameters\n",
    "    ----------\n",
    "    :ans:  list\n",
    "        The list of your answers. Elements of :ans: are strings.\n",
    "    Returns\n",
    "    -------\n",
    "    :ans:\n",
    "    \"\"\"\n",
    "    \n",
    "    # YOUR CODE HERE\n",
    "    ans = ['B','C','D']\n",
    "    #raise NotImplementedError()\n",
    "    return ans"
   ]
  },
  {
   "cell_type": "code",
   "execution_count": null,
   "metadata": {
    "deletable": false,
    "editable": false,
    "nbgrader": {
     "cell_type": "code",
     "checksum": "553f5556618e30ded83f7d4c16680734",
     "grade": true,
     "grade_id": "ans_four-test",
     "locked": true,
     "points": 1,
     "schema_version": 3,
     "solution": false,
     "task": false
    }
   },
   "outputs": [],
   "source": []
  },
  {
   "cell_type": "markdown",
   "metadata": {
    "deletable": false,
    "editable": false,
    "nbgrader": {
     "cell_type": "markdown",
     "checksum": "d1316901f0e8b35646eb7ea47c7b9d8f",
     "grade": false,
     "grade_id": "cell-0804cea1022eff24",
     "locked": true,
     "schema_version": 3,
     "solution": false,
     "task": false
    }
   },
   "source": [
    "# PART B - SciKit-Learn Linear Regression\n",
    "\n",
    "Naturally, there are built-in libraries for regression models.  In fact, it just takes a few lines of code once we import `LinearRegression` from the `linear_model` methods in the `sklearn` (scikit-learn) library."
   ]
  },
  {
   "cell_type": "code",
   "execution_count": 27,
   "metadata": {
    "deletable": false,
    "editable": false,
    "nbgrader": {
     "cell_type": "code",
     "checksum": "37ff5bdf8e64ee3738bd3e1cdbd914b7",
     "grade": false,
     "grade_id": "cell-efc7c77c6494db74",
     "locked": true,
     "schema_version": 3,
     "solution": false,
     "task": false
    }
   },
   "outputs": [],
   "source": [
    "# import sklearn linear regression \n",
    "from sklearn.linear_model import LinearRegression"
   ]
  },
  {
   "cell_type": "markdown",
   "metadata": {
    "deletable": false,
    "editable": false,
    "nbgrader": {
     "cell_type": "markdown",
     "checksum": "efc0886dd9e4690162488fbffa2e82ac",
     "grade": false,
     "grade_id": "cell-2936014478ce7c0f",
     "locked": true,
     "schema_version": 3,
     "solution": false,
     "task": false
    }
   },
   "source": [
    "Sklearn uses a common [API](https://en.wikipedia.org/wiki/Application_programming_interface) for building models. So, the sequence we follow to build a simple linear model resembles the sequence of steps for building a wide range of models.  It is good, therefore, to become aquainted with this tool.\n",
    "\n",
    "Basically, there are two steps:\n",
    "\n",
    " - Instantiate a model\n",
    "  \n",
    " - Fit the model\n",
    "\n",
    "Followed by plotting and some rudimentary anlysis of the model. Later in the course we will add a third step, which involves making predictions and evaluating the accuracy of those predictions."
   ]
  },
  {
   "cell_type": "code",
   "execution_count": 28,
   "metadata": {},
   "outputs": [
    {
     "data": {
      "text/plain": [
       "LinearRegression(copy_X=True, fit_intercept=True, n_jobs=1, normalize=False)"
      ]
     },
     "execution_count": 28,
     "metadata": {},
     "output_type": "execute_result"
    }
   ],
   "source": [
    "# instantiate model\n",
    "model = LinearRegression()\n",
    "# fit the model\n",
    "model.fit(X, y)"
   ]
  },
  {
   "cell_type": "markdown",
   "metadata": {
    "deletable": false,
    "editable": false,
    "nbgrader": {
     "cell_type": "markdown",
     "checksum": "bcf12682a14d1ce50cbeb128201723ce",
     "grade": false,
     "grade_id": "cell-018717d26ed6eb9e",
     "locked": true,
     "schema_version": 3,
     "solution": false,
     "task": false
    }
   },
   "source": [
    "And that's it! \n",
    "\n",
    "How does this method relate to what you did in PART A?  To retrieve the parameters, we apply the following methods to `model`:\n",
    "\n",
    " - `.intercept_`\n",
    " - `.coef_`\n",
    " \n",
    "Note that the trailing underscore `_` is simply used to avoid naming conflicts in sklearn. You can interpret each as giving you the intercept ($\\theta_0$) and the remaining coefficients ($\\theta_1, \\theta_2, \\ldots$) in your model, respectively. Here (hopefully!) some of what you learned in PART A can be useful to understand what the next lines of code are doing. \n",
    "\n",
    "Specifically, since sklearn linear regression can model multiple regression problems (i.e., problems with 2 or more features), the method `.coef_` returns an np.array rather than single number.  Hence, to retrieve the parameter value for $\\theta_1$, we index by `[1]` into this array. "
   ]
  },
  {
   "cell_type": "code",
   "execution_count": 29,
   "metadata": {},
   "outputs": [
    {
     "name": "stdout",
     "output_type": "stream",
     "text": [
      "theta_0: 3.2255877706752263\n",
      "theta_1: 2.1649519939763175\n"
     ]
    }
   ],
   "source": [
    "#print theta0 and theta1\n",
    "print('theta_0:', model.intercept_)\n",
    "print('theta_1:', model.coef_[1])  # model.coef_ returns an array"
   ]
  },
  {
   "cell_type": "markdown",
   "metadata": {
    "deletable": false,
    "editable": false,
    "nbgrader": {
     "cell_type": "markdown",
     "checksum": "5f6afe111fe1cc6fb453764d0bd6a187",
     "grade": false,
     "grade_id": "cell-3344f2765f1b6622",
     "locked": true,
     "schema_version": 3,
     "solution": false,
     "task": false
    }
   },
   "source": [
    "Compare the values you computed here to those you computed above.  \n",
    "\n",
    "Next, we produce a plot. "
   ]
  },
  {
   "cell_type": "code",
   "execution_count": 30,
   "metadata": {},
   "outputs": [
    {
     "data": {
      "text/plain": [
       "[<matplotlib.lines.Line2D at 0x7fdf0fa6cfd0>]"
      ]
     },
     "execution_count": 30,
     "metadata": {},
     "output_type": "execute_result"
    },
    {
     "data": {
      "image/png": "[encoded data removed]",
      "text/plain": [
       "<Figure size 432x288 with 1 Axes>"
      ]
     },
     "metadata": {},
     "output_type": "display_data"
    }
   ],
   "source": [
    "plt.scatter(x, y)\n",
    "plt.title('2017 World Happiness by Country')\n",
    "plt.xlabel(r'Per Capita GPD')\n",
    "plt.ylabel(r'Happiness Score')\n",
    "plt.plot(x, model.predict(X),color='r')"
   ]
  },
  {
   "cell_type": "markdown",
   "metadata": {
    "deletable": false,
    "editable": false,
    "nbgrader": {
     "cell_type": "markdown",
     "checksum": "ea0a77ce6d44b1af2d50a91771e74ca4",
     "grade": false,
     "grade_id": "cell-8b0a718a767976dd",
     "locked": true,
     "schema_version": 3,
     "solution": false,
     "task": false
    }
   },
   "source": [
    "The <b>coefficient of determination</b> or \"r-squared\", $r^2$, is a measure of how well a linear regression model fits our data.  Put more carefully, $r^2$ measures how much of the variation in the data is explained by the (best fit) model $h(x; \\theta)$:\n",
    "\n",
    "$$ r^2 := 1- \\frac{SE \\, \\hat{y}}{SE \\, \\overline{y}} $$\n",
    "\n",
    "where $SE \\,\\hat{y}$ is the squared error of the estimator $\\hat{y} = h(x; \\theta)$, otherwise known as the residual sum of squares (RSS), and $SE \\, \\overline{y}$ is the total sum of squares, defined by \n",
    "\n",
    "$$ SE \\, \\overline{y} = \\sum_{i = 1}^{m}(y^{(i)} - \\overline{y})$$ \n",
    "\n",
    "where $\\overline{y}$ is the mean of the $m$ observed $y^{(i)}$'s. \n",
    "\n",
    "Although we are working with squared residuals, notice that we are asking a different question.  Until now, we have used squared error as a performance measure to find the best fitting linear model to our data.  The coefficient of determination is used to evaluate a model selection question, not a model fitting question.  The coefficient of determination measures how much variation is explained by your linear model, ranging between 0 (none) to 1 (all). \n",
    "\n",
    "The method `.score(X,y)` returns the $r^2$ of our model.  Note that we need `X`, which includes the column of intercept terms, rather than merely `x`.  "
   ]
  },
  {
   "cell_type": "code",
   "execution_count": 31,
   "metadata": {},
   "outputs": [
    {
     "name": "stdout",
     "output_type": "stream",
     "text": [
      "coefficient of determination: 0.6487826791386584\n"
     ]
    }
   ],
   "source": [
    "r_sq = model.score(X, y)\n",
    "print('coefficient of determination:', r_sq)"
   ]
  },
  {
   "cell_type": "markdown",
   "metadata": {
    "deletable": false,
    "editable": false,
    "nbgrader": {
     "cell_type": "markdown",
     "checksum": "40a2d926733b8622c51557fa9cef47f9",
     "grade": false,
     "grade_id": "cell-fb354467376434b1",
     "locked": true,
     "schema_version": 3,
     "solution": false,
     "task": false
    }
   },
   "source": [
    "Lastly, the [seaborn](https://seaborn.pydata.org/) statistical visualization library is an extension of matplotlib that includes several built-in features that allow you to create appealing and informative graphics.  For instance, we might like to visualize the <b>confidence interval</b> around our model.  The next two lines of code produce a (default) 95% confidence interval, that is, that interval $[L, U]$ is calculated by\n",
    "\n",
    "$$L = \\theta_1 - 1.96(SE\\,\\theta_1) \\qquad U = \\theta_1 - 1.96(SE\\,\\theta_1) $$"
   ]
  },
  {
   "cell_type": "code",
   "execution_count": 32,
   "metadata": {},
   "outputs": [
    {
     "data": {
      "text/plain": [
       "<matplotlib.axes._subplots.AxesSubplot at 0x7fdf08a4b470>"
      ]
     },
     "execution_count": 32,
     "metadata": {},
     "output_type": "execute_result"
    },
    {
     "data": {
      "image/png": "[encoded data removed]",
      "text/plain": [
       "<Figure size 432x288 with 1 Axes>"
      ]
     },
     "metadata": {},
     "output_type": "display_data"
    }
   ],
   "source": [
    "import seaborn as sns\n",
    "sns.set_style(\"ticks\")\n",
    "sns.regplot(x,y,line_kws = {\"color\": 'r'})"
   ]
  },
  {
   "cell_type": "markdown",
   "metadata": {
    "deletable": false,
    "editable": false,
    "nbgrader": {
     "cell_type": "markdown",
     "checksum": "b8e7f4bbb8e601bcba9fe581618ec6d0",
     "grade": false,
     "grade_id": "cell-e85f30c72c0a163e",
     "locked": true,
     "schema_version": 3,
     "solution": false,
     "task": false
    }
   },
   "source": [
    "# PART C - Your Turn\n",
    "\n",
    "Let's review. In Part A you focused on the mechanics of <b>gradient descent</b>, how the mathematical components of <b>ordinary least squares regression</b> (OLS) regression can be represented and computed by NumPy element-wise array operations, and how those computational components fit together into an implementation of Batch Gradient Descent.  You then ran your implementation of gradient descent to find approximate solutions for the parameter of coefficients, $\\boldsymbol{\\theta}$, and recorded a step-wise history of values of the cost function, showing the progress of the algorithm in finding values of $\\boldsymbol{\\theta}$ taht minimize $J(\\boldsymbol{\\theta})$.  In Part B you used the SciKit-Learn library to confirm the parameter values, were introduced to the \"logic\" of the sklearn API (which you will see more of, later in the course), were introduced to a method -- $r^2$ to evaluate the model, and a brief introduction to the statistical plotting library <b>seaborn</b>\n",
    "\n",
    "In this section, you will do some of the data preparation work that was done for you to fit a regression model on <b>life expectancy</b>.  The data set `ps1_data2.csv` contains the two columns of data in `ps1_data1.csv` plus a third  column recording the average life expectancy, in years, of each country.\n",
    "\n",
    "<div class=\"alert alert-info\"> <b>Note</b>:\n",
    "The average life expectancy data is scaled to values between 0 and 1. For example, a country whose average lifespan is 77.45 years will appear as 0.7745.\n",
    "</div>\n",
    "\n",
    "Your first task is to run the next cell to load `ps1_data2.csv`.  Then, on your own, you will need to prepare the data set to perform a <b>univariate linear regression model</b> to the explain the target variable <i>happiness</i> from the feature </i> average lifespan.  That is, $x$ will be the life expectancy feature, and $y$ will be the happiness score (as before). "
   ]
  },
  {
   "cell_type": "code",
   "execution_count": 33,
   "metadata": {},
   "outputs": [],
   "source": [
    "data2 = np.loadtxt('ps1_data2.csv', delimiter=',')\n",
    "#data2"
   ]
  },
  {
   "cell_type": "markdown",
   "metadata": {
    "deletable": false,
    "editable": false,
    "nbgrader": {
     "cell_type": "markdown",
     "checksum": "466559189b4f26146c691fe6eb5543e2",
     "grade": false,
     "grade_id": "cell-6451b55b3cb7a74c",
     "locked": true,
     "schema_version": 3,
     "solution": false,
     "task": false
    }
   },
   "source": [
    "Once `data2` is in the right format to use the code you have written in Part A and the libraries introduced to you in Part B, use those tools (and those tools only) to answer each part of Question 5. "
   ]
  },
  {
   "cell_type": "code",
   "execution_count": 34,
   "metadata": {},
   "outputs": [
    {
     "name": "stdout",
     "output_type": "stream",
     "text": [
      "theta_0: 3.291682356622725\n",
      "theta_1: 3.7374824724355054\n",
      "coefficient of determination: 0.5997037800245257\n"
     ]
    }
   ],
   "source": [
    "# A free code cell\n",
    "\n",
    "X = [(1,data2[i][1]) for i in range(len(data2))]\n",
    "\n",
    "y = [data2[i][2] for i in range(len(data2))]\n",
    "\n",
    "# instantiate model\n",
    "# import sklearn linear regression \n",
    "from sklearn.linear_model import LinearRegression\n",
    "model = LinearRegression()\n",
    "# fit the model\n",
    "model.fit(X, y)\n",
    "\n",
    "#print theta0 and theta1\n",
    "print('theta_0:', model.intercept_)\n",
    "print('theta_1:', model.coef_[1])  # model.coef_ returns an array\n",
    "\n",
    "\n",
    "\n",
    "r_sq = model.score(X, y)\n",
    "print('coefficient of determination:', r_sq)"
   ]
  },
  {
   "cell_type": "code",
   "execution_count": 35,
   "metadata": {},
   "outputs": [
    {
     "data": {
      "text/plain": [
       "[<matplotlib.lines.Line2D at 0x7fdf0875c7f0>]"
      ]
     },
     "execution_count": 35,
     "metadata": {},
     "output_type": "execute_result"
    },
    {
     "data": {
      "image/png": "[encoded data removed]",
      "text/plain": [
       "<Figure size 432x288 with 1 Axes>"
      ]
     },
     "metadata": {},
     "output_type": "display_data"
    }
   ],
   "source": [
    "# Becaue data2 coontains two variables x2 is taken\n",
    "x = [data2[i][1] for i in range(len(data2))]\n",
    "plt.scatter(x, y)\n",
    "plt.title('2017 World Happiness by Country')\n",
    "plt.xlabel(r'Average Lifespan')\n",
    "plt.ylabel(r'Happiness Score')\n",
    "plt.plot(x, model.predict(X),color='g')"
   ]
  },
  {
   "cell_type": "markdown",
   "metadata": {
    "deletable": false,
    "editable": false,
    "nbgrader": {
     "cell_type": "markdown",
     "checksum": "029e741e71787d6aad720662935827cd",
     "grade": false,
     "grade_id": "cell-310dd6116d27cb85",
     "locked": true,
     "schema_version": 3,
     "solution": false,
     "task": false
    }
   },
   "source": [
    "---\n",
    "## Question 5\n",
    "\n",
    "Run Gradient descent and sklearn linear regression on `data2`.  Be sure to pick new variables names to ensure that all variables correspond to data set `ps_data2` and not to `ps_data1`. \n",
    "\n",
    "There are four quantities that you will need to report about your OLS univariate regression model explaining happiness scores as a linear function of average life expectancy, which we will refer to as \"model 2\": \n",
    "\n",
    " - a) The value of the intercept parameter $\\theta_0$ of the fitted univariate regression model 2.\n",
    " - b) The value of the coefficient parameter $\\theta_1$ of the fitted univariate regression model 2.\n",
    " - c) The value of the cost function, $J([\\theta_0, \\theta_1])$, on the fitted parameters for model 2.. Note that this is the last value stored in the J_history cost function.\n",
    " - d) The coefficient of determination score of model 2.\n",
    "\n",
    "The test condition for a, b, c, rounds the correct answers to 5 decimal places, using the python function `round(--your answer --, 5)`; the test condition for answer 3 rounds to 3 decimal places. \n",
    "\n",
    "In the following cell, enter the values for for those variables.  Here is the key:\n",
    "\n",
    "~~~python\n",
    "def ans_5():\n",
    "    a =     # a: theta_0 from your fitted model, rounded to 5 decimal places\n",
    "    b =     # b: theta_1 from your fitted model, rounded to 5 decimal places\n",
    "    c =     # c: the last value of the array J_history, rounded to 5 decimal places\n",
    "    d =     # d: r-squared value, rounded to 3 decimal places\n",
    "~~~\n",
    "\n",
    "<div class=\"alert alert-info\"> <b>Hint</b>:\n",
    "If you use tools from Part A and Part B, it is important that they return the same answers (up to 5 decimal places) to those parts of Question 5 that they both can answer. Now the hint: You may want to aim for slightly higher precision for some quantities to ensure the test conditions for all four quantities are satisfied. \n",
    "</div>\n",
    "---"
   ]
  },
  {
   "cell_type": "code",
   "execution_count": 39,
   "metadata": {
    "deletable": false,
    "nbgrader": {
     "cell_type": "code",
     "checksum": "afe9335532e6a3c23182dcc011199292",
     "grade": false,
     "grade_id": "ans_five",
     "locked": false,
     "schema_version": 3,
     "solution": true,
     "task": false
    }
   },
   "outputs": [],
   "source": [
    "def ans_five():\n",
    "    \"\"\" Returns four numerical values of your linear model.  \n",
    "    \n",
    "    Parameters\n",
    "    ----------\n",
    "    :a:  float\n",
    "        The value of theta_0 from your fitted model, rounded to 5 decimal places.\n",
    "    :b:  float\n",
    "        The value of theta_1 from your fitted model, rounded to 5 decimal places\n",
    "    :c:  float\n",
    "        The last value of the array J_history, rounded to 5 decimal places\n",
    "    :d:  float\n",
    "        The calculated r-squared of your fitted model, rounded to 3 decimal places\n",
    "    \n",
    "    Returns\n",
    "    -------\n",
    "    :a:\n",
    "    :b:\n",
    "    :c:\n",
    "    :d:\n",
    "    \"\"\"\n",
    "    # YOUR CODE HERE\n",
    "    a = model.intercept_\n",
    "    b = model.coef_[1]\n",
    "    c = np.round(batchGradientDescent(X, y, theta, alpha, iterations)[1][-1],5)\n",
    "    d = model.score(X, y)\n",
    "    #raise NotImplementedError()\n",
    "    return a, b, c, d  # do not edit\n",
    "   "
   ]
  },
  {
   "cell_type": "code",
   "execution_count": null,
   "metadata": {
    "deletable": false,
    "editable": false,
    "nbgrader": {
     "cell_type": "code",
     "checksum": "899442c373e37bd02a7776efa390d3dc",
     "grade": true,
     "grade_id": "ans_five-test1",
     "locked": true,
     "points": 0.5,
     "schema_version": 3,
     "solution": false,
     "task": false
    }
   },
   "outputs": [],
   "source": []
  },
  {
   "cell_type": "code",
   "execution_count": null,
   "metadata": {
    "deletable": false,
    "editable": false,
    "nbgrader": {
     "cell_type": "code",
     "checksum": "180fe5c6db8c2b1c82bf6d92c86b91fe",
     "grade": true,
     "grade_id": "ans_five-test2",
     "locked": true,
     "points": 0.5,
     "schema_version": 3,
     "solution": false,
     "task": false
    }
   },
   "outputs": [],
   "source": []
  },
  {
   "cell_type": "code",
   "execution_count": null,
   "metadata": {},
   "outputs": [],
   "source": []
  },
  {
   "cell_type": "code",
   "execution_count": null,
   "metadata": {
    "deletable": false,
    "editable": false,
    "nbgrader": {
     "cell_type": "code",
     "checksum": "64ce946b6297c2d6af0d7249b7bafe89",
     "grade": true,
     "grade_id": "ans_five-test3",
     "locked": true,
     "points": 0.5,
     "schema_version": 3,
     "solution": false,
     "task": false
    }
   },
   "outputs": [],
   "source": []
  },
  {
   "cell_type": "code",
   "execution_count": null,
   "metadata": {
    "deletable": false,
    "editable": false,
    "nbgrader": {
     "cell_type": "code",
     "checksum": "029dab0f1ec66d4a98e28d6b3b075fa0",
     "grade": true,
     "grade_id": "ans_five-test4",
     "locked": true,
     "points": 0.5,
     "schema_version": 3,
     "solution": false,
     "task": false
    }
   },
   "outputs": [],
   "source": []
  },
  {
   "cell_type": "code",
   "execution_count": 38,
   "metadata": {
    "deletable": false,
    "editable": false,
    "nbgrader": {
     "cell_type": "code",
     "checksum": "cfd9c23759b8e7705c5ceb8b438db650",
     "grade": true,
     "grade_id": "collaborator_policy_test",
     "locked": true,
     "points": 0,
     "schema_version": 3,
     "solution": false,
     "task": false
    }
   },
   "outputs": [
    {
     "name": "stdout",
     "output_type": "stream",
     "text": [
      "WARNING. Your collaborator list is empty: COLLABORATORS =  []\n",
      "\n",
      " \t By submitting this notebook with an empty collaborators list,\n",
      "\t you confirm that you completed this assignment entirely on your own.\n"
     ]
    }
   ],
   "source": [
    "# Test for Collaborator policy before submission\n",
    "%run -i 'collaboration_test.py'"
   ]
  },
  {
   "cell_type": "markdown",
   "metadata": {
    "deletable": false,
    "editable": false,
    "nbgrader": {
     "cell_type": "markdown",
     "checksum": "b8e3423eab2d375ab13545f053e6275e",
     "grade": false,
     "grade_id": "cell-3855ebc915820d81",
     "locked": true,
     "schema_version": 3,
     "solution": false,
     "task": false
    }
   },
   "source": [
    "Before turning this notebook in, you should do the following steps:\n",
    "  \n",
    "  1. __Restart Kernel__ (Kernel ⟶ Restart and Clear Output)\n",
    "  2. __Run all Cells__ (Cell ⟶ Run All)\n",
    "  3. __Validate__: Press the 'Validate' button\n",
    "  4. __Save File__ (File ⟶ Save and Checkpoint)\n",
    "  5. __Close and Shutdown Kernel__ (File ⟶ Close and Halt)"
   ]
  }
 ],
 "metadata": {
  "kernelspec": {
   "display_name": "Python 3",
   "language": "python",
   "name": "python3"
  },
  "language_info": {
   "codemirror_mode": {
    "name": "ipython",
    "version": 3
   },
   "file_extension": ".py",
   "mimetype": "text/x-python",
   "name": "python",
   "nbconvert_exporter": "python",
   "pygments_lexer": "ipython3",
   "version": "3.7.3"
  }
 },
 "nbformat": 4,
 "nbformat_minor": 4
}
