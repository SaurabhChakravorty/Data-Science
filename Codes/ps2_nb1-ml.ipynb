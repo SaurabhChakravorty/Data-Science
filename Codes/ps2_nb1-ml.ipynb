{
 "cells": [
  {
   "cell_type": "markdown",
   "metadata": {
    "deletable": false,
    "editable": false,
    "nbgrader": {
     "cell_type": "markdown",
     "checksum": "924ed035a207bf4f010dcdda12460b50",
     "grade": false,
     "grade_id": "cell-99e0bc0a673830ab",
     "locked": true,
     "schema_version": 3,
     "solution": false
    }
   },
   "source": [
    "<img src=\"logo-2020.png\" alt=\"frankfurt school hmi\" style=\"width: 160px;\"/>"
   ]
  },
  {
   "cell_type": "markdown",
   "metadata": {
    "deletable": false,
    "editable": false,
    "nbgrader": {
     "cell_type": "markdown",
     "checksum": "c87a2e3c9f856ca7018a64da2a90392f",
     "grade": false,
     "grade_id": "cell-8e6a05f10785a63d",
     "locked": true,
     "schema_version": 3,
     "solution": false
    }
   },
   "source": [
    "---\n",
    "# Assignment 2.1 Logistic Regression  (14 points total)\n",
    "\n",
    "## Instructions\n",
    "\n",
    "The graded portion of Assignment 2 consists of one notebook:\n",
    "\n",
    "    ps2_nb1-ml.ipynb\n",
    "\n",
    "There is also an ungraded tutorial that is recommended:\n",
    "\n",
    "    2-pandas_introduction.ipynb\n",
    "\n",
    "As before, each notebook is designed for cells to be run sequentially.   \n",
    "\n",
    "### Due Dates\n",
    "\n",
    "- <b>Group M</b> 01.03.2019 before 23:59:59 (CET) <br>\n",
    "- <b>Group D</b> 26.02.2019 before 23:59:59 (CET) \n",
    "\n",
    "NB: Machine Learning I is in Group D.\n",
    "\n",
    "### Instructor\n",
    "* Prof. Dr. Gregory Wheeler ([g.wheeler@fs.de](mailto:g.wheeler@fs.de))\n",
    "\n",
    "---\n",
    "### Declare your collaborators\n",
    "You may work alone or in a group. The maximum group size is 4 people. \n",
    "\n",
    "If you work in a group, use the next cell to enter the list of names (first, last) of your collaborators. \n",
    "~~~python\n",
    "# Example\n",
    "COLLABORATORS = ['Stu Dent', 'May Bee', 'Ki Val Storr']\n",
    "~~~\n",
    "You should also familiarize yourself with the collaboration policy on the course Canvas page."
   ]
  },
  {
   "cell_type": "code",
   "execution_count": 37,
   "metadata": {},
   "outputs": [],
   "source": [
    "# Be sure your names are strings\n",
    "COLLABORATORS = ['Gaurav Sharma']"
   ]
  },
  {
   "cell_type": "markdown",
   "metadata": {
    "deletable": false,
    "editable": false,
    "nbgrader": {
     "cell_type": "markdown",
     "checksum": "5ecf973376e556895de86423e6c46680",
     "grade": false,
     "grade_id": "cell-bd11f75c0e54637c",
     "locked": true,
     "schema_version": 3,
     "solution": false
    }
   },
   "source": [
    "# Logistic Regression with Two Features\n",
    "\n",
    "Suppose your task is to predict the solvency of a firm based on two financial indicators: the firm's <i>return on equity</i> and the firm's <i>current ratio</i>.  <b>Return on Equity</b> (ROE) is a financial indicator which measures how much profit a firm generates with the equity invested by its shareholders. A positive value is good, whereas a negative value is bad. <b>Current ratio</b> is a liquidity measure that measures the firm's ability to pay near-term financial obligations.  A negative value may indicate that net working capital is negative, whereas positive values are good.\n",
    "\n",
    "### Your Task\n",
    "\n",
    "  - <b>Part A</b>: Your task is to build a logistic regression classification model that estimates the probability that a firm is <b>insolvent</b> ($y = 1$) or <b>solvent</b> ($y=0$) based on the features <b>ROE</b> and <b>Current Ratio</b>.  The (artificial) data set you are working with has unusually high variance in both ROE and current ratio, approximating what one might find for young technology firms or start ups. That said, don't get hung up on the cover story for this data set.  \n",
    "\n",
    "* <b>Part B</b>: Use the Sklearn to build a logistic regression classifier to perform some analysis.\n",
    "\n",
    "To begin, run the next cell to import libraries you will need. "
   ]
  },
  {
   "cell_type": "code",
   "execution_count": 38,
   "metadata": {},
   "outputs": [],
   "source": [
    "import numpy as np\n",
    "import pandas as pd\n",
    "import matplotlib.pyplot as plt"
   ]
  },
  {
   "cell_type": "markdown",
   "metadata": {},
   "source": [
    "---\n",
    "\n",
    "# PART A - Build a Logistic Regression Classifier\n",
    "\n",
    "## I. Data preparation \n",
    "\n",
    "Start by inspecting the dataset `ps2_data-1.csv` in the data folder.  Notice that if you try to load this data as a numpy array, using for example\n",
    "~~~python\n",
    "\n",
    "data = np.loadtxt('ps2_data-1.csv', delimiter = ',')\n",
    "\n",
    "~~~\n",
    "\n",
    "you will see an error.  Why? "
   ]
  },
  {
   "cell_type": "code",
   "execution_count": 39,
   "metadata": {},
   "outputs": [],
   "source": [
    "data = pd.read_csv('ps2_data-1.csv', delimiter = ',')"
   ]
  },
  {
   "cell_type": "markdown",
   "metadata": {
    "deletable": false,
    "editable": false,
    "nbgrader": {
     "cell_type": "markdown",
     "checksum": "6fa26f4a800ea88239609650389d499a",
     "grade": false,
     "grade_id": "cell-4f6e0cdab70cef94",
     "locked": true,
     "schema_version": 3,
     "solution": false
    }
   },
   "source": [
    "If you inspect this file you will find that it has column names, which are strings, and numerical data.  So, numpy will complain that strings cannot be converted to numerical values.  The issue is that numpy arrays are tables of values, all of which must be the same data type.  What this error message is telling you, therefore, is that you are attempting to load a table with two different data types: in this case, strings and numbers. \n",
    "\n",
    "What should you do?  One option is to open up a text editor and remove the column names.  But removing these names would require you, rather than the machine, to keep track of the column labels.  That isn't a very good option, particularly when you haven't even inspected the data.  And trouble compounds with larger datasets.\n",
    "\n",
    "Fortunately there is a Python package, called <b>pandas</b>, designed to work with this particular kind of \"mixed-type\" rectangular data structure.  Specifically, a <b>data frame</b> is a two-dimensional, labeled dataset. Data frames are ubiquitous, since most data includes labels of some kind to describe each feature (column) and, sometimes, each example (row).  A lot of financial data is in this format, too, particularly <b>time series</b> data.  The pandas library offers a very powerful toolkit for working with dataframes.  \n",
    "\n",
    "A better solution to our problem  then is to load our `ps2_data-1.csv` into a pandas dataframe. The following line of code does this,\n",
    "\n",
    "~~~python\n",
    "df = pd.read_csv('ps2_data-1.csv')\n",
    "~~~\n",
    "\n",
    "where `df` is a common naming convention for variables storing dataframes. To inspect `df`, you may type `df.head(5)` to return the labels and first 5 examples:\n",
    "\n",
    "\n",
    "<img src=\"ps2_fig01.png\" alt=\"machine learning i\" style=\"width: 210px;\"/></br>\n",
    "\n",
    "\n",
    "---"
   ]
  },
  {
   "cell_type": "code",
   "execution_count": null,
   "metadata": {},
   "outputs": [],
   "source": []
  },
  {
   "cell_type": "markdown",
   "metadata": {
    "deletable": false,
    "editable": false,
    "nbgrader": {
     "cell_type": "markdown",
     "checksum": "53038baf14839de925ea9d0a2160dd71",
     "grade": false,
     "grade_id": "cell-ec6a0063770bec91",
     "locked": true,
     "schema_version": 3,
     "solution": false
    }
   },
   "source": [
    "Now that we can see our data frame, we discover that it is not quite arranged the way we would like.  First, the column labels need to be changed to reflect the category of the taget variable and the correct names of the two features.  That is, you need to\n",
    "\n",
    "~~~python\n",
    "change: 'label' to 'Insolvency'\n",
    "        'x1' to 'ROE'\n",
    "        'x2' to 'Current_Ratio'\n",
    "~~~\n",
    "\n",
    "Note the underscore in the string 'Current_Ratio'. This is important to allow all key valuse to be indexed later.\n",
    "\n",
    "The second change that is necessary is to move the target vector, the `Insolvency` column, to the end of the dataframe.  The result of these changes should be such that `df.head(5)` returns a dataframe that looks exactly like this:\n",
    "      \n",
    "<img src=\"ps2_fig02.png\" alt=\"machine learning i\" style=\"width: 250px;\"/></br>\n",
    "\n",
    "<b>Your task:</b>\n",
    "\n",
    "In the next cell is a partially completed function, `config_df()`, within which you should include a few short lines of code to perform these changes. (By a few, I mean less than 6). When `config_df()` is called, the file `ps2_data-1.csv` is loaded and assigned to `df`. This dataframe is then changed according to the specifications above. When finished, a series of test cells will check that you've done this correctly. "
   ]
  },
  {
   "cell_type": "code",
   "execution_count": 40,
   "metadata": {
    "deletable": false,
    "nbgrader": {
     "cell_type": "code",
     "checksum": "56041ef76bc8c05cc6ef75cec9e10342",
     "grade": false,
     "grade_id": "reconfig_df",
     "locked": false,
     "schema_version": 3,
     "solution": true
    }
   },
   "outputs": [],
   "source": [
    "def config_df():\n",
    "    \"\"\"\n",
    "        config_df() is a function to specifically load \n",
    "        and reconfigure the dataset for this assignment.\n",
    "        \n",
    "        The function takes no argument, but will load the\n",
    "        data file and reconfigure it each time it is run.\n",
    "        \n",
    "        The output should be a pandas dataframe assigned to\n",
    "        the variable 'df'\n",
    "    \"\"\"\n",
    "    # load original dataset\n",
    "    df = pd.read_csv('ps2_data-1.csv')\n",
    "    # YOUR CODE HERE\n",
    "    df = df.rename(columns={'label':'Insolvent', 'x1' : 'ROE','x2':'Current_Ratio'})\n",
    "    df = df[['ROE','Current_Ratio','Insolvent']]\n",
    "    #raise NotImplementedError()\n",
    "    return df"
   ]
  },
  {
   "cell_type": "code",
   "execution_count": 41,
   "metadata": {
    "deletable": false,
    "editable": false,
    "nbgrader": {
     "cell_type": "code",
     "checksum": "6117223444ada48ca4114e4a464d4361",
     "grade": true,
     "grade_id": "reconfig_df-test-1",
     "locked": true,
     "points": 0.5,
     "schema_version": 3,
     "solution": false
    }
   },
   "outputs": [],
   "source": [
    "# Public Test Cell\n",
    "# call config_df()\n",
    "df = config_df()\n",
    "# Test whether 'Insolvent' heading was moved to the last column\n",
    "assert df.columns[2] == 'Insolvent'\n",
    "# Additional tests are hidden"
   ]
  },
  {
   "cell_type": "code",
   "execution_count": null,
   "metadata": {
    "deletable": false,
    "editable": false,
    "nbgrader": {
     "cell_type": "code",
     "checksum": "7303ab08fc935d23bd2f8a466c74d664",
     "grade": true,
     "grade_id": "reconfig_df-test-2",
     "locked": true,
     "points": 0.5,
     "schema_version": 3,
     "solution": false
    }
   },
   "outputs": [],
   "source": []
  },
  {
   "cell_type": "code",
   "execution_count": null,
   "metadata": {},
   "outputs": [],
   "source": []
  },
  {
   "cell_type": "code",
   "execution_count": null,
   "metadata": {
    "deletable": false,
    "editable": false,
    "nbgrader": {
     "cell_type": "code",
     "checksum": "4f15385ba6afb2f2aa72f7ea6e40dc07",
     "grade": true,
     "grade_id": "reconfig_df-test-3",
     "locked": true,
     "points": 0.5,
     "schema_version": 3,
     "solution": false
    }
   },
   "outputs": [],
   "source": []
  },
  {
   "cell_type": "code",
   "execution_count": null,
   "metadata": {
    "deletable": false,
    "editable": false,
    "nbgrader": {
     "cell_type": "code",
     "checksum": "b5f69d4c02d02fa42169401c18ef8f2b",
     "grade": true,
     "grade_id": "reconfig_df-test-4",
     "locked": true,
     "points": 0.5,
     "schema_version": 3,
     "solution": false
    }
   },
   "outputs": [],
   "source": []
  },
  {
   "cell_type": "markdown",
   "metadata": {
    "deletable": false,
    "editable": false,
    "nbgrader": {
     "cell_type": "markdown",
     "checksum": "fe27a4ee69e775798b64a4a5ec1bd3ed",
     "grade": false,
     "grade_id": "cell-ae27ebfee09138f9",
     "locked": true,
     "schema_version": 3,
     "solution": false
    }
   },
   "source": [
    "### Dataframes and arrays\n",
    "Some operations are easier on arrays, others on dataframes.  Therefore it can be helpful to pull the table values out of a dataframe and save them as a numpy array. Indeed, for this assignment, it may turn out to be a bit easier to work with arrays.  In any case, the point is to feel comfortable switching when <i>you</i> think it might be easier.   \n",
    "\n",
    "This line\n",
    "\n",
    "~~~python~~~\n",
    "data = df.values\n",
    "~~~\n",
    "creates a numpy array.  Using this hint, complete the next function to extract a $(m \\times n-1)$-features matrix `X` and a target vector `y` from an $n$-column dataframe.  Note that your function should work for data frames that have other than $(n -1) = 2$ features. "
   ]
  },
  {
   "cell_type": "code",
   "execution_count": 42,
   "metadata": {
    "deletable": false,
    "nbgrader": {
     "cell_type": "code",
     "checksum": "a562a17e18acdf2cd9812f3f20d995e2",
     "grade": false,
     "grade_id": "array_maker",
     "locked": false,
     "schema_version": 3,
     "solution": true
    }
   },
   "outputs": [],
   "source": [
    "def array_maker(df):\n",
    "    \"\"\"\n",
    "       The function array_maker takes an n-column dataframe \n",
    "       df, with m rows, and returns:\n",
    "        \n",
    "         X, a (m x n-1) feature matrix\n",
    "         y, a column vector\n",
    "       \n",
    "       You should assume that the dataframe is arranged where the last\n",
    "       column is the target variable, y.\n",
    "    \"\"\"\n",
    "    # YOUR CODE HERE\n",
    "    \n",
    "    df1 = df[['ROE','Current_Ratio']]\n",
    "    df2 = df['Insolvent']\n",
    "    X = df1.values\n",
    "    y = df2.values\n",
    "    #raise NotImplementedError()\n",
    "    return X, y"
   ]
  },
  {
   "cell_type": "code",
   "execution_count": 43,
   "metadata": {
    "deletable": false,
    "editable": false,
    "nbgrader": {
     "cell_type": "code",
     "checksum": "beb784d9ed052f30db784d8012c7ea81",
     "grade": true,
     "grade_id": "array_maker-test-1",
     "locked": true,
     "points": 0.5,
     "schema_version": 3,
     "solution": false
    }
   },
   "outputs": [],
   "source": [
    "# Public Test Cell\n",
    "# call array_maker()\n",
    "X, y = array_maker(df)\n",
    "assert y[37] == 1.0"
   ]
  },
  {
   "cell_type": "code",
   "execution_count": null,
   "metadata": {
    "deletable": false,
    "editable": false,
    "nbgrader": {
     "cell_type": "code",
     "checksum": "b39f143838d92a00818c7013951a4447",
     "grade": true,
     "grade_id": "array-maker-test-2",
     "locked": true,
     "points": 0.5,
     "schema_version": 3,
     "solution": false
    }
   },
   "outputs": [],
   "source": []
  },
  {
   "cell_type": "markdown",
   "metadata": {
    "deletable": false,
    "editable": false,
    "nbgrader": {
     "cell_type": "markdown",
     "checksum": "43657304d2fb1c2cbafb46f013864f8e",
     "grade": false,
     "grade_id": "cell-0338db0af92b7228",
     "locked": true,
     "schema_version": 3,
     "solution": false
    }
   },
   "source": [
    "## II. Data Visualization\n",
    "\n",
    "The following block of code produces a basic scatterplot with a legend that codes which firms in the data set are insolvent and which are solvent.\n",
    "\n",
    "~~~python\n",
    "mask = y.flatten() == 1\n",
    "insolv = plt.scatter(X[mask][:,0], X[mask][:,1])\n",
    "solv = plt.scatter(X[~mask][:,0], X[~mask][:,1])\n",
    "plt.ylim(-7, 11) \n",
    "plt.xlabel('ROE')\n",
    "plt.ylabel('Current_Ratio')\n",
    "plt.legend((insolv, solv), ('Insolvent', 'Solvent'))\n",
    "plt.show()\n",
    "~~~\n",
    "\n",
    "If you inspect `mask`, you will see that it is an np.array of [Booleans](https://docs.python.org/3/library/stdtypes.html), which is a data type we haven't used yet. What this line does is convert the 0s and 1s in the target vector `y` to `False` and `True`, respectively.  Then, `mask`, the stored array of the Boolean encodings of the class labels, is used as a key to find all of the insolvent ($y =1$) firms in our data set, and `~mask` (where `~` acts as logical negation and flips all the truth values in `mask`) is used to pick out all of the solvent firms.  `Legend` then takes the saved keys, `insolv` and `solv`, and associates with each the labels 'Insolvent' and 'Solvent'. The color scheme is chosen by default, but naturally you could control that, too.\n",
    "\n",
    "The following block is reserved for you to run this code for you to inspect the data visually.\n"
   ]
  },
  {
   "cell_type": "code",
   "execution_count": 44,
   "metadata": {
    "deletable": false,
    "nbgrader": {
     "cell_type": "code",
     "checksum": "1cc7ea6d62a4e333f19b1147fca0c819",
     "grade": true,
     "grade_id": "scatter-plot",
     "locked": false,
     "points": 0,
     "schema_version": 3,
     "solution": true
    }
   },
   "outputs": [
    {
     "data": {
      "image/png": "[encoded data removed]",
      "text/plain": [
       "<Figure size 432x288 with 1 Axes>"
      ]
     },
     "metadata": {},
     "output_type": "display_data"
    }
   ],
   "source": [
    "mask = y.flatten() == 1\n",
    "insolv = plt.scatter(X[mask][:,0], X[mask][:,1])\n",
    "solv = plt.scatter(X[~mask][:,0], X[~mask][:,1])\n",
    "plt.ylim(-7, 11) \n",
    "plt.xlabel('ROE')\n",
    "plt.ylabel('Current_Ratio')\n",
    "plt.legend((insolv, solv), ('Insolvent', 'Solvent'))\n",
    "plt.show()\n",
    "#raise NotImplementedError()"
   ]
  },
  {
   "cell_type": "markdown",
   "metadata": {
    "deletable": false,
    "editable": false,
    "nbgrader": {
     "cell_type": "markdown",
     "checksum": "0013b77ad6ab752ac177759ed4e5d1b3",
     "grade": false,
     "grade_id": "cell-0db01e0d772abfd6",
     "locked": true,
     "schema_version": 3,
     "solution": false
    }
   },
   "source": [
    "## III. Building a Logistic Regression Model\n",
    "\n",
    "We turn now to construct a logistic regression classifier.  One goal of this exercise is to draw attention to the differences between the hypothesis and cost function for logistic regression and the hypothesis and cost function of linear regression, yet to see that both learning algorithms follow the basic logic.  \n",
    "\n",
    "\n",
    "###  Sigmoid Function\n",
    "\n",
    "Recall that the <i>form</i> of the hypothesis $h_\\theta(x)$ for logistic regression is\n",
    "\n",
    "$$h_\\theta(x) = g(\\theta^Tx)$$\n",
    "  \n",
    "where the function $g$ is the <b>sigmoid function</b>:\n",
    "\n",
    "$$g(z) = \\frac{1}{1+e^{-z}}$$\n",
    "\n",
    "Next, using the `np.exp()` function from numpy, implement the sigmoid function."
   ]
  },
  {
   "cell_type": "code",
   "execution_count": 45,
   "metadata": {
    "deletable": false,
    "nbgrader": {
     "cell_type": "code",
     "checksum": "68de95694c750e6ab85eac546b20ec35",
     "grade": false,
     "grade_id": "sigmoid-fn",
     "locked": false,
     "schema_version": 3,
     "solution": true
    }
   },
   "outputs": [],
   "source": [
    "def sigmoid(z):\n",
    "    \"\"\"implementation of the sigmoid function,\n",
    "    which takes input z, a positive or negative \n",
    "    real number, and returns a value between \n",
    "    0 and 1.\n",
    "    \n",
    "    Your one line of code should be of \n",
    "    the form:  gz = ---\n",
    "    \n",
    "    \"\"\"\n",
    "    # complete sigmoid with one line:\n",
    "    #\n",
    "    # gz = ----\n",
    "    #\n",
    "    # YOUR CODE HERE\n",
    "    gz = 1 / (1 + np.exp(-z))\n",
    "    #raise NotImplementedError()\n",
    "    return gz"
   ]
  },
  {
   "cell_type": "code",
   "execution_count": 46,
   "metadata": {
    "deletable": false,
    "editable": false,
    "nbgrader": {
     "cell_type": "code",
     "checksum": "f5927c3973f6400c3badbccafbddcc0e",
     "grade": true,
     "grade_id": "sigmoid-fn-test",
     "locked": true,
     "points": 0.5,
     "schema_version": 3,
     "solution": false
    }
   },
   "outputs": [],
   "source": [
    "# Public Test \n",
    "assert sigmoid(0) == 0.5\n",
    "assert round(sigmoid(.5),5) == 0.62246"
   ]
  },
  {
   "cell_type": "markdown",
   "metadata": {
    "deletable": false,
    "editable": false,
    "nbgrader": {
     "cell_type": "markdown",
     "checksum": "de49406dfe4571155b771a28977fa555",
     "grade": false,
     "grade_id": "cell-feb12437df9cd1ff",
     "locked": true,
     "schema_version": 3,
     "solution": false
    }
   },
   "source": [
    "In addition to the public test cell above, you might like to plot your sigmoid function.  Use the [numpy.linspace](https://docs.scipy.org/doc/numpy/reference/generated/numpy.linspace.html) function to construct a sample `xx` of 100 evenly spaced numbers between -10 and 10 to feed to your sigmoid function. This can be done easily with the following few lines:\n",
    "\n",
    "~~~python\n",
    "xx = np.linspace(-10,10,100)\n",
    "plt.plot(xx, sigmoid(xx))\n",
    "plt.xlabel(r'$x$')\n",
    "plt.ylabel(r'$g(x)$')\n",
    "plt.grid(True)\n",
    "~~~\n",
    "\n",
    "Constructing this plot is optional. But, it should look something like this:\n",
    "\n",
    "<img src=\"ps2_fig03.png\" alt=\"Scatter Plot\" style=\"width: 400px;\"/>\n",
    "\n",
    "The color and style of your plot might be slightly different.   "
   ]
  },
  {
   "cell_type": "markdown",
   "metadata": {
    "deletable": false,
    "editable": false,
    "nbgrader": {
     "cell_type": "markdown",
     "checksum": "f1307f0f4d5bb5f5a25c5890214495a1",
     "grade": false,
     "grade_id": "cell-b3e663a553fef999",
     "locked": true,
     "schema_version": 3,
     "solution": false
    }
   },
   "source": [
    "## Question 1\n",
    "\n",
    "Suppose you have trained a logistic regression classifier on data $X$ and it outputs on a new example $x$, which is not in your training data $X$, a prediction that $h_{\\theta}(x) = 0.25$. \n",
    "\n",
    "Identify the true statement(s): \n",
    "\n",
    "<ul>\n",
    " <li>A) According to your classifier, $p(y = 0 \\mid x, \\theta) = 0.25$ </li>\n",
    " <li>B) According to your classifier, $p(y = 0 \\mid x, \\theta) = 0.75$  </li> \n",
    " <li>C) According to your classifier, $p(x = 1 \\mid y, \\theta) = 0.25$</li>\n",
    " <li>D) According to your classifier, $p(x = 1 \\mid y, \\theta) = 0.75$</li>\n",
    " <li>E) None of the above are true</li>\n",
    "</ul>\n",
    "Complete the next function with a list recording your answer(s)."
   ]
  },
  {
   "cell_type": "code",
   "execution_count": 47,
   "metadata": {
    "deletable": false,
    "nbgrader": {
     "cell_type": "code",
     "checksum": "8e20717763e6898e6858baefd72102d7",
     "grade": false,
     "grade_id": "Question-1",
     "locked": false,
     "schema_version": 3,
     "solution": true
    }
   },
   "outputs": [],
   "source": [
    "def ans_one():\n",
    "    # # To answer, set the variable\n",
    "    #\n",
    "    # ans = ---\n",
    "    #\n",
    "    # to a LIST which is a sublist of\n",
    "    # the possible answers: ['A', 'B', 'C', 'D', 'E'].\n",
    "    #\n",
    "    # YOUR CODE HERE\n",
    "    ans = ['B']\n",
    "    #raise NotImplementedError()\n",
    "    return ans"
   ]
  },
  {
   "cell_type": "code",
   "execution_count": 48,
   "metadata": {
    "deletable": false,
    "editable": false,
    "nbgrader": {
     "cell_type": "code",
     "checksum": "2d9af76b2a2edbd4d9ce6390c3a46da0",
     "grade": true,
     "grade_id": "Question-1-test",
     "locked": true,
     "points": 0.5,
     "schema_version": 3,
     "solution": false
    }
   },
   "outputs": [],
   "source": [
    "# Test cell to check the format of your answer\n",
    "ans = ans_one()\n",
    "possible_ans = ['A', 'B', 'C', 'D', 'E']\n",
    "if type(ans) == list and all(ii in possible_ans for ii in ans):\n",
    "    assert True\n",
    "else:\n",
    "    raise AssertionError(\"Inadmissible answer. Check that your answer is the correct format.\")"
   ]
  },
  {
   "cell_type": "markdown",
   "metadata": {
    "deletable": false,
    "editable": false,
    "nbgrader": {
     "cell_type": "markdown",
     "checksum": "de91c3817eaa03326ca4802d10343481",
     "grade": false,
     "grade_id": "cell-80b6aaa6e6942d0b",
     "locked": true,
     "schema_version": 3,
     "solution": false
    }
   },
   "source": [
    "### Cost Function J$(\\theta)$\n",
    "The cost function for logistic regression is\n",
    "\n",
    "$$J(\\theta) = \\frac{1}{m}\\sum_{i=1}^{m} \\left(-y^{(i)} \\log\\left[h(x^{(i)}, \\boldsymbol{\\theta})\\right] - (1- y^{(i)}) \\log\\left[1- h(x^{(i)}, \\boldsymbol{\\theta}) \\right]\\right)$$\n",
    "\n",
    "which can be rewritten as\n",
    "\n",
    "$$J(\\theta) = - \\frac{1}{m} \\left(\\sum_{i=1}^{m} y^{(i)} \\log\\left[  h(x^{(i)}, \\boldsymbol{\\theta}) \\right] + (1- y^{(i)}) \\log\\left[1- h(x^{(i)}, \\boldsymbol{\\theta}) \\right] \\right)$$\n",
    "\n",
    "The gradient of this cost function is a vector which is the same length $n$ as $\\theta$, where the $j$th element (for $j = 0,1,2,\\ldots,n)$ is\n",
    "\n",
    "$$ \\frac{\\partial J(\\theta)}{\\partial \\theta_j} = \\frac{1}{m} \\sum_{i = 1}^{m} \\left( h(x^{(i)}, \\boldsymbol{\\theta}) - y^{(i)}  \\right) x^{(i)}_j$$\n",
    " \n",
    "\n",
    "---\n",
    "\n",
    "## Question 2\n",
    "\n",
    "Compare logistic regression to linear regression. Identify the true statement(s).\n",
    "\n",
    "<ul>\n",
    " <li>A) The gradients are identical and the hypotheses are the same. </li>\n",
    " <li>B) The gradients are identical and the hypotheses are not the same.  </li>\n",
    " <li>C) The gradients are not identical and the hypotheses are the same. </li>\n",
    " <li>D) The gradients are not identical and the hypotheses are not the same.</li>\n",
    " <li>E) There is insufficient information to answer. </li>\n",
    "</ul>\n",
    "\n",
    "Complete the next function with a list of your answer(s)."
   ]
  },
  {
   "cell_type": "code",
   "execution_count": 49,
   "metadata": {
    "deletable": false,
    "nbgrader": {
     "cell_type": "code",
     "checksum": "5192f785ba8afdeada557f1f3d941037",
     "grade": false,
     "grade_id": "multi-gradient-ans",
     "locked": false,
     "schema_version": 3,
     "solution": true
    }
   },
   "outputs": [],
   "source": [
    "def ans_two():\n",
    "   # # To answer, set the variable\n",
    "    #\n",
    "    # ans = ---\n",
    "    #\n",
    "    # to a LIST which is a sublist of\n",
    "    # the possible answers: ['A', 'B', 'C', 'D', 'E'].\n",
    "    #\n",
    "    # YOUR CODE HERE\n",
    "    ans = ['B']\n",
    "    #raise NotImplementedError()\n",
    "    return ans"
   ]
  },
  {
   "cell_type": "code",
   "execution_count": 50,
   "metadata": {
    "deletable": false,
    "editable": false,
    "nbgrader": {
     "cell_type": "code",
     "checksum": "7353c7bec18abf9efbed65514516b756",
     "grade": true,
     "grade_id": "multi-gradient-test",
     "locked": true,
     "points": 0.5,
     "schema_version": 3,
     "solution": false
    }
   },
   "outputs": [],
   "source": [
    "# Test cell to check the format of your answer\n",
    "ans = ans_two()\n",
    "possible_ans = ['A', 'B', 'C', 'D', 'E']\n",
    "if type(ans) == list and all(ii in possible_ans for ii in ans):\n",
    "    assert True\n",
    "else:\n",
    "    raise AssertionError(\"Inadmissible answer. Check that your answer is the correct format.\")"
   ]
  },
  {
   "cell_type": "markdown",
   "metadata": {
    "deletable": false,
    "editable": false,
    "nbgrader": {
     "cell_type": "markdown",
     "checksum": "9ad1b1ec807e4eff31fe49c340167c00",
     "grade": false,
     "grade_id": "cell-23acdc40307e567a",
     "locked": true,
     "schema_version": 3,
     "solution": false
    }
   },
   "source": [
    "### Implementation\n",
    "\n",
    "The next step is to implement the cost function and compute the gradient for logistic regression.  This implementation  will use `sigmoid()`, which you implemented above. \n",
    "\n",
    "\n",
    "There are four steps to implementing `costFunction()`: \n",
    "\n",
    "<ol>\n",
    "    <li>Compute the hypothesis: $h(x; \\boldsymbol{\\theta}) = g(\\theta^Tx)$ </li>\n",
    "    <li>Compute the Cost Function: $J(\\theta) = - \\frac{1}{m} \\left(\\sum_{i=1}^{m} y^{(i)} \\log\\left[  h(x^{(i)}, \\boldsymbol{\\theta}) \\right] + (1- y^{(i)}) \\log\\left[1- h(x^{(i)}, \\boldsymbol{\\theta}) \\right] \\right)$\n",
    "    <li>Compute the gradients: $ \\frac{\\partial J(\\theta)}{\\partial \\theta_j} = \\frac{1}{m} \\sum_{i = 1}^{m} \\left( h(x^{(i)}, \\boldsymbol{\\theta}) - y^{(i)}  \\right) x^{(i)}_j$\n",
    "    <li> Using the implementations from parts 2 and 3, implement the final, executable cost function, `costFunction()`, which returns the cost, `J`, and gradiate, `grad`.\n",
    "</ol>\n",
    "\n",
    "The first function for you to complete, `computeJ()`, will require you to compute the hypothesis (step 1) and plug that value into the cost function (step 2) in order to return a value for $J$. With a working cost function, we can compute the gradient (step 3).  Then, with a working gradient function `computeGradient()`, implements the executable cost function, `costFunction()`, that we will pass to our optimization algorithm. \n",
    "\n",
    "---\n",
    "Let's turn now to the implementation.\n",
    "\n",
    "<div class=\"alert alert-block alert-info\">\n",
    "<b>Vectorize your code:</b> You will not receive full credit unless you vectorize your code. Specifically, you should not use any for loops or while statements.     \n",
    "</div>"
   ]
  },
  {
   "cell_type": "markdown",
   "metadata": {
    "deletable": false,
    "editable": false,
    "nbgrader": {
     "cell_type": "markdown",
     "checksum": "e4b04b41c43e862413fc6adb604c266e",
     "grade": false,
     "grade_id": "cell-d562c5418f82b7a4",
     "locked": true,
     "schema_version": 3,
     "solution": false
    }
   },
   "source": [
    "#### Step 1. Computing the cost function\n",
    "The function `computeJ()` computes the cost function $J$ for a specific parameter vector $\\boldsymbol{\\theta}$. Recall from the matrix multiplication tutorial that `X @ theta` is equivalent to `np.dot(X, theta)`. This can allow for a fairly direct representation of the cost function using \n",
    "\n",
    "- `np.sum`\n",
    "- `np.multiply`\n",
    "- `np.log`\n",
    "- `sigmoid`, which you defined above,\n",
    "-  the variables `X`, `y`, `m`, and `theta`,\n",
    "-  `-`, `+`, and `*`, \n",
    "\n",
    "and the normalizing term, $-\\frac{1}{m}$.\n"
   ]
  },
  {
   "cell_type": "code",
   "execution_count": 51,
   "metadata": {
    "deletable": false,
    "nbgrader": {
     "cell_type": "code",
     "checksum": "2b74497800cafc13ba3967f8ec81e6d4",
     "grade": false,
     "grade_id": "computeCostFunc-ans",
     "locked": false,
     "schema_version": 3,
     "solution": true
    }
   },
   "outputs": [],
   "source": [
    "def computeJ(theta, X, y):\n",
    "    \"\"\"\n",
    "        computeCostFunction() computes the cost function\n",
    "        J for logistic regression.\n",
    "        \n",
    "        You can complete this function with one line of code:\n",
    "        \n",
    "        J = ---\n",
    "    \"\"\"\n",
    "    # number of training samples\n",
    "    # DO NOT CHANGE\n",
    "    m = len(y)  \n",
    "    # YOUR CODE HERE  \n",
    "    #J = np.sum(np.log(sigmoid(np.dot(X,theta)))*y + np.log(1-sigmoid(np.dot(X,theta)))*(1-y))*(-1/m)\n",
    "    J = np.sum(np.log(sigmoid(np.dot(X,theta)))*y + np.log(1-sigmoid(np.dot(X,theta)))*(1-y))*(-1/m)\n",
    "    #print(J)\n",
    "    return J"
   ]
  },
  {
   "cell_type": "code",
   "execution_count": 52,
   "metadata": {
    "deletable": false,
    "editable": false,
    "nbgrader": {
     "cell_type": "code",
     "checksum": "77dfce2b431f1217d09404cde1a7c84f",
     "grade": true,
     "grade_id": "computeCostFunc-test1",
     "locked": true,
     "points": 1,
     "schema_version": 3,
     "solution": false
    }
   },
   "outputs": [],
   "source": [
    "# Public Test\n",
    "theta_t = np.array([.02,.01])\n",
    "assert round(computeJ(theta_t, X, y), 5) == 0.72982"
   ]
  },
  {
   "cell_type": "code",
   "execution_count": null,
   "metadata": {
    "deletable": false,
    "editable": false,
    "nbgrader": {
     "cell_type": "code",
     "checksum": "72c97b18afb1a1282a7c8db7f3a48d0c",
     "grade": true,
     "grade_id": "computeCostFunc-test4-TIME",
     "locked": true,
     "points": 1,
     "schema_version": 3,
     "solution": false
    }
   },
   "outputs": [],
   "source": []
  },
  {
   "cell_type": "markdown",
   "metadata": {
    "deletable": false,
    "editable": false,
    "nbgrader": {
     "cell_type": "markdown",
     "checksum": "5844521ad96792f95bf94f3994fb2d3a",
     "grade": false,
     "grade_id": "cell-86411ce2c3c2584f",
     "locked": true,
     "schema_version": 3,
     "solution": false
    }
   },
   "source": [
    "#### Step 2. Compute the gradient\n",
    "Now compute the gradient, using\n",
    "\n",
    "- `X.T` (X transposed)\n",
    "- `np.dot` or `@`\n",
    "- `sigmoid`\n",
    "- the variables `X`, `theta`, `y`, and `m`\n",
    "- the operators `*` and `-`\n",
    "\n",
    "and the normalizing term $\\frac{1}{m}$.\n"
   ]
  },
  {
   "cell_type": "code",
   "execution_count": 53,
   "metadata": {
    "deletable": false,
    "nbgrader": {
     "cell_type": "code",
     "checksum": "b655766ab98f3a4bf92c5ce25cc46558",
     "grade": false,
     "grade_id": "computeGradient-ans",
     "locked": false,
     "schema_version": 3,
     "solution": true
    }
   },
   "outputs": [],
   "source": [
    "def computeGradient(theta, X, y):\n",
    "    \"\"\"\n",
    "        computeGradient() computes the gradient\n",
    "        grad for logistic regression\"\"\"\n",
    "    # number of training samples\n",
    "    m = len(y)\n",
    "    \n",
    "    \n",
    "    # YOUR CODE HERE\n",
    "    grad = (1/m)*(np.dot(sigmoid(np.dot(X,theta))-y,X))\n",
    "    #raise NotImplementedError()\n",
    "    return grad"
   ]
  },
  {
   "cell_type": "code",
   "execution_count": null,
   "metadata": {
    "deletable": false,
    "editable": false,
    "nbgrader": {
     "cell_type": "code",
     "checksum": "2847831deec866f2cc682ab8729ab23d",
     "grade": true,
     "grade_id": "computeGradient-test1",
     "locked": true,
     "points": 0.5,
     "schema_version": 3,
     "solution": false
    }
   },
   "outputs": [],
   "source": []
  },
  {
   "cell_type": "markdown",
   "metadata": {
    "deletable": false,
    "editable": false,
    "nbgrader": {
     "cell_type": "markdown",
     "checksum": "a0ab845d9e2b197eac3c4f3e66825325",
     "grade": false,
     "grade_id": "cell-dd2272151d00abb6",
     "locked": true,
     "schema_version": 3,
     "solution": false
    }
   },
   "source": [
    "#### Step 3. Implement the executable cost function\n",
    "\n",
    "The complete implementation of the cost function, `costFunction()`, is already written for you:\n",
    "\n",
    "~~~python\n",
    "def costFunction(theta, X, y):\n",
    "    \"\"\"Executable cost function\"\"\"\n",
    "    # use cost function\n",
    "    J = computeJ(theta, X, y)\n",
    "    \n",
    "    # use gradient function\n",
    "    grad = computeGradient(theta, X, y)\n",
    "    \n",
    "    return J, grad\n",
    "~~~\n",
    "\n",
    "Run the next cell to make this function available."
   ]
  },
  {
   "cell_type": "code",
   "execution_count": 54,
   "metadata": {},
   "outputs": [],
   "source": [
    "def costFunction(theta, X, y):\n",
    "    \"\"\"Executable cost function\"\"\"\n",
    "    # use cost function\n",
    "    J = computeJ(theta, X, y)\n",
    "    \n",
    "    # use gradient function\n",
    "    grad = computeGradient(theta, X, y)\n",
    "    \n",
    "    return J, grad"
   ]
  },
  {
   "cell_type": "markdown",
   "metadata": {
    "deletable": false,
    "editable": false,
    "nbgrader": {
     "cell_type": "markdown",
     "checksum": "f9349addbddd9b665d2a87eefc3e84ce",
     "grade": false,
     "grade_id": "cell-2729817da3d67b53",
     "locked": true,
     "schema_version": 3,
     "solution": false
    }
   },
   "source": [
    "### Computing initial theta \n",
    "\n",
    "If you implemented `computeJ()` and `computeGradient()` correctly, then running the next block of code should return an initial cost, when theta is initialized to an array of zeros, of approximately $0.6931$, and the gradient vector at this initialized theta is a three element array, with approximate values of $[0.001 \\ 1.318 \\ 0.932 ]$.\n",
    "\n"
   ]
  },
  {
   "cell_type": "code",
   "execution_count": 55,
   "metadata": {},
   "outputs": [
    {
     "name": "stdout",
     "output_type": "stream",
     "text": [
      "Cost at initial theta (zeros): 0.6931471805599454\n",
      "Gradient at inital theta (zeros): [0.00141643 1.31783649 0.93191404]\n"
     ]
    }
   ],
   "source": [
    "## DO NOT EDIT\n",
    "#\n",
    "# setup the data matrix appropriately\n",
    "m, n = X.shape\n",
    "\n",
    "# add intercept term to X\n",
    "X = np.hstack((np.ones((m, 1)), X))\n",
    "\n",
    "# initalize theta\n",
    "initial_theta = np.zeros(n+1)\n",
    "\n",
    "# compute and display initial cost and gradient\n",
    "J, grad = costFunction(initial_theta, X, y)\n",
    "\n",
    "# print cost J at initialization\n",
    "print('Cost at initial theta (zeros): {0}'.format(J))\n",
    "# print gradiate at initialization\n",
    "print('Gradient at inital theta (zeros): {0}'.format(grad))"
   ]
  },
  {
   "cell_type": "markdown",
   "metadata": {
    "deletable": false,
    "editable": false,
    "nbgrader": {
     "cell_type": "markdown",
     "checksum": "0f1ef045cf2e60cee985e97b057848d3",
     "grade": false,
     "grade_id": "cell-bafbe61956f9e8f6",
     "locked": true,
     "schema_version": 3,
     "solution": false
    }
   },
   "source": [
    "<div class=\"alert alert-block alert-info\">\n",
    "<b>Tip:</b> You will have touched stored variables several times by now, so if you have run cells out of order (which is not unusual) you may see unexpected values or even errors.  For example, the code block above adds a column of 1s to X. Running that cell more than once will keep adding columns of ones to your features matrix X, changing its dimension. A good rule of thumb, if you cannot see immediately what problem an error message is telling you, is to select <b>Cell >> All Outputs >> Clear </b> from the menu, then run all cells <b>once</b> in sequence from the beginning.   \n",
    "</div>"
   ]
  },
  {
   "cell_type": "code",
   "execution_count": 56,
   "metadata": {
    "deletable": false,
    "editable": false,
    "nbgrader": {
     "cell_type": "code",
     "checksum": "f0f39953ee925bc006f518f0203215bd",
     "grade": true,
     "grade_id": "compute-initial-theta-test",
     "locked": true,
     "points": 0.5,
     "schema_version": 3,
     "solution": false
    }
   },
   "outputs": [],
   "source": [
    "# Tests of J and the three elements of grad\n",
    "# approximate cost J with zeros initial_theta\n",
    "assert round(J,4) == 0.6931\n",
    "# approximate gradient grad with zeros initial_theta\n",
    "#   grad[0]\n",
    "assert round(grad[0],3) == 0.001 \n",
    "#   grad[1]\n",
    "assert round(grad[1],3) == 1.318\n",
    "#   grad[2]\n",
    "assert round(grad[2],3) == 0.932"
   ]
  },
  {
   "cell_type": "markdown",
   "metadata": {},
   "source": [
    "## IV. Learning parameters\n",
    "\n",
    "In <b>problem set 1 (ps1) </b> we implemented <b>batch gradient descent</b> to learn the optimal parameters $\\boldsymbol{\\theta} = (\\theta_0, \\theta_1)$ that minimized the cost function $J(\\boldsymbol{\\theta})$, yielding the best fitting linear model which minimized <b>mean-squared error</b> (MSE).  That exercise was intended to help further develop your intuitions about <i>how</i> computational optimization techniques are used to perform supervised learning, and how to change hyperparameters to get better performance.  \n",
    "\n",
    "Instead of re-using your gradient descent algorithm, you instead will use a powerful built-in optimization algorithm called BFGS. The <b>Broyden–Fletcher–Goldfarb–Shanno</b> algorithm, or [BFGS algorithm](https://en.wikipedia.org/wiki/Broyden%E2%80%93Fletcher%E2%80%93Goldfarb%E2%80%93Shanno_algorithm), is a numerical optimization method for solving <i>non-linear</i> optimization problems.  (It won't matter that our classifier is a general linear model.)  \n",
    "\n",
    "\n",
    "We will use the scipy implementation of BFGS from the [scipy.optimize](https://docs.scipy.org/doc/scipy/reference/tutorial/optimize.html) package, which will compute values for the parameter vector $\\boldsymbol{\\theta}$ that minimize the cost function $J$.  The block of code below imports `fin_bfgs` and saves to the output of the BFGS optimizer to `theta_opt`.\n",
    "\n",
    "~~~python\n",
    "from scipy.optimize import fmin_bfgs\n",
    "theta_opt = fmin_bfgs(computeJ, initial_theta, fprime=computeGradient,\n",
    "                maxiter=100, args=(X,y), disp=True)\n",
    "~~~    \n",
    "where:\n",
    "- `computeJ` is the objective function to be minimized</li>\n",
    "- `initial_theta` is the initialized parameter vector from part e)</li>\n",
    "- `fprime=computeGradient` is the option to compute the gradient, using your computeGradient function </li>\n",
    "- `maxiter=100` is the maximum number of iterations.</li>\n",
    "- `args=(X,y)` supplies the features and target variable.</li>\n",
    "- `disp=True` prints information about convergence and successful termination if true; otherwise, prints a warning message.\n",
    "\n",
    "See the online [documentation](https://docs.scipy.org/doc/scipy-0.19.0/reference/generated/scipy.optimize.fmin_bfgs.html) page or the class lecture notes for more information.\n",
    "\n",
    "Use the next cell to compute the optimized theta values `theta_opt`. If your cost function `computeJ` and gradient function `computeGradient` are implemented correctly, the BFGS algorithm should successfully terminate in approximately 15 iterations and print a value of approximately $0.210$.  This is the value of the objective function `computeJ()` parameterized by `theta_opt` with `X` and `y` as arguments.  Put differently, if your cost and gradient functions are implemented correctly, you should expect `computeJ(theta_opt, X, y)` $\\approx 0.210$. "
   ]
  },
  {
   "cell_type": "code",
   "execution_count": 57,
   "metadata": {
    "deletable": false,
    "nbgrader": {
     "cell_type": "code",
     "checksum": "49ca2cdbc33597ed233e5418111ae5dd",
     "grade": true,
     "grade_id": "BFGS-ans",
     "locked": false,
     "points": 0,
     "schema_version": 3,
     "solution": true
    }
   },
   "outputs": [
    {
     "name": "stdout",
     "output_type": "stream",
     "text": [
      "Optimization terminated successfully.\n",
      "         Current function value: 0.210453\n",
      "         Iterations: 14\n",
      "         Function evaluations: 15\n",
      "         Gradient evaluations: 15\n"
     ]
    }
   ],
   "source": [
    "# Compute optimal parameter vector \n",
    "# theta_opt using BFGS\n",
    "\n",
    "from scipy.optimize import fmin_bfgs\n",
    "theta_opt = fmin_bfgs(computeJ, initial_theta, fprime=computeGradient,\n",
    "                maxiter=100, args=(X,y), disp=True)\n",
    "\n",
    "#raise NotImplementedError()"
   ]
  },
  {
   "cell_type": "code",
   "execution_count": 58,
   "metadata": {
    "deletable": false,
    "editable": false,
    "nbgrader": {
     "cell_type": "code",
     "checksum": "fab72e8e38929e3f3146e801bb05efd7",
     "grade": true,
     "grade_id": "BFGS-test",
     "locked": true,
     "points": 1,
     "schema_version": 3,
     "solution": false
    }
   },
   "outputs": [],
   "source": [
    "# Test of computeCostFunction(theta_new, X, y) using the opitimal \n",
    "# parameters theta_new\n",
    "#\n",
    "assert round(computeJ(theta_opt, X, y),5) == 0.21045"
   ]
  },
  {
   "cell_type": "markdown",
   "metadata": {},
   "source": [
    "### Plot decision boundary\n",
    "\n",
    "Above we produced a scatter plot of the data. That code can be slightly adapted to plot a decision boundary. The following two lines of code plots the decision boundary, which here is calculated with a default probability of 1/2.  This line of code\n",
    "\n",
    "~~~python\n",
    "plot_x = [-10, 8]\n",
    "plot_y = -1/theta_opt[2]*(theta_opt[0] \n",
    "          + np.dot(theta_opt[1],plot_x))\n",
    "~~~\n",
    "where you might notice that nowhere does the data, `X`, figure <i>directly</i> in the computation of the decision boundary. It is a function of the parameter vector `theta_opt`.  Data is used to compute the parameter vector `theta_opt`, of course, but the data is not used to compute the decision boundary.  \n",
    "\n",
    "<div class=\"alert alert-block alert-info\">\n",
    "<b>Hint:</b> The dimension of $X$ is now different from your first scatter plot above.   \n",
    "</div>"
   ]
  },
  {
   "cell_type": "code",
   "execution_count": 59,
   "metadata": {
    "deletable": false,
    "nbgrader": {
     "cell_type": "code",
     "checksum": "dd08a8dad9cb1a7fec54263af6394d48",
     "grade": true,
     "grade_id": "decision-boundary",
     "locked": false,
     "points": 0,
     "schema_version": 3,
     "solution": true
    }
   },
   "outputs": [
    {
     "data": {
      "image/png": "[encoded data removed]",
      "text/plain": [
       "<Figure size 432x288 with 1 Axes>"
      ]
     },
     "metadata": {},
     "output_type": "display_data"
    }
   ],
   "source": [
    "# Plot Decision Boundary\n",
    "# YOUR CODE HERE\n",
    "\n",
    "insolv = plt.scatter(X[mask][:,1], X[mask][:,2])\n",
    "solv = plt.scatter(X[~mask][:,1], X[~mask][:,2])\n",
    "plot_x = [-10, 8]\n",
    "plot_y = -1/theta_opt[2]*(theta_opt[0] \n",
    "          + np.dot(theta_opt[1],plot_x))\n",
    "plt.ylim(-7, 11) \n",
    "plt.xlabel('ROE')\n",
    "plt.ylabel('Current_Ratio')\n",
    "plt.legend((insolv, solv), ('Insolvent', 'Solvent'))\n",
    "plt.plot(plot_x,plot_y)\n",
    "#plt.plot(X,y)\n",
    "plt.show()\n",
    "#raise NotImplementedError()"
   ]
  },
  {
   "cell_type": "markdown",
   "metadata": {},
   "source": [
    "## V. Using the model\n",
    "\n",
    "Now suppose you wish to predict whether a particular firm which has an ROE of 0.0 and a current ratio of 0.0 is more likely or not to be insolvent. According to your model, what is the probability that it is insolvent?\n",
    "\n",
    "Complete the following function to compute an answer.  Your one line of code should be of the form\n",
    "\n",
    "~~~python\n",
    "prob = ---(---(---, ---))\n",
    "~~~\n",
    "\n",
    "If implemented correctly, For ROE of 0.0, Current ratio of 0.0, and parameters `theta_opt` that you have already calculated using `fmin_bfgs` with respect to your features $X$ and correct labels $y$, the probability of insolvency for such a firm should be approximately $0.4$.\n",
    "\n",
    "<div class=\"alert alert-block alert-info\">\n",
    "<b>Hint:</b> The function templates you have worked up until now have used the same variable names as global variables that you have been using, but this convention is about to change.  This convention was helpful to get us started to see how these various pieces are put together. But, unfortunately, this convention comes with a cost, since our functions are general: they do not and <b> should not hard-code variables </b> from outside the function call.  For example, <b>costFunction(theta, X, y)</b> takes as arguments three <b>variables</b>. In practice, you can call <b>costFunction(duck, Xman, why)</b>, where 'duck' is substituted inside the function for 'theta', 'Xman' for 'X', and 'why' for 'y'. Assuming these variables are of the right type, the algorithm will run.  A mistake that can happen is to hard code our X into a function, rather than using whatever is called in the X position.\n",
    "\n",
    "This might not make sense until you run into an error. However, you may run into an error involving <b>theta</b> now that we have computed <b>theta_opt</b>.   \n",
    "</div>"
   ]
  },
  {
   "cell_type": "code",
   "execution_count": 60,
   "metadata": {
    "deletable": false,
    "nbgrader": {
     "cell_type": "code",
     "checksum": "0fdf05f6522fdd798cb3641e1cdcd56a",
     "grade": false,
     "grade_id": "probOfAcceptance-ans",
     "locked": false,
     "schema_version": 3,
     "solution": true
    }
   },
   "outputs": [],
   "source": [
    "def probabilityInsolvent(score1, score2, theta):\n",
    "    \"\"\"\n",
    "        probabilityInsolvent calculates the probability that a\n",
    "        firm is insolvent based on two indicators:\n",
    "        \n",
    "          score1, which in our model is the ROE score;\n",
    "          score2, which in our model is the Current Ratio;\n",
    "        \n",
    "        according to the logistic regression model parameterized by \n",
    "        \n",
    "          theta, the fitted parameter vector\n",
    "          \n",
    "        and the features matrix X and labeled category vector y.\n",
    " \n",
    "    \"\"\"\n",
    "    #construct a 1 x 2 array from score1 and score2\n",
    "    #print(score1)\n",
    "    #print(score2)\n",
    "    scores = np.array([score1, score2])\n",
    "    #C\n",
    "    # add a 1 to the front of scores, yielding \n",
    "    # a 1 x 3 array\n",
    "    scores = np.hstack((np.array([1]), scores))\n",
    "    #print(scores)\n",
    "    # calculate the probability (1 line)\n",
    "    # prob = ---\n",
    "    #\n",
    "    # YOUR CODE HERE\n",
    "    #print(np.dot(scores,theta))\n",
    "    prob = sigmoid(np.dot(scores,theta))\n",
    "    return prob"
   ]
  },
  {
   "cell_type": "code",
   "execution_count": 61,
   "metadata": {},
   "outputs": [
    {
     "data": {
      "text/plain": [
       "0.3971584898269461"
      ]
     },
     "execution_count": 61,
     "metadata": {},
     "output_type": "execute_result"
    }
   ],
   "source": [
    "# Compute the student's probability of acceptance\n",
    "probabilityInsolvent(0.0, 0.0, theta_opt)"
   ]
  },
  {
   "cell_type": "code",
   "execution_count": null,
   "metadata": {
    "deletable": false,
    "editable": false,
    "nbgrader": {
     "cell_type": "code",
     "checksum": "8e1ed3e9d1f55d4ab4b7816eaabe5866",
     "grade": true,
     "grade_id": "probOfAcceptance-test",
     "locked": true,
     "points": 0.5,
     "schema_version": 3,
     "solution": false
    }
   },
   "outputs": [],
   "source": []
  },
  {
   "cell_type": "markdown",
   "metadata": {},
   "source": [
    "## VI. Evaluating the model\n",
    "We can see from the plot of the decision boundary that our model is not completely accurate: there are some firms that we know are insolvent but which the model predicts are solvent and vice versa.  But how accurate is the model overall?\n",
    "\n",
    "To answer this question, we first define a `predictionAccuracy` function to predict values of $y$ given the values computed for $h_\\theta(x)$ by our logistic regression model.  This is done for you in the next cell."
   ]
  },
  {
   "cell_type": "code",
   "execution_count": 62,
   "metadata": {},
   "outputs": [],
   "source": [
    "# Evaluate the Accuracy of your Model\n",
    "# DO NOT EDIT \n",
    "def predictAccuracy(X, y, theta):\n",
    "    pred = [sigmoid(np.dot(X, theta)) >= 0.5]\n",
    "    acc = np.mean(pred == y)   \n",
    "    return acc"
   ]
  },
  {
   "cell_type": "code",
   "execution_count": 63,
   "metadata": {},
   "outputs": [
    {
     "data": {
      "text/plain": [
       "0.9178470254957507"
      ]
     },
     "execution_count": 63,
     "metadata": {},
     "output_type": "execute_result"
    }
   ],
   "source": [
    "#theta_opt\n",
    "predictAccuracy(X,y,theta_opt)"
   ]
  },
  {
   "cell_type": "markdown",
   "metadata": {},
   "source": [
    "Now apply `predictAccuracy` to get the accuracy of your optimized logistic regression model on the training data.  If implemented correctly, the training accuracy should be approximately $0.918$."
   ]
  },
  {
   "cell_type": "code",
   "execution_count": 64,
   "metadata": {
    "deletable": false,
    "editable": false,
    "nbgrader": {
     "cell_type": "code",
     "checksum": "fe86325d7ea8700c7979b6aa3fce806d",
     "grade": true,
     "grade_id": "training_accuracy_test",
     "locked": true,
     "points": 0.5,
     "schema_version": 3,
     "solution": false
    }
   },
   "outputs": [],
   "source": [
    "# Public Test\n",
    "assert len(theta_opt) == 3"
   ]
  },
  {
   "cell_type": "markdown",
   "metadata": {},
   "source": [
    "## VII. Changing the decision threshold\n",
    "\n",
    "The decision boundary we plotted above and the probabilities that we calculated for insolvency ($y = 1$) where keyed to a probability <b>threshold</b> of 1/2.  Recall that this threshold corresponds to when $z = 0$ for `sigmoid(z)`, which yields the probability $p(y =1) = g(0) = \\frac{1}{2}$. \n",
    "\n",
    "The next graph depicts a $g(z) = \\frac{1}{2}$ threshold as a function of $z =0$, plotted in red. Recall that negative values of $z$ correspond to probability estimates that the negative ($ y = 0$) class is more likely than the than positive class $(y = 1$), positive values of $z$ correspond to estimates that the positive class ($y =1$) is more likely than the negative class ($y = 0$), and $z=0$, the corner case of even-odds that the class is positive or negative, is by convention included with the more-likely-than-not predictions that the class is positive ($y =1$).  \n",
    "\n",
    "\n",
    "\n",
    "<img src=\"ps2_fig04a.png\" alt=\"Scatter Plot\" style=\"width: 300px;\"/> \n",
    "\n",
    "Suppose we wish to have a higher probability of acceptance than 1/2, specifically $p(y =1) = 0.7$.  As a function of $z$, this would entail moving the threshold to the right:\n",
    "<img src=\"ps2_fig04b.png\" alt=\"Scatter Plot\" style=\"width: 300px;\"/>\n",
    "\n",
    "Your task is to (i) plot a <b> new decision boundary</b> and (ii) find a threshold probability that <b>maximizes</b> the accuracy score computed by `np.mean(pred ==y)`, where `pred` predicts whether $y = 1$ or $y = 0$ depending on the the probability threshold for acceptance, which can range from 0 to 1.\n",
    "\n",
    "### Step 1. New Decision Boundary\n",
    "Use the next cell to compute and plot a new decision boundary where $p(y =1) = 0.7$ rather than $p(y = 0) = 0.5$. "
   ]
  },
  {
   "cell_type": "code",
   "execution_count": null,
   "metadata": {},
   "outputs": [],
   "source": []
  },
  {
   "cell_type": "code",
   "execution_count": 65,
   "metadata": {
    "deletable": false,
    "nbgrader": {
     "cell_type": "code",
     "checksum": "dcc0ac130e074c89e4b02ef74e42ab48",
     "grade": true,
     "grade_id": "decision-boundary-new",
     "locked": false,
     "points": 1,
     "schema_version": 3,
     "solution": true
    }
   },
   "outputs": [],
   "source": [
    "# YOUR CODE HERE\n",
    "z = 0\n",
    "gz = 1 / (1 + np.exp(-z + np.log(3/7)))\n",
    "#print(gz)"
   ]
  },
  {
   "cell_type": "markdown",
   "metadata": {},
   "source": [
    "### Step 2. New Predicted Probability of Insolvency\n",
    "\n",
    "Our accuracy score is approximately $0.918$.  Can we get a higher accuracy score? This is the question we will explore next.\n",
    "\n",
    "There are two functions to finish: (i) `newPredictAccuracy()` computes the accuracy of your model with a given threshold probability value specified by `threshold`; (ii) `maxAcc()` finds the threshold value or values which maximizes the accuracy score computed by `newPredictAccuracy()` and returns two variables: `acc`, which stores the highest accuracy score, and `thresh`, which stores the threshold value or values in an np.array for that highest score. \n",
    "\n",
    "To simplify computations and standardize answers, the <b>precision criterion</b> of tested threshold values is <b>two decimal places</b>.  For example, given the closed interval $[0.49, 0.51]$ the sequence of threshold values from you would use is $(0.49, 0.50, 0.51)$. No other number within $[0.49, 0.51]$ satisfies the precision criterion. \n"
   ]
  },
  {
   "cell_type": "code",
   "execution_count": 66,
   "metadata": {
    "deletable": false,
    "nbgrader": {
     "cell_type": "code",
     "checksum": "8de048ece298569a0ad73993155342b8",
     "grade": false,
     "grade_id": "new_predict_acc",
     "locked": false,
     "schema_version": 3,
     "solution": true
    }
   },
   "outputs": [],
   "source": [
    "## complete the function\n",
    "def newPredictAccuracy(X, y, theta, threshold=0.5):\n",
    "    # YOUR CODE HERE\n",
    "    pred = [sigmoid(np.dot(X, theta)) >= threshold]\n",
    "    acc = np.mean(pred == y)\n",
    "    #raise NotImplementedError()\n",
    "    return acc"
   ]
  },
  {
   "cell_type": "code",
   "execution_count": null,
   "metadata": {
    "deletable": false,
    "editable": false,
    "nbgrader": {
     "cell_type": "code",
     "checksum": "cbee1e0dc05152792be441a65ca5f665",
     "grade": true,
     "grade_id": "new_predict_acc-test",
     "locked": true,
     "points": 0.5,
     "schema_version": 3,
     "solution": false
    }
   },
   "outputs": [],
   "source": []
  },
  {
   "cell_type": "code",
   "execution_count": 67,
   "metadata": {
    "deletable": false,
    "nbgrader": {
     "cell_type": "code",
     "checksum": "08a9ac4f56f0b097012c6036496f26dc",
     "grade": false,
     "grade_id": "maxACC",
     "locked": false,
     "schema_version": 3,
     "solution": true
    }
   },
   "outputs": [],
   "source": [
    "## complete the function\n",
    "def maxAcc(X,y,theta):\n",
    "    # YOUR CODE HERE\n",
    "    acc_list = []\n",
    "    for i in np.arange (0.00, 1.00, 0.01):\n",
    "        all_thresh = i\n",
    "        test_acc = newPredictAccuracy(X, y, theta_opt, all_thresh)\n",
    "        acc_list.append(test_acc)\n",
    "        acc = max(acc_list)\n",
    "        thres_list = [index for index, value in enumerate(acc_list) if value == acc]\n",
    "        thresh = np.array([x / 100 for x in thres_list])\n",
    "    \n",
    "    # raise NotImplementedError()\n",
    "    return ans, thresh"
   ]
  },
  {
   "cell_type": "code",
   "execution_count": 68,
   "metadata": {},
   "outputs": [
    {
     "data": {
      "text/plain": [
       "(['B'], array([0.41, 0.42, 0.43]))"
      ]
     },
     "execution_count": 68,
     "metadata": {},
     "output_type": "execute_result"
    }
   ],
   "source": [
    "maxAcc(X,y,theta_opt)"
   ]
  },
  {
   "cell_type": "code",
   "execution_count": null,
   "metadata": {
    "deletable": false,
    "editable": false,
    "nbgrader": {
     "cell_type": "code",
     "checksum": "41dc8dec642cc602aaa238864da4981d",
     "grade": true,
     "grade_id": "maxAcc-test-1",
     "locked": true,
     "points": 0.5,
     "schema_version": 3,
     "solution": false
    }
   },
   "outputs": [],
   "source": []
  },
  {
   "cell_type": "code",
   "execution_count": null,
   "metadata": {},
   "outputs": [],
   "source": []
  },
  {
   "cell_type": "code",
   "execution_count": null,
   "metadata": {
    "deletable": false,
    "editable": false,
    "nbgrader": {
     "cell_type": "code",
     "checksum": "04e626194f7c1ea6cb2446e7c9a1b927",
     "grade": true,
     "grade_id": "maxAcc-test-2",
     "locked": true,
     "points": 0.5,
     "schema_version": 3,
     "solution": false
    }
   },
   "outputs": [],
   "source": []
  },
  {
   "cell_type": "code",
   "execution_count": null,
   "metadata": {
    "deletable": false,
    "editable": false,
    "nbgrader": {
     "cell_type": "code",
     "checksum": "3e9dc3e52783169a011be0ead1741dd3",
     "grade": true,
     "grade_id": "maxAcc-test-3",
     "locked": true,
     "points": 0.5,
     "schema_version": 3,
     "solution": false
    }
   },
   "outputs": [],
   "source": []
  },
  {
   "cell_type": "markdown",
   "metadata": {},
   "source": [
    "# PART B - SciKit-Learn Logistic Regression\n",
    "\n",
    "Naturally, there are built-in libraries for logistic regression classification models.  In fact, it just takes a few lines of code once we import `LogisticRegression` from the `linear_model` methods in the `sklearn` (scikit-learn) library."
   ]
  },
  {
   "cell_type": "code",
   "execution_count": 69,
   "metadata": {},
   "outputs": [],
   "source": [
    "from sklearn.linear_model import LogisticRegression"
   ]
  },
  {
   "cell_type": "markdown",
   "metadata": {},
   "source": [
    "Sklearn uses a common [API](https://en.wikipedia.org/wiki/Application_programming_interface) for building models. So, the sequence we follow to build a simple linear model resembles the sequence of steps for building a wide range of models.  It is good, therefore, to become aquainted with this tool.\n",
    "\n",
    "Basically, there are two steps:\n",
    "\n",
    " - Instantiate a model\n",
    "  \n",
    " - Fit the model\n",
    "\n",
    "Followed by plotting and some rudimentary anlysis of the model. Later in the course we will add a third step, which involves making predictions and evaluating the accuracy of those predictions."
   ]
  },
  {
   "cell_type": "markdown",
   "metadata": {},
   "source": [
    "---\n",
    "## Question 3\n",
    "\n",
    "To answer the next question, you should use a [Sklearn logistic regression](https://scikit-learn.org/stable/modules/generated/sklearn.linear_model.LogisticRegression.html) model and methods. It is necessary to use the following (and only the following) parameter settings:\n",
    "\n",
    "~~~python\n",
    "model = LogisticRegression(random_state=21)\n",
    "\n",
    "~~~\n",
    "\n",
    "There are four quantities that you will need to report about your Logistic regression model: \n",
    "\n",
    " - a) The predicted probability that $y=0$ for the first observation in the training set, rounded to 3 decimal places.\n",
    " - b) The predicted class label of the last observation in the training set.\n",
    " - c) True or False: the predicted class label of the last observation in the training set is  correct.  \n",
    "\n",
    "\n",
    "Complete the next function to record your answer(s). Pay attention to data types.\n",
    "\n",
    "---"
   ]
  },
  {
   "cell_type": "code",
   "execution_count": 70,
   "metadata": {
    "deletable": false,
    "nbgrader": {
     "cell_type": "code",
     "checksum": "f56698fc1117e363d0bfe77d4d9191ea",
     "grade": false,
     "grade_id": "Question-3",
     "locked": false,
     "schema_version": 3,
     "solution": true,
     "task": false
    }
   },
   "outputs": [],
   "source": [
    "def ans_three():\n",
    "    \"\"\" Returns four numerical values of your linear model.  \n",
    "    \n",
    "    Parameters\n",
    "    ----------\n",
    "    :a:  float\n",
    "        The predicted probability of the first training example, rounded to 3 decimal places.\n",
    "    :b:  float\n",
    "        The predicted class label of the last observation in the taining set\n",
    "    :c:  Boolean\n",
    "        The truth value of the assertion that the predicted label of the last observation is correct.\n",
    "    \n",
    "    Returns\n",
    "    -------\n",
    "    :a:\n",
    "    :b:\n",
    "    :c:\n",
    "    \"\"\"\n",
    " \n",
    "    # YOUR CODE HERE\n",
    "    from sklearn.linear_model import LogisticRegression\n",
    "    model = LogisticRegression(random_state=21).fit(X, y)\n",
    "    a = model.predict_proba(X[:1, :])[0][0]\n",
    "    b = model.predict(X[-1:,:])[0]\n",
    "    c = (b == y[-1])\n",
    "    #raise NotImplementedError()\n",
    "    return a, b, c # do not edit"
   ]
  },
  {
   "cell_type": "code",
   "execution_count": 71,
   "metadata": {},
   "outputs": [
    {
     "data": {
      "text/plain": [
       "(0.6206700436260497, 1, False)"
      ]
     },
     "execution_count": 71,
     "metadata": {},
     "output_type": "execute_result"
    }
   ],
   "source": [
    "ans_three()"
   ]
  },
  {
   "cell_type": "code",
   "execution_count": null,
   "metadata": {
    "deletable": false,
    "editable": false,
    "nbgrader": {
     "cell_type": "code",
     "checksum": "32484f05fce8a0a4c81715bfd96f2035",
     "grade": true,
     "grade_id": "Question-3-test1",
     "locked": true,
     "points": 0.5,
     "schema_version": 3,
     "solution": false,
     "task": false
    }
   },
   "outputs": [],
   "source": []
  },
  {
   "cell_type": "code",
   "execution_count": null,
   "metadata": {
    "deletable": false,
    "editable": false,
    "nbgrader": {
     "cell_type": "code",
     "checksum": "24966e1d81aee742e01fbe2457fe025a",
     "grade": true,
     "grade_id": "cell-6fd340c7ecf36e8a",
     "locked": true,
     "points": 0.5,
     "schema_version": 3,
     "solution": false,
     "task": false
    }
   },
   "outputs": [],
   "source": []
  },
  {
   "cell_type": "code",
   "execution_count": null,
   "metadata": {
    "deletable": false,
    "editable": false,
    "nbgrader": {
     "cell_type": "code",
     "checksum": "4a163bc3d4048ed202fbd57daed6c6d7",
     "grade": true,
     "grade_id": "cell-98483df44ebaa642",
     "locked": true,
     "points": 0.5,
     "schema_version": 3,
     "solution": false,
     "task": false
    }
   },
   "outputs": [],
   "source": []
  },
  {
   "cell_type": "code",
   "execution_count": null,
   "metadata": {
    "deletable": false,
    "editable": false,
    "nbgrader": {
     "cell_type": "code",
     "checksum": "74d9936e7564e6ff345fb45a606c92b1",
     "grade": true,
     "grade_id": "cell-5425d410332fcbb9",
     "locked": true,
     "points": 0,
     "schema_version": 3,
     "solution": false,
     "task": false
    }
   },
   "outputs": [],
   "source": [
    "# Test for Collaborator policy before submission\n",
    "%run -i 'collaboration_test.py'"
   ]
  },
  {
   "cell_type": "markdown",
   "metadata": {
    "deletable": false,
    "editable": false,
    "nbgrader": {
     "cell_type": "markdown",
     "checksum": "a00e150ce7f067aee6e3312b34cca309",
     "grade": false,
     "grade_id": "cell-15ddd442d94aef91",
     "locked": true,
     "schema_version": 3,
     "solution": false
    }
   },
   "source": [
    "Before turning this notebook in, you should do the following steps:\n",
    "  \n",
    "  1. __Restart Kernel__ (Kernel ⟶ Restart and Clear Output)\n",
    "  2. __Run all Cells__ (Cell ⟶ Run All)\n",
    "  3. __Validate__: Press the 'Validate' button\n",
    "  4. __Save File__ (File ⟶ Save and Checkpoint)\n",
    "  5. __Close and Shutdown Kernel__ (File ⟶ Close and Halt)"
   ]
  }
 ],
 "metadata": {
  "kernelspec": {
   "display_name": "Python 3",
   "language": "python",
   "name": "python3"
  },
  "language_info": {
   "codemirror_mode": {
    "name": "ipython",
    "version": 3
   },
   "file_extension": ".py",
   "mimetype": "text/x-python",
   "name": "python",
   "nbconvert_exporter": "python",
   "pygments_lexer": "ipython3",
   "version": "3.7.3"
  }
 },
 "nbformat": 4,
 "nbformat_minor": 2
}
