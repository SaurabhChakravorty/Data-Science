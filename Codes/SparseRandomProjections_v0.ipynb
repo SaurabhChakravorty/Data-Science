{
 "cells": [
  {
   "cell_type": "code",
   "execution_count": 1,
   "metadata": {},
   "outputs": [],
   "source": [
    "# Random projections of high-dimensional data\n",
    "# for database example: digits\n",
    "# Jan Nagler (adapted, Rosebrock)\n",
    "from sklearn.random_projection import johnson_lindenstrauss_min_dim\n",
    "from sklearn.random_projection import SparseRandomProjection\n",
    "from sklearn.svm import LinearSVC\n",
    "from sklearn.model_selection import train_test_split\n",
    "from sklearn import metrics\n",
    "from sklearn import datasets\n",
    "%matplotlib inline\n",
    "\n",
    "import warnings\n",
    "warnings.filterwarnings('ignore') # works\n",
    "#warnings.filterwarnings(action='once') #does not work\n",
    "\n",
    "import matplotlib.pyplot as plt\n",
    "import numpy as np"
   ]
  },
  {
   "cell_type": "code",
   "execution_count": 9,
   "metadata": {},
   "outputs": [
    {
     "data": {
      "image/png": "[encoded data removed]",
      "text/plain": [
       "<Figure size 216x216 with 1 Axes>"
      ]
     },
     "metadata": {
      "needs_background": "light"
     },
     "output_type": "display_data"
    }
   ],
   "source": [
    "# Load database digits\n",
    "digits = datasets.load_digits()\n",
    "split = train_test_split(digits.data, digits.target, test_size = 0.3,\n",
    "    random_state = 11)\n",
    "(trainData, testData, trainTarget, testTarget) = split\n",
    "\n",
    "# Display the first digit\n",
    "plt.figure(1, figsize=(3, 3))\n",
    "plt.imshow(digits.images[-1], cmap=plt.cm.gray_r, interpolation='nearest')\n",
    "plt.show()"
   ]
  },
  {
   "cell_type": "code",
   "execution_count": 3,
   "metadata": {},
   "outputs": [
    {
     "name": "stdout",
     "output_type": "stream",
     "text": [
      "Professors Johnson and Lindenstrauss say: k >= 6423\n"
     ]
    }
   ],
   "source": [
    "# Print what the theory says for k, given an eps(ilon)\n",
    "# for n=1797 images, dimension d=8x8=64 (digits)\n",
    "print (\"Professors Johnson and Lindenstrauss say: k >=\", johnson_lindenstrauss_min_dim(1797,eps=0.1))"
   ]
  },
  {
   "cell_type": "code",
   "execution_count": 4,
   "metadata": {},
   "outputs": [
    {
     "data": {
      "text/plain": [
       "array([ 2,  5,  8, 11, 15, 18, 21, 24, 28, 31, 34, 37, 41, 44, 47, 50, 54,\n",
       "       57, 60, 64])"
      ]
     },
     "execution_count": 4,
     "metadata": {},
     "output_type": "execute_result"
    }
   ],
   "source": [
    "model = LinearSVC()\n",
    "model.fit(trainData, trainTarget)\n",
    "baseline = metrics.accuracy_score(model.predict(testData), testTarget)\n",
    "accuracies = []\n",
    "dims = np.int32(np.linspace(2, 64, 20))"
   ]
  },
  {
   "cell_type": "code",
   "execution_count": 33,
   "metadata": {},
   "outputs": [],
   "source": [
    "# Loop over the projection sizes, k\n",
    "for dim in dims:\n",
    "    # Create random projection\n",
    "    sp = SparseRandomProjection(n_components = dim)\n",
    "    X = sp.fit_transform(trainData)\n",
    " \n",
    "    # Train classifier of your choice on the sparse random projection\n",
    "    model = LinearSVC()\n",
    "    model.fit(X, trainTarget)\n",
    " \n",
    "    # Evaluate model and update accuracies\n",
    "    test = sp.transform(testData)\n",
    "    accuracies.append(metrics.accuracy_score(model.predict(test), testTarget))"
   ]
  },
  {
   "cell_type": "code",
   "execution_count": 34,
   "metadata": {},
   "outputs": [
    {
     "data": {
      "image/png": "[encoded data removed]",
      "text/plain": [
       "<Figure size 432x288 with 1 Axes>"
      ]
     },
     "metadata": {},
     "output_type": "display_data"
    }
   ],
   "source": [
    "# Create figure\n",
    "plt.figure()\n",
    "plt.xlabel(\"# of dimensions k\")\n",
    "plt.ylabel(\"Accuracy\")\n",
    "plt.xlim([2, 64])\n",
    "plt.ylim([0, 1])\n",
    " \n",
    "# Plot baseline and random projection accuracies\n",
    "plt.plot(dims, [baseline] * len(accuracies), color = \"r\")\n",
    "plt.plot(dims, accuracies)\n",
    "\n",
    "plt.show()"
   ]
  },
  {
   "cell_type": "code",
   "execution_count": null,
   "metadata": {},
   "outputs": [],
   "source": []
  }
 ],
 "metadata": {
  "kernelspec": {
   "display_name": "Python 3",
   "language": "python",
   "name": "python3"
  },
  "language_info": {
   "codemirror_mode": {
    "name": "ipython",
    "version": 3
   },
   "file_extension": ".py",
   "mimetype": "text/x-python",
   "name": "python",
   "nbconvert_exporter": "python",
   "pygments_lexer": "ipython3",
   "version": "3.7.3"
  }
 },
 "nbformat": 4,
 "nbformat_minor": 2
}
