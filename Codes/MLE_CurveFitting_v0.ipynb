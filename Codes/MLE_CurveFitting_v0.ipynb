{
 "cells": [
  {
   "cell_type": "code",
   "execution_count": 114,
   "metadata": {},
   "outputs": [],
   "source": [
    "## Basic MLE curve fitting with choice of solver & error model\n",
    "## as a response to a question in the class on April 18, 2020, AC\n",
    "## Jan Nagler, adapted\n",
    "import numpy as np\n",
    "from scipy.optimize import minimize\n",
    "import pylab as py\n",
    "%matplotlib inline \n",
    "\n",
    "#create, define or load your data here, e.g. a histogram\n",
    "ydata = np.array([0.13,0.15,0.23,0.32,0.72,0.86,0.98, 0.99, 0.95])\n",
    "xdata = np.array(range(0,len(ydata),1))"
   ]
  },
  {
   "cell_type": "code",
   "execution_count": 115,
   "metadata": {},
   "outputs": [],
   "source": [
    "#define your function here, with parameters\n",
    "def function(params,  x):\n",
    "    beta = params[0]\n",
    "    x0   = params[1]\n",
    "    #return x0+x*beta # linear\n",
    "    return 1 / (1 + np.exp(-beta*(x-x0))) # sigmoid\n",
    "    #return np.exp(-abs(beta)*(x-x0)**2) # gaussian \n",
    "    #return abs(x-x0)**beta # power law"
   ]
  },
  {
   "cell_type": "code",
   "execution_count": 116,
   "metadata": {},
   "outputs": [],
   "source": [
    "# keep sigma for MLE fitting as the last\n",
    "# (additional) parameter\n",
    "def fitfunction(params):\n",
    "    sigma = params[2] # last parameter has to be std dev of error\n",
    "    # Calculate negative log likelihood\n",
    "    # the \"error model\" is here gaussian\n",
    "    # you can change to other choices than stats.norm.logpdf, e.g., binomial, etc\n",
    "    LL = -np.sum( stats.norm.logpdf(ydata, loc=function(params, xdata), scale=sigma) )\n",
    "    #if LL<-5: print(sigma, np.exp(LL)) # output convergence process, if helpful\n",
    "    return(LL)"
   ]
  },
  {
   "cell_type": "code",
   "execution_count": 117,
   "metadata": {},
   "outputs": [
    {
     "name": "stdout",
     "output_type": "stream",
     "text": [
      " final_simplex: (array([[0.99898267, 3.29477847, 0.05811306],\n",
      "       [0.99893484, 3.29471772, 0.05811058],\n",
      "       [0.99891985, 3.29477024, 0.05811271],\n",
      "       [0.99893146, 3.29473801, 0.05811566]]), array([-12.83817411, -12.83817411, -12.83817408, -12.83817406]))\n",
      "           fun: -12.838174114367352\n",
      "       message: 'Optimization terminated successfully.'\n",
      "          nfev: 181\n",
      "           nit: 100\n",
      "        status: 0\n",
      "       success: True\n",
      "             x: array([0.99898267, 3.29477847, 0.05811306])\n"
     ]
    },
    {
     "data": {
      "image/png": "[encoded data removed]",
      "text/plain": [
       "<Figure size 432x288 with 1 Axes>"
      ]
     },
     "metadata": {},
     "output_type": "display_data"
    }
   ],
   "source": [
    "initParams = [1, 1, 1] # start somewhere\n",
    "\n",
    "#nelder mead is fast and universal but may get stuck in local minima\n",
    "#you can use other solvers to find minimum in parameter space\n",
    "results = minimize( fitfunction, initParams, method='Nelder-Mead')\n",
    "print (results)\n",
    "\n",
    "estParms = results.x\n",
    "yfit = function(estParms, xdata)\n",
    "\n",
    "py.clf()\n",
    "py.plot(xdata, ydata, 'ro', alpha=0.3)\n",
    "py.plot(xdata, yfit)\n",
    "py.show()\n",
    "\n",
    "#quick for recalling MLE\n",
    "#https://towardsdatascience.com/a-gentle-introduction-to-maximum-likelihood-estimation-9fbff27ea12f"
   ]
  },
  {
   "cell_type": "code",
   "execution_count": null,
   "metadata": {},
   "outputs": [],
   "source": []
  }
 ],
 "metadata": {
  "kernelspec": {
   "display_name": "Python 3",
   "language": "python",
   "name": "python3"
  },
  "language_info": {
   "codemirror_mode": {
    "name": "ipython",
    "version": 3
   },
   "file_extension": ".py",
   "mimetype": "text/x-python",
   "name": "python",
   "nbconvert_exporter": "python",
   "pygments_lexer": "ipython3",
   "version": "3.7.3"
  }
 },
 "nbformat": 4,
 "nbformat_minor": 2
}
