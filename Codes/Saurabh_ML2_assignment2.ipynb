{
 "cells": [
  {
   "cell_type": "markdown",
   "metadata": {},
   "source": [
    "## Non Linear classification based on SVM"
   ]
  },
  {
   "cell_type": "markdown",
   "metadata": {},
   "source": [
    "### Importing libraries"
   ]
  },
  {
   "cell_type": "code",
   "execution_count": 59,
   "metadata": {},
   "outputs": [],
   "source": [
    "# All SVM and kernel dependencies\n",
    "import numpy as np\n",
    "import pandas as pd\n",
    "from sklearn import datasets\n",
    "from sklearn.model_selection import train_test_split\n",
    "from sklearn.preprocessing import StandardScaler\n",
    "from sklearn import svm\n",
    "from sklearn.metrics import classification_report\n",
    "from sklearn import metrics\n",
    "from sklearn.metrics import confusion_matrix\n",
    "from sklearn.model_selection import KFold, cross_val_score, validation_curve\n",
    "from sklearn.metrics import fbeta_score\n",
    "from sklearn.metrics import make_scorer\n",
    "from sklearn.model_selection import GridSearchCV\n",
    "import matplotlib.pyplot as plt\n",
    "import seaborn as sns\n",
    "%matplotlib inline\n",
    "import warnings\n",
    "warnings.filterwarnings(\"ignore\")\n",
    "from IPython.display import display, Math, Latex\n",
    "#plt.rcParams['figure.figsize'] = (10,10)"
   ]
  },
  {
   "cell_type": "markdown",
   "metadata": {},
   "source": [
    "### The data souce is collected from datasets package and the data is about breast cancer"
   ]
  },
  {
   "cell_type": "code",
   "execution_count": 60,
   "metadata": {},
   "outputs": [
    {
     "data": {
      "text/html": [
       "<div>\n",
       "<style scoped>\n",
       "    .dataframe tbody tr th:only-of-type {\n",
       "        vertical-align: middle;\n",
       "    }\n",
       "\n",
       "    .dataframe tbody tr th {\n",
       "        vertical-align: top;\n",
       "    }\n",
       "\n",
       "    .dataframe thead th {\n",
       "        text-align: right;\n",
       "    }\n",
       "</style>\n",
       "<table border=\"1\" class=\"dataframe\">\n",
       "  <thead>\n",
       "    <tr style=\"text-align: right;\">\n",
       "      <th></th>\n",
       "      <th>mean radius</th>\n",
       "      <th>mean texture</th>\n",
       "      <th>mean perimeter</th>\n",
       "      <th>mean area</th>\n",
       "      <th>mean smoothness</th>\n",
       "      <th>mean compactness</th>\n",
       "      <th>mean concavity</th>\n",
       "      <th>mean concave points</th>\n",
       "      <th>mean symmetry</th>\n",
       "      <th>mean fractal dimension</th>\n",
       "      <th>...</th>\n",
       "      <th>worst radius</th>\n",
       "      <th>worst texture</th>\n",
       "      <th>worst perimeter</th>\n",
       "      <th>worst area</th>\n",
       "      <th>worst smoothness</th>\n",
       "      <th>worst compactness</th>\n",
       "      <th>worst concavity</th>\n",
       "      <th>worst concave points</th>\n",
       "      <th>worst symmetry</th>\n",
       "      <th>worst fractal dimension</th>\n",
       "    </tr>\n",
       "  </thead>\n",
       "  <tbody>\n",
       "    <tr>\n",
       "      <th>0</th>\n",
       "      <td>17.99</td>\n",
       "      <td>10.38</td>\n",
       "      <td>122.80</td>\n",
       "      <td>1001.0</td>\n",
       "      <td>0.11840</td>\n",
       "      <td>0.27760</td>\n",
       "      <td>0.3001</td>\n",
       "      <td>0.14710</td>\n",
       "      <td>0.2419</td>\n",
       "      <td>0.07871</td>\n",
       "      <td>...</td>\n",
       "      <td>25.38</td>\n",
       "      <td>17.33</td>\n",
       "      <td>184.60</td>\n",
       "      <td>2019.0</td>\n",
       "      <td>0.1622</td>\n",
       "      <td>0.6656</td>\n",
       "      <td>0.7119</td>\n",
       "      <td>0.2654</td>\n",
       "      <td>0.4601</td>\n",
       "      <td>0.11890</td>\n",
       "    </tr>\n",
       "    <tr>\n",
       "      <th>1</th>\n",
       "      <td>20.57</td>\n",
       "      <td>17.77</td>\n",
       "      <td>132.90</td>\n",
       "      <td>1326.0</td>\n",
       "      <td>0.08474</td>\n",
       "      <td>0.07864</td>\n",
       "      <td>0.0869</td>\n",
       "      <td>0.07017</td>\n",
       "      <td>0.1812</td>\n",
       "      <td>0.05667</td>\n",
       "      <td>...</td>\n",
       "      <td>24.99</td>\n",
       "      <td>23.41</td>\n",
       "      <td>158.80</td>\n",
       "      <td>1956.0</td>\n",
       "      <td>0.1238</td>\n",
       "      <td>0.1866</td>\n",
       "      <td>0.2416</td>\n",
       "      <td>0.1860</td>\n",
       "      <td>0.2750</td>\n",
       "      <td>0.08902</td>\n",
       "    </tr>\n",
       "    <tr>\n",
       "      <th>2</th>\n",
       "      <td>19.69</td>\n",
       "      <td>21.25</td>\n",
       "      <td>130.00</td>\n",
       "      <td>1203.0</td>\n",
       "      <td>0.10960</td>\n",
       "      <td>0.15990</td>\n",
       "      <td>0.1974</td>\n",
       "      <td>0.12790</td>\n",
       "      <td>0.2069</td>\n",
       "      <td>0.05999</td>\n",
       "      <td>...</td>\n",
       "      <td>23.57</td>\n",
       "      <td>25.53</td>\n",
       "      <td>152.50</td>\n",
       "      <td>1709.0</td>\n",
       "      <td>0.1444</td>\n",
       "      <td>0.4245</td>\n",
       "      <td>0.4504</td>\n",
       "      <td>0.2430</td>\n",
       "      <td>0.3613</td>\n",
       "      <td>0.08758</td>\n",
       "    </tr>\n",
       "    <tr>\n",
       "      <th>3</th>\n",
       "      <td>11.42</td>\n",
       "      <td>20.38</td>\n",
       "      <td>77.58</td>\n",
       "      <td>386.1</td>\n",
       "      <td>0.14250</td>\n",
       "      <td>0.28390</td>\n",
       "      <td>0.2414</td>\n",
       "      <td>0.10520</td>\n",
       "      <td>0.2597</td>\n",
       "      <td>0.09744</td>\n",
       "      <td>...</td>\n",
       "      <td>14.91</td>\n",
       "      <td>26.50</td>\n",
       "      <td>98.87</td>\n",
       "      <td>567.7</td>\n",
       "      <td>0.2098</td>\n",
       "      <td>0.8663</td>\n",
       "      <td>0.6869</td>\n",
       "      <td>0.2575</td>\n",
       "      <td>0.6638</td>\n",
       "      <td>0.17300</td>\n",
       "    </tr>\n",
       "    <tr>\n",
       "      <th>4</th>\n",
       "      <td>20.29</td>\n",
       "      <td>14.34</td>\n",
       "      <td>135.10</td>\n",
       "      <td>1297.0</td>\n",
       "      <td>0.10030</td>\n",
       "      <td>0.13280</td>\n",
       "      <td>0.1980</td>\n",
       "      <td>0.10430</td>\n",
       "      <td>0.1809</td>\n",
       "      <td>0.05883</td>\n",
       "      <td>...</td>\n",
       "      <td>22.54</td>\n",
       "      <td>16.67</td>\n",
       "      <td>152.20</td>\n",
       "      <td>1575.0</td>\n",
       "      <td>0.1374</td>\n",
       "      <td>0.2050</td>\n",
       "      <td>0.4000</td>\n",
       "      <td>0.1625</td>\n",
       "      <td>0.2364</td>\n",
       "      <td>0.07678</td>\n",
       "    </tr>\n",
       "  </tbody>\n",
       "</table>\n",
       "<p>5 rows × 30 columns</p>\n",
       "</div>"
      ],
      "text/plain": [
       "   mean radius  mean texture  mean perimeter  mean area  mean smoothness  \\\n",
       "0        17.99         10.38          122.80     1001.0          0.11840   \n",
       "1        20.57         17.77          132.90     1326.0          0.08474   \n",
       "2        19.69         21.25          130.00     1203.0          0.10960   \n",
       "3        11.42         20.38           77.58      386.1          0.14250   \n",
       "4        20.29         14.34          135.10     1297.0          0.10030   \n",
       "\n",
       "   mean compactness  mean concavity  mean concave points  mean symmetry  \\\n",
       "0           0.27760          0.3001              0.14710         0.2419   \n",
       "1           0.07864          0.0869              0.07017         0.1812   \n",
       "2           0.15990          0.1974              0.12790         0.2069   \n",
       "3           0.28390          0.2414              0.10520         0.2597   \n",
       "4           0.13280          0.1980              0.10430         0.1809   \n",
       "\n",
       "   mean fractal dimension  ...  worst radius  worst texture  worst perimeter  \\\n",
       "0                 0.07871  ...         25.38          17.33           184.60   \n",
       "1                 0.05667  ...         24.99          23.41           158.80   \n",
       "2                 0.05999  ...         23.57          25.53           152.50   \n",
       "3                 0.09744  ...         14.91          26.50            98.87   \n",
       "4                 0.05883  ...         22.54          16.67           152.20   \n",
       "\n",
       "   worst area  worst smoothness  worst compactness  worst concavity  \\\n",
       "0      2019.0            0.1622             0.6656           0.7119   \n",
       "1      1956.0            0.1238             0.1866           0.2416   \n",
       "2      1709.0            0.1444             0.4245           0.4504   \n",
       "3       567.7            0.2098             0.8663           0.6869   \n",
       "4      1575.0            0.1374             0.2050           0.4000   \n",
       "\n",
       "   worst concave points  worst symmetry  worst fractal dimension  \n",
       "0                0.2654          0.4601                  0.11890  \n",
       "1                0.1860          0.2750                  0.08902  \n",
       "2                0.2430          0.3613                  0.08758  \n",
       "3                0.2575          0.6638                  0.17300  \n",
       "4                0.1625          0.2364                  0.07678  \n",
       "\n",
       "[5 rows x 30 columns]"
      ]
     },
     "execution_count": 60,
     "metadata": {},
     "output_type": "execute_result"
    }
   ],
   "source": [
    "#Load dataset\n",
    "cancer = datasets.load_breast_cancer()\n",
    "\n",
    "# Convert to df\n",
    "df = pd.DataFrame(cancer.data, columns=cancer.feature_names)\n",
    "df.head(5)"
   ]
  },
  {
   "cell_type": "markdown",
   "metadata": {},
   "source": [
    "Let's check the data by EDA and if an cleaning is required or not"
   ]
  },
  {
   "cell_type": "code",
   "execution_count": 61,
   "metadata": {},
   "outputs": [
    {
     "name": "stdout",
     "output_type": "stream",
     "text": [
      "The missing values in data columns :\n",
      "mean radius                0\n",
      "mean texture               0\n",
      "mean perimeter             0\n",
      "mean area                  0\n",
      "mean smoothness            0\n",
      "mean compactness           0\n",
      "mean concavity             0\n",
      "mean concave points        0\n",
      "mean symmetry              0\n",
      "mean fractal dimension     0\n",
      "radius error               0\n",
      "texture error              0\n",
      "perimeter error            0\n",
      "area error                 0\n",
      "smoothness error           0\n",
      "compactness error          0\n",
      "concavity error            0\n",
      "concave points error       0\n",
      "symmetry error             0\n",
      "fractal dimension error    0\n",
      "worst radius               0\n",
      "worst texture              0\n",
      "worst perimeter            0\n",
      "worst area                 0\n",
      "worst smoothness           0\n",
      "worst compactness          0\n",
      "worst concavity            0\n",
      "worst concave points       0\n",
      "worst symmetry             0\n",
      "worst fractal dimension    0\n",
      "dtype: int64\n"
     ]
    }
   ],
   "source": [
    "print(\"The missing values in data columns :\")\n",
    "print(df.isna().sum())"
   ]
  },
  {
   "cell_type": "markdown",
   "metadata": {},
   "source": [
    "Let's prepare for higher dimensionality mapping i.e Kernelization"
   ]
  },
  {
   "cell_type": "code",
   "execution_count": 62,
   "metadata": {},
   "outputs": [],
   "source": [
    "# Split to X and y\n",
    "X = cancer.data\n",
    "y = cancer.target\n",
    "\n",
    "# Split into train and test set\n",
    "X_train, X_test, y_train, y_test = train_test_split(\n",
    "                                    X,y, test_size=0.3, random_state=330)"
   ]
  },
  {
   "cell_type": "markdown",
   "metadata": {},
   "source": [
    "#### Our aim is find that function that linearly maps the points in higher dimensional space perfectly\n",
    "\n",
    " **$$ K(x,y) = <φ(x),φ(y)> $$**\n",
    " \n",
    "*The K value which follows Mercer's rule with the function φ(x)*"
   ]
  },
  {
   "cell_type": "markdown",
   "metadata": {},
   "source": [
    "### Normalizing values"
   ]
  },
  {
   "cell_type": "markdown",
   "metadata": {},
   "source": [
    "Fitting the values with standard scaler for bringing all the axis in one scale"
   ]
  },
  {
   "cell_type": "code",
   "execution_count": 63,
   "metadata": {},
   "outputs": [],
   "source": [
    "# Scaling the values\n",
    "sc = StandardScaler()\n",
    "X_train = sc.fit_transform(X_train)\n",
    "X_test = sc.transform(X_test)"
   ]
  },
  {
   "cell_type": "markdown",
   "metadata": {},
   "source": [
    "### Training The model"
   ]
  },
  {
   "cell_type": "markdown",
   "metadata": {},
   "source": [
    "#### The model to be used here is SVM with two types of kernels:\n",
    "\n",
    "##### 1.  Gaussian Kernels\n",
    "          Gaussian kernels are used to map to infinite dimensional space"
   ]
  },
  {
   "cell_type": "markdown",
   "metadata": {},
   "source": [
    "\\begin{equation}\n",
    "k(x,x') = e^{\\frac{-||x - x'||}{2 * \\sigma ^2}}\n",
    "\\end{equation}"
   ]
  },
  {
   "cell_type": "markdown",
   "metadata": {},
   "source": [
    "##### 2.  Polynomial Kernels\n",
    "          Polynomial Kernel can be used to find projections of data in higher dimensional space to find linearity\n",
    "          "
   ]
  },
  {
   "cell_type": "markdown",
   "metadata": {},
   "source": [
    "\\begin{equation}\n",
    "k(x,x') = (1 + X^T*X')^d\n",
    "\\end{equation}"
   ]
  },
  {
   "cell_type": "code",
   "execution_count": 64,
   "metadata": {},
   "outputs": [],
   "source": [
    "from sklearn.model_selection import train_test_split\n",
    "from sklearn.model_selection import GridSearchCV\n",
    "from sklearn.svm import SVC\n",
    "from sklearn.metrics import f1_score, precision_score, confusion_matrix, recall_score, accuracy_score,classification_report,roc_auc_score\n",
    "from sklearn.metrics import fbeta_score\n",
    "from sklearn.metrics import make_scorer\n",
    "\n",
    "class classification:\n",
    "  \n",
    " def __init__(self, X, y):\n",
    "    \n",
    "    self.X_train, self.X_test, self.y_train, self.y_test = train_test_split(X, y, test_size=0.2, random_state=42)\n",
    "    self.labels = np.unique(y).tolist()\n",
    "\n",
    " def confusion_matrix(self):\n",
    "\n",
    "    cm = confusion_matrix(self.y_test, self.pred, self.labels)\n",
    "    print(\" The confusion matrix is :\", '\\n' , cm)\n",
    "    fig = plt.figure()\n",
    "    ax = fig.add_subplot(111)\n",
    "    cax = ax.matshow(cm)\n",
    "    plt.title('Confusion matrix of the classifier')\n",
    "    fig.colorbar(cax)\n",
    "    ax.set_xticklabels([''] + self.labels)\n",
    "    ax.set_yticklabels([''] + self.labels)\n",
    "    plt.xlabel('$Predicted$')\n",
    "    plt.ylabel('$True$')\n",
    "    plt.show()\n",
    "    \n",
    " def calc_metrics_class(self):\n",
    "\n",
    "    precision = precision_score(self.pred, self.y_test)\n",
    "    recall = recall_score(self.pred,self.y_test)\n",
    "    f1 = f1_score(self.pred,self.y_test)\n",
    "    accuracy = accuracy_score(self.pred,self.y_test)\n",
    "    roc = roc_auc_score(self.y_test, self.pred)\n",
    "    print(\"The precision for the model is :\", precision, '\\n', \"The recall for the model is : \", recall, '\\n'\n",
    "          , \"The f1 score of the model is :\", f1, '\\n', \n",
    "          \"The accuracy of the model is : \", accuracy, '\\n', \"The ROC curve of the model is : \", roc )\n",
    "    # print classification report \n",
    "    print(classification_report(self.y_test,self.pred))\n",
    " \n",
    " def f2_scorer(self,y_true, y_pred):\n",
    "    y_true, y_pred, = np.array(y_true), np.array(y_pred)\n",
    "    return fbeta_score(y_true, y_pred, beta=2, pos_label=0, average='binary')\n",
    "  \n",
    " def validation_plot_rbf(self,kernel):\n",
    "    l = len(self.gamma)\n",
    "    kfold = 5\n",
    "    self.f2 = make_scorer(self.f2_scorer,greater_is_better=True)\n",
    "    \n",
    "    train_scores, valid_scores = validation_curve(kernel, X_train, y_train,'gamma',\n",
    "                                                  self.gamma, cv=KFold(n_splits=5,random_state=7), \n",
    "                                                  scoring = self.f2,verbose=True)\n",
    "    train_scores_poly_recall = pd.DataFrame(data=train_scores, \n",
    "                                        index=np.arange(0, l), \n",
    "                                        columns=np.arange(0,kfold)) \n",
    "    valid_scores_poly_recall = pd.DataFrame(data=valid_scores, \n",
    "                                        index=np.arange(0, l), \n",
    "                                        columns=np.arange(0,kfold))\n",
    "    \n",
    "    plt.plot(self.gamma, train_scores_poly_recall.mean(axis=1), label='training')\n",
    "    plt.plot(self.gamma, valid_scores_poly_recall.mean(axis=1), label='test')\n",
    "    plt.xlabel('degree')\n",
    "    plt.ylabel('F2 - Score')\n",
    "    plt.title('SVM with RBF Kernel')\n",
    "    plt.legend()\n",
    "  \n",
    " def validation_plot_polynomial(self,kernel):\n",
    "    l = len(self.degrees)\n",
    "    kfold = 5\n",
    "    self.f2 = make_scorer(self.f2_scorer,greater_is_better=True)\n",
    "    \n",
    "    train_scores, valid_scores = validation_curve(kernel, X_train, y_train,'degree',\n",
    "                                                  self.degrees, cv=KFold(n_splits=5,random_state=7), \n",
    "                                                  scoring = self.f2,verbose=True)\n",
    "    train_scores_poly_recall = pd.DataFrame(data=train_scores, \n",
    "                                        index=np.arange(0, l), \n",
    "                                        columns=np.arange(0,kfold)) \n",
    "    valid_scores_poly_recall = pd.DataFrame(data=valid_scores, \n",
    "                                        index=np.arange(0, l), \n",
    "                                        columns=np.arange(0,kfold))\n",
    "    \n",
    "    plt.plot(self.degrees, train_scores_poly_recall.mean(axis=1), label='training')\n",
    "    plt.plot(self.degrees, valid_scores_poly_recall.mean(axis=1), label='test')\n",
    "    plt.xlabel('degree')\n",
    "    plt.ylabel('F2 - Score')\n",
    "    plt.title('SVM with Polynomial Kernel')\n",
    "    plt.legend()\n",
    "\n",
    " def rbf_kernel_svc(self):\n",
    "      print('Performing modelling for RBF Kernel using SVM')\n",
    "      self.f2 = make_scorer(self.f2_scorer,greater_is_better=True)\n",
    "      self.gamma = [1,0.1,0.01,0.001]\n",
    "      param_grid = {\n",
    "             'C': [0.1,1, 10,100],\n",
    "             'gamma': self.gamma,\n",
    "             'kernel': ['rbf'],\n",
    "             'max_iter':[100]}\n",
    "      rbf = SVC()\n",
    "      grid_model = GridSearchCV(SVC(), param_grid, refit = True, verbose = 3,cv=5, n_jobs=-1,scoring=self.f2)  \n",
    "      grid_model.fit(self.X_train,self.y_train)\n",
    "      print(\"Best parameters =\", grid_model.best_params_)\n",
    "      model_clf = rbf.set_params(**grid_model.best_params_)\n",
    "      model_clf.fit(self.X_train, self.y_train)\n",
    "      self.pred = model_clf.predict(self.X_test)\n",
    "      self.calc_metrics_class()\n",
    "      self.confusion_matrix()\n",
    "      self.validation_plot_rbf(rbf)\n",
    "        \n",
    "        \n",
    " def polynomial_kernel_svc(self):\n",
    "      print('Performing modelling for Polynomial Kernel using SVM')\n",
    "      self.f2 = make_scorer(self.f2_scorer,greater_is_better=True)\n",
    "      self.degrees = [2,4,6,10,22]\n",
    "      param_grid = {\n",
    "             'C': [0.1,1, 10,100],\n",
    "             'degree': self.degrees,\n",
    "             'kernel': ['poly'],\n",
    "             'max_iter':[200]}\n",
    "      polynomial = SVC()\n",
    "      grid_model = GridSearchCV(SVC(), param_grid, refit = True, verbose = 3,cv=5, n_jobs=-1,scoring=self.f2)  \n",
    "      grid_model.fit(self.X_train,self.y_train)\n",
    "      print(\"Best parameters =\", grid_model.best_params_)\n",
    "      model_clf = polynomial.set_params(**grid_model.best_params_)\n",
    "      model_clf.fit(self.X_train, self.y_train)\n",
    "      self.pred = model_clf.predict(self.X_test)\n",
    "      self.calc_metrics_class()\n",
    "      self.confusion_matrix()\n",
    "      self.validation_plot_polynomial(polynomial)\n",
    "      "
   ]
  },
  {
   "cell_type": "code",
   "execution_count": 65,
   "metadata": {},
   "outputs": [
    {
     "name": "stdout",
     "output_type": "stream",
     "text": [
      "Performing modelling for RBF Kernel using SVM\n",
      "Fitting 5 folds for each of 16 candidates, totalling 80 fits\n"
     ]
    },
    {
     "name": "stderr",
     "output_type": "stream",
     "text": [
      "[Parallel(n_jobs=-1)]: Using backend LokyBackend with 4 concurrent workers.\n",
      "[Parallel(n_jobs=-1)]: Done  24 tasks      | elapsed:   12.9s\n",
      "[Parallel(n_jobs=-1)]: Done  80 out of  80 | elapsed:   14.8s finished\n"
     ]
    },
    {
     "name": "stdout",
     "output_type": "stream",
     "text": [
      "Best parameters = {'C': 1, 'gamma': 0.001, 'kernel': 'rbf', 'max_iter': 100}\n",
      "The precision for the model is : 0.9436619718309859 \n",
      " The recall for the model is :  0.9436619718309859 \n",
      " The f1 score of the model is : 0.9436619718309859 \n",
      " The accuracy of the model is :  0.9298245614035088 \n",
      " The ROC curve of the model is :  0.9253193580085163\n",
      "              precision    recall  f1-score   support\n",
      "\n",
      "           0       0.91      0.91      0.91        43\n",
      "           1       0.94      0.94      0.94        71\n",
      "\n",
      "   micro avg       0.93      0.93      0.93       114\n",
      "   macro avg       0.93      0.93      0.93       114\n",
      "weighted avg       0.93      0.93      0.93       114\n",
      "\n",
      " The confusion matrix is : \n",
      " [[39  4]\n",
      " [ 4 67]]\n"
     ]
    },
    {
     "data": {
      "image/png": "[encoded data removed]",
      "text/plain": [
       "<Figure size 432x288 with 2 Axes>"
      ]
     },
     "metadata": {
      "needs_background": "light"
     },
     "output_type": "display_data"
    },
    {
     "name": "stderr",
     "output_type": "stream",
     "text": [
      "[Parallel(n_jobs=1)]: Using backend SequentialBackend with 1 concurrent workers.\n",
      "[Parallel(n_jobs=1)]: Done  20 out of  20 | elapsed:    0.1s finished\n",
      "[Parallel(n_jobs=-1)]: Using backend LokyBackend with 4 concurrent workers.\n"
     ]
    },
    {
     "name": "stdout",
     "output_type": "stream",
     "text": [
      "Performing modelling for Polynomial Kernel using SVM\n",
      "Fitting 5 folds for each of 20 candidates, totalling 100 fits\n"
     ]
    },
    {
     "name": "stderr",
     "output_type": "stream",
     "text": [
      "[Parallel(n_jobs=-1)]: Done 100 out of 100 | elapsed:    0.5s finished\n"
     ]
    },
    {
     "name": "stdout",
     "output_type": "stream",
     "text": [
      "Best parameters = {'C': 0.1, 'degree': 2, 'kernel': 'poly', 'max_iter': 200}\n",
      "The precision for the model is : 1.0 \n",
      " The recall for the model is :  0.8987341772151899 \n",
      " The f1 score of the model is : 0.9466666666666668 \n",
      " The accuracy of the model is :  0.9298245614035088 \n",
      " The ROC curve of the model is :  0.9069767441860466\n",
      "              precision    recall  f1-score   support\n",
      "\n",
      "           0       1.00      0.81      0.90        43\n",
      "           1       0.90      1.00      0.95        71\n",
      "\n",
      "   micro avg       0.93      0.93      0.93       114\n",
      "   macro avg       0.95      0.91      0.92       114\n",
      "weighted avg       0.94      0.93      0.93       114\n",
      "\n",
      " The confusion matrix is : \n",
      " [[35  8]\n",
      " [ 0 71]]\n"
     ]
    },
    {
     "data": {
      "image/png": "[encoded data removed]",
      "text/plain": [
       "<Figure size 432x288 with 1 Axes>"
      ]
     },
     "metadata": {
      "needs_background": "light"
     },
     "output_type": "display_data"
    },
    {
     "data": {
      "image/png": "[encoded data removed]",
      "text/plain": [
       "<Figure size 432x288 with 2 Axes>"
      ]
     },
     "metadata": {
      "needs_background": "light"
     },
     "output_type": "display_data"
    },
    {
     "name": "stderr",
     "output_type": "stream",
     "text": [
      "[Parallel(n_jobs=1)]: Using backend SequentialBackend with 1 concurrent workers.\n",
      "[Parallel(n_jobs=1)]: Done  25 out of  25 | elapsed:    0.2s finished\n"
     ]
    },
    {
     "data": {
      "image/png": "[encoded data removed]",
      "text/plain": [
       "<Figure size 432x288 with 1 Axes>"
      ]
     },
     "metadata": {
      "needs_background": "light"
     },
     "output_type": "display_data"
    }
   ],
   "source": [
    "p1 = classification(X,y)\n",
    "p1.rbf_kernel_svc()\n",
    "p1.polynomial_kernel_svc()"
   ]
  },
  {
   "cell_type": "code",
   "execution_count": null,
   "metadata": {},
   "outputs": [],
   "source": []
  }
 ],
 "metadata": {
  "kernelspec": {
   "display_name": "Python 3",
   "language": "python",
   "name": "python3"
  },
  "language_info": {
   "codemirror_mode": {
    "name": "ipython",
    "version": 3
   },
   "file_extension": ".py",
   "mimetype": "text/x-python",
   "name": "python",
   "nbconvert_exporter": "python",
   "pygments_lexer": "ipython3",
   "version": "3.7.3"
  }
 },
 "nbformat": 4,
 "nbformat_minor": 2
}
