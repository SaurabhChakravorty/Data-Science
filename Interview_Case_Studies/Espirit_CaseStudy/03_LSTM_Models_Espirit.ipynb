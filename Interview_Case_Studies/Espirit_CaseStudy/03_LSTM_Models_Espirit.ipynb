{
 "cells": [
  {
   "cell_type": "markdown",
   "metadata": {
    "id": "khAoS-K0em7T"
   },
   "source": [
    "## Deep Learning Models\n",
    "\n",
    "The _objectives_ in the following `Notebook` are:\n",
    "\n",
    "1. Use and generate <code style=\"background:yellow;color:black\">embedding feature </code> in raw text for sentiment analysis\n",
    "2. Try out different types of __embedding file__ and check for results and accuracy\n",
    "3. Look for best <code style=\"background:yellow;color:black\">possible accuracy </code> and do a error analysis on the results of the model.\n"
   ]
  },
  {
   "cell_type": "code",
   "execution_count": 1,
   "metadata": {
    "id": "mnTX7UneECXv"
   },
   "outputs": [],
   "source": [
    "# Pip install dependencies if missing\n",
    "# Libraries\n",
    "import pandas as pd\n",
    "import numpy as np\n",
    "import os\n",
    "from termcolor import colored\n",
    "import warnings\n",
    "warnings.filterwarnings('ignore')\n",
    "from sklearn.utils import class_weight\n",
    "from tensorflow.keras import Sequential\n",
    "from tensorflow.keras.layers import Dense, Dropout, Embedding, LSTM, SpatialDropout1D, Bidirectional, GlobalMaxPooling1D\n",
    "from tensorflow.keras import backend as be\n",
    "from tensorflow.keras.callbacks import ModelCheckpoint, LearningRateScheduler\n",
    "from tensorflow.keras.optimizers import Adadelta, Adam\n",
    "from tensorflow.keras.regularizers import l1, l2\n",
    "from tensorflow.python.client import device_lib\n",
    "from sklearn.preprocessing import MinMaxScaler\n",
    "from keras.preprocessing import sequence\n",
    "from keras.preprocessing.text import Tokenizer\n",
    "from keras.callbacks import EarlyStopping\n",
    "import tensorflow as tf\n",
    "from keras.utils import plot_model\n",
    "import matplotlib.pyplot as plt\n",
    "%matplotlib inline"
   ]
  },
  {
   "cell_type": "code",
   "execution_count": 2,
   "metadata": {
    "id": "23KJOfTpdfkE"
   },
   "outputs": [],
   "source": [
    "# Reading in proper format from our mentioned file\n",
    "df_train = pd.read_pickle('train_features.pkl')\n",
    "df_test  = pd.read_pickle('test_features.pkl')"
   ]
  },
  {
   "cell_type": "markdown",
   "metadata": {
    "id": "B87MP3lofKXr"
   },
   "source": [
    "## Introduction\n",
    "\n",
    "*Enter the dark world of deep learning....*\n",
    "\n",
    "1. In this approach we extensively use LSTM and embedding approach to generate feature representation and classification\n",
    "\n",
    "2. Although for tokenizing we will use Kera's **tokenizer** for feature space embedding we will use a pre-trained word vectors which we can download  from listed sources\n",
    "\n",
    "3. We take 3 approaches to train our model for **sentiment classification** task which are listed as below:\n",
    "\n",
    "\n",
    "> **Keras Word embedding + LSTM**: In this simple approach we use the Keras embedding layer in vector space representation and then train the model for accuracy using LSTM and dense networks.\n",
    "\n",
    "\n",
    "> ** Glove-based embedding + LSTM** : In this modeling, we use pre-trained word vector embedding which we have obtained from this [stanford site](https://nlp.stanford.edu/projects/glove/). This contains words in '1B' tokens in '300d' vector space. We further use a bidirectional LSTM based approach to train our model for better accuracy and score.\n",
    "\n",
    "\n",
    "> **Fast Text embedding + LSTM** : Another type of embedding use here is fast text embedding which can be found [fast text website](https://fasttext.cc/docs/en/english-vectors.html). This contains words in '6B' tokens in '1M' vector space. We aim to improve higher accuracy and less overfitting in this model using the same approach.\n",
    "\n",
    "\n",
    "\n",
    "\n",
    "\n",
    "\n",
    "\n",
    "\n"
   ]
  },
  {
   "cell_type": "markdown",
   "metadata": {
    "id": "4Dps3Mk8k80j"
   },
   "source": [
    "**Note:** Both the file size are too large the given link can be helpful for embedding purpose\n",
    "\n",
    "**GloVE :** [glove.6B.300d.txt](https://nlp.stanford.edu/projects/glove/)\n",
    "\n",
    "**Fast Text :** ['wiki-news-300d-1M.vec'](https://fasttext.cc/docs/en/english-vectors.html)"
   ]
  },
  {
   "cell_type": "markdown",
   "metadata": {
    "id": "9RFkQ6UKdeFY"
   },
   "source": [
    "## Data Preparation"
   ]
  },
  {
   "cell_type": "markdown",
   "metadata": {
    "id": "Nz6Zrbhfe0Q3"
   },
   "source": [
    "For the data preparation purpose into we use the following function which generates embeddings as well as uses our generated features(normalized) for the purpose of modelling"
   ]
  },
  {
   "cell_type": "markdown",
   "metadata": {},
   "source": [
    "<div class=\"alert alert-block alert-info\">\n",
    "<b>Data Balance:</b> We see our data is not at all balanced. For this purpose we specifically assign weights to our corresponding labels. We do so, by giving higher weight to labels having low frequency and lower to labels having more frequency.</div>"
   ]
  },
  {
   "cell_type": "code",
   "execution_count": 3,
   "metadata": {},
   "outputs": [],
   "source": [
    "## compute class weight\n",
    "class_weight = class_weight.compute_class_weight('balanced',\n",
    "                                                 np.unique(df_train.label), df_train.label)\n",
    "class_weight = dict(enumerate(class_weight))"
   ]
  },
  {
   "cell_type": "code",
   "execution_count": 4,
   "metadata": {
    "id": "oVtOlFAu1Hm1"
   },
   "outputs": [],
   "source": [
    "'''\n",
    "Info:\n",
    "1. Takes in train and test dataframe as input\n",
    "2. Generates tokens with the the help of keras tokenizer function with the help of vocab size\n",
    "3. Uses \"word_index\" count only if specified True in argument\n",
    "4. Tokenises and returns word_index as \"dict\" only if called else the same variable is returned as boolean vaule\n",
    "NOTE: The variable \"word_index\" is overwritten from bool to dict\n",
    "5. Tokenizes train and test on the word text\n",
    "6. Padding done to max sequence length which is by default 100 i.e we assume highest word in a sent of IMDB review is 100\n",
    "7. Generates labels in proper format \n",
    "8. Normalization is done on 'other features' which we have generated before to be added into embedding layer\n",
    "9. Returns 'X_train,y_train, X_test, y_test' in the form of numpy arrays\n",
    "'''\n",
    "\n",
    "\n",
    "def generate_lstm_features(df_train, df_test, max_features = 50000 , max_seq_length = 100, word_index = False):\n",
    "   \n",
    "    # Initialise the tokenizer with max vocab size by default 5000 and specify too\n",
    "    tokenizer = Tokenizer(nb_words=max_features, split=' ')\n",
    "    \n",
    "    ### Feature mapping into tokens for train and test###\n",
    "    # Fit into text to generate tokens\n",
    "    tokenizer.fit_on_texts(df_train['Text'].values)\n",
    "    # Generate tokens in sequences on each word of sent\n",
    "    X_train = tokenizer.texts_to_sequences(df_train['Text'].values)\n",
    "    # Generate labels into each expaded dimesnion\n",
    "    y_train =  np.expand_dims(df_train['label'].astype(int).values, -1)\n",
    "    \n",
    "    # Word index required for pretrained word vectors like Glove and fast text\n",
    "    if word_index:\n",
    "        word_index = tokenizer.word_index\n",
    "        print('Found %s unique tokens.' % len(word_index))\n",
    "    \n",
    "    # Same for test set\n",
    "    X_test  = tokenizer.texts_to_sequences(df_test['Text'].values)\n",
    "    y_test  =  np.expand_dims(df_test['label'].astype(int).values, -1)\n",
    "\n",
    "    # Apdding the sequnce in max sequnce length i.e snetence length which in our case we take to be default 100\n",
    "    X_train = sequence.pad_sequences(X_train, maxlen=max_seq_length)\n",
    "    X_test  = sequence.pad_sequences(X_test,  maxlen=max_seq_length)\n",
    "    \n",
    "    # Drop columns\n",
    "    X =  df_train.drop(columns = ['label', 'Text']).values\n",
    "    y =  df_test.drop (columns = ['label', 'Text']).values\n",
    "\n",
    "    # Normalsie the other features for bringing them into proper range                 \n",
    "    scaler  = MinMaxScaler()\n",
    "    X = scaler.fit_transform(X)\n",
    "    y = scaler.fit_transform(y)\n",
    "    \n",
    "    # Concatenate them into proper numpy format to return the values\n",
    "    X_train = np.concatenate((X,X_train), axis = 1)\n",
    "    X_test  = np.concatenate((y, X_test), axis = 1)\n",
    "    \n",
    "    return X_train,y_train, X_test, y_test,word_index"
   ]
  },
  {
   "cell_type": "code",
   "execution_count": 5,
   "metadata": {
    "id": "iQPknB3Lnzbm"
   },
   "outputs": [],
   "source": [
    "'''\n",
    "Info:\n",
    "1. This function takes in the file of embedding with the dict \"word_index\" which gives index of each word and word \n",
    "2. This function generates embedding with the help of specified embedding file in our case Glove or FastText\n",
    "3. It returns embedding matrix along with with embedding of each word in our specified vector length of 'embedding_size'\n",
    "\n",
    "'''\n",
    "def generate_embedding(embedding_file, EMBEDDING_SIZE, word_index):\n",
    "    # For index dict\n",
    "    embeddings_index = {}\n",
    "\n",
    "    # Open the embedded file\n",
    "    f = open(embedding_file, encoding=\"utf8\")\n",
    "    # Iterate in each line\n",
    "    for line in f:\n",
    "        values = line.split()\n",
    "        word = values[0]\n",
    "        # Try to get the embedding\n",
    "        try:\n",
    "          coefs = np.asarray(values[1:], dtype='float32')\n",
    "          embeddings_index[word] = coefs\n",
    "        # If not then pass\n",
    "        except:\n",
    "            pass\n",
    "    # Close the file forsaving RAM and i/o\n",
    "    f.close()\n",
    "\n",
    "    print('Found %s word vectors.' % len(embeddings_index))\n",
    "\n",
    "    # Generate embedding in our specified size\n",
    "    embedding_matrix = np.zeros((len(word_index) + 1, EMBEDDING_SIZE))\n",
    "\n",
    "    # For each word in our corpus get embeddings\n",
    "    \n",
    "    for word, i in word_index.items():\n",
    "        embedding_vector = embeddings_index.get(word)\n",
    "        # words not found in embedding index will be all-zeros.\n",
    "        if embedding_vector is not None:\n",
    "            embedding_matrix[i] = embedding_vector\n",
    "        else:\n",
    "            embedding_matrix[i] = 0\n",
    "\n",
    "    return embedding_matrix"
   ]
  },
  {
   "cell_type": "code",
   "execution_count": 6,
   "metadata": {
    "id": "HdDT6aXgCMRw"
   },
   "outputs": [],
   "source": [
    "def display_history(history):\n",
    "    \"\"\"Summarize history for accuracy and loss.\n",
    "    \"\"\"\n",
    "    plt.plot(history.history['accuracy'])\n",
    "    plt.plot(history.history['val_accuracy'])\n",
    "    plt.title('Model accuracy')\n",
    "    plt.ylabel('accuracy')\n",
    "    plt.xlabel('epoch')\n",
    "    plt.legend(['train', 'valid'], loc='upper left')\n",
    "    plt.show()\n",
    "    plt.plot(history.history['loss'])\n",
    "    plt.plot(history.history['val_loss'])\n",
    "    plt.title('Model loss')\n",
    "    plt.ylabel('loss')\n",
    "    plt.xlabel('epoch')\n",
    "    plt.legend(['train', 'valid'], loc='upper left')\n",
    "    plt.show()\n",
    "    "
   ]
  },
  {
   "cell_type": "markdown",
   "metadata": {
    "id": "ndzDnadP8oMF"
   },
   "source": [
    "For plotting confusion matrix and watching the other metrics"
   ]
  },
  {
   "cell_type": "markdown",
   "metadata": {
    "id": "pIN2ACcXOumq"
   },
   "source": [
    "## Keras Word embedding + LSTM"
   ]
  },
  {
   "cell_type": "markdown",
   "metadata": {
    "id": "lqwUu60SuE6i"
   },
   "source": [
    "*Let's define some heuristics for our neural network model*"
   ]
  },
  {
   "cell_type": "code",
   "execution_count": 7,
   "metadata": {
    "id": "bwDA07hzTBUI"
   },
   "outputs": [],
   "source": [
    "# Specify LSTM size\n",
    "LSTM_CELL_SIZE  = 64\n",
    "# Specify batch size\n",
    "BATCH_SIZE      = 512\n",
    "# LSTM tends to overfit so better for small EPOCHS\n",
    "EPOCHS          = 5\n",
    "# To avoid overfitting\n",
    "DROPOUT_RATE    = 0.5\n",
    "# Define Embedding size\n",
    "EMBEDDING_SIZE  = 64\n",
    "# This is the vocab of trained words in our network\n",
    "MAX_FEATURES    = 50000\n",
    "# Dense layer to be trained in network\n",
    "DENSE_LAYER     = 32"
   ]
  },
  {
   "cell_type": "code",
   "execution_count": 8,
   "metadata": {
    "id": "KasyEQLEney6"
   },
   "outputs": [],
   "source": [
    "# Let's generate our features accordingly\n",
    "X_train, y_train, X_test, y_test,_ = generate_lstm_features(df_train, df_test, max_features = MAX_FEATURES , max_seq_length = 200)"
   ]
  },
  {
   "cell_type": "code",
   "execution_count": 10,
   "metadata": {
    "cellView": "code",
    "colab": {
     "base_uri": "https://localhost:8080/",
     "height": 1000
    },
    "id": "BaKiAS4wTB0R",
    "outputId": "0dda549c-586d-43cc-a918-2d088c182f5c"
   },
   "outputs": [
    {
     "name": "stdout",
     "output_type": "stream",
     "text": [
      "WARNING:tensorflow:Layer lstm will not use cuDNN kernel since it doesn't meet the cuDNN kernel criteria. It will use generic GPU kernel as fallback when running on GPU\n",
      "Model: \"sequential\"\n",
      "_________________________________________________________________\n",
      "Layer (type)                 Output Shape              Param #   \n",
      "=================================================================\n",
      "embedding (Embedding)        (None, 215, 64)           3200064   \n",
      "_________________________________________________________________\n",
      "spatial_dropout1d (SpatialDr (None, 215, 64)           0         \n",
      "_________________________________________________________________\n",
      "lstm (LSTM)                  (None, 64)                33024     \n",
      "_________________________________________________________________\n",
      "dense (Dense)                (None, 32)                2080      \n",
      "_________________________________________________________________\n",
      "dropout (Dropout)            (None, 32)                0         \n",
      "_________________________________________________________________\n",
      "dense_1 (Dense)              (None, 1)                 33        \n",
      "=================================================================\n",
      "Total params: 3,235,201\n",
      "Trainable params: 3,235,201\n",
      "Non-trainable params: 0\n",
      "_________________________________________________________________\n",
      "('Failed to import pydot. You must `pip install pydot` and install graphviz (https://graphviz.gitlab.io/download/), ', 'for `pydotprint` to work.')\n"
     ]
    }
   ],
   "source": [
    "# Reset the graph\n",
    "be.clear_session()\n",
    "\n",
    "# NOTE: We are using sequential\n",
    "model = Sequential()\n",
    "\n",
    "### create and fit the LSTM network ###\n",
    "\n",
    "# Embedding layer with features and input length\n",
    "model.add(Embedding(MAX_FEATURES + 1, EMBEDDING_SIZE, input_length = X_train.shape[1] ,mask_zero=True))\n",
    "\n",
    "# Spatial Dropout layer  promote independence between feature maps\n",
    "model.add(SpatialDropout1D(DROPOUT_RATE))\n",
    "\n",
    "# One layer LSTM with params and regularization and intialization\n",
    "model.add(LSTM(LSTM_CELL_SIZE,activation='tanh',kernel_regularizer=l1(0.001), recurrent_dropout=DROPOUT_RATE, dropout=DROPOUT_RATE ))\n",
    "\n",
    "# Dense layer added with dropout \n",
    "model.add(Dense(DENSE_LAYER,activation = 'tanh',kernel_regularizer=l1(0.001), bias_initializer='he_uniform'))\n",
    "model.add(Dropout(DROPOUT_RATE))\n",
    "\n",
    "# Prediction layer with 'sigmoid' activation for binary classification\n",
    "model.add(Dense(1,activation='sigmoid'))\n",
    "\n",
    "# Compliling using 'BCE'  with Adam and accuracy as metric\n",
    "model.compile(loss = 'binary_crossentropy', optimizer=Adam(lr=0.001), metrics = ['accuracy'])\n",
    "model.summary()\n",
    "plot_model(model)"
   ]
  },
  {
   "cell_type": "code",
   "execution_count": 11,
   "metadata": {
    "colab": {
     "base_uri": "https://localhost:8080/"
    },
    "id": "8nxo5r1FbpKl",
    "outputId": "570cd05a-fd58-46a5-b9f9-1e4f34b15e3a"
   },
   "outputs": [
    {
     "name": "stdout",
     "output_type": "stream",
     "text": [
      "Epoch 1/5\n",
      "102/102 [==============================] - 309s 3s/step - loss: 1.6204 - accuracy: 0.6275 - val_loss: 0.8046 - val_accuracy: 0.7089\n",
      "Epoch 2/5\n",
      "102/102 [==============================] - 320s 3s/step - loss: 0.5275 - accuracy: 0.8693 - val_loss: 0.6182 - val_accuracy: 0.7248\n",
      "Epoch 3/5\n",
      "102/102 [==============================] - 335s 3s/step - loss: 0.3707 - accuracy: 0.8997 - val_loss: 0.5753 - val_accuracy: 0.7427\n",
      "Epoch 4/5\n",
      "102/102 [==============================] - 333s 3s/step - loss: 0.3164 - accuracy: 0.9156 - val_loss: 0.5783 - val_accuracy: 0.7469\n",
      "Epoch 5/5\n",
      "102/102 [==============================] - 362s 4s/step - loss: 0.2775 - accuracy: 0.9255 - val_loss: 0.5578 - val_accuracy: 0.7596\n",
      "Wall time: 27min 37s\n"
     ]
    }
   ],
   "source": [
    "%%time\n",
    "history = model.fit(X_train, y_train,epochs=EPOCHS, batch_size=BATCH_SIZE,  validation_data = (X_test, y_test),class_weight = class_weight)  "
   ]
  },
  {
   "cell_type": "code",
   "execution_count": 12,
   "metadata": {
    "colab": {
     "base_uri": "https://localhost:8080/",
     "height": 573
    },
    "id": "tjpGABp6Cg3x",
    "outputId": "fdc9383c-714c-4d4a-fa80-11f0b2ea2bd2"
   },
   "outputs": [
    {
     "data": {
      "image/png": "[encoded data removed]",
      "text/plain": [
       "<Figure size 432x288 with 1 Axes>"
      ]
     },
     "metadata": {
      "needs_background": "light"
     },
     "output_type": "display_data"
    },
    {
     "data": {
      "image/png": "[encoded data removed]",
      "text/plain": [
       "<Figure size 432x288 with 1 Axes>"
      ]
     },
     "metadata": {
      "needs_background": "light"
     },
     "output_type": "display_data"
    }
   ],
   "source": [
    "display_history(history)"
   ]
  },
  {
   "cell_type": "markdown",
   "metadata": {
    "id": "7Rl04jQwDA-Y"
   },
   "source": [
    "*Observations*\n",
    "\n",
    "<div class=\"alert alert-block alert-warning\">\n",
    "\n",
    "Here the model performs suprsingly well without pretrained vectors with proper feature selection but tends to overfit.\n",
    "    \n",
    "</div>"
   ]
  },
  {
   "cell_type": "markdown",
   "metadata": {
    "id": "4jx3JNy0J_f8"
   },
   "source": [
    "## Glove based embedding + LSTM\n",
    "\n",
    "As discussed above we will be using pretrained embeddings in this case though in the architecture we use bi-directional LSTM"
   ]
  },
  {
   "cell_type": "code",
   "execution_count": 13,
   "metadata": {
    "colab": {
     "base_uri": "https://localhost:8080/"
    },
    "id": "FBnuvkc6jZkr",
    "outputId": "5968a898-0341-49c6-be28-50daa2d892ed"
   },
   "outputs": [
    {
     "name": "stdout",
     "output_type": "stream",
     "text": [
      "Found 50641 unique tokens.\n"
     ]
    }
   ],
   "source": [
    "X_train, y_train, X_test, y_test, word_index = generate_lstm_features(df_train, df_test, word_index = True)"
   ]
  },
  {
   "cell_type": "code",
   "execution_count": 17,
   "metadata": {
    "id": "oGqgJvEmniUJ"
   },
   "outputs": [],
   "source": [
    "# Same as above\n",
    "LSTM_CELL_SIZE  = 64\n",
    "BATCH_SIZE      = 1024\n",
    "EPOCHS          = 3\n",
    "DROPOUT_RATE    = 0.5\n",
    "\n",
    "## Embeddding size of our Glove Vector is 300\n",
    "EMBEDDING_SIZE  = 300\n",
    "\n",
    "# We use it as found word index in the tokenisation process\n",
    "MAX_FEATURES    = len(word_index) +  1\n",
    "DENSE_LAYER     = 256"
   ]
  },
  {
   "cell_type": "markdown",
   "metadata": {
    "id": "R-tEyb2ix00o"
   },
   "source": [
    "Time to do embedding with the found word_index in the corpus"
   ]
  },
  {
   "cell_type": "code",
   "execution_count": 18,
   "metadata": {
    "colab": {
     "base_uri": "https://localhost:8080/"
    },
    "id": "claMTrGfow7l",
    "outputId": "44907a4c-9080-4516-aab7-bbf01a403357"
   },
   "outputs": [
    {
     "name": "stdout",
     "output_type": "stream",
     "text": [
      "Found 400000 word vectors.\n",
      "Wall time: 41.5 s\n"
     ]
    }
   ],
   "source": [
    "%%time\n",
    "# Let's use Glove Embedding\n",
    "embedding_matrix = generate_embedding(embedding_file = 'glove.6B.300d.txt' ,EMBEDDING_SIZE  =  EMBEDDING_SIZE, word_index = word_index)"
   ]
  },
  {
   "cell_type": "code",
   "execution_count": 19,
   "metadata": {
    "colab": {
     "base_uri": "https://localhost:8080/",
     "height": 1000
    },
    "id": "Xjkh9Um5XcKI",
    "outputId": "7ad84934-d54c-4be3-8184-817607e94c4e"
   },
   "outputs": [
    {
     "name": "stdout",
     "output_type": "stream",
     "text": [
      "WARNING:tensorflow:Layer lstm will not use cuDNN kernel since it doesn't meet the cuDNN kernel criteria. It will use generic GPU kernel as fallback when running on GPU\n",
      "Model: \"sequential\"\n",
      "_________________________________________________________________\n",
      "Layer (type)                 Output Shape              Param #   \n",
      "=================================================================\n",
      "embedding (Embedding)        (None, 115, 300)          15192600  \n",
      "_________________________________________________________________\n",
      "spatial_dropout1d (SpatialDr (None, 115, 300)          0         \n",
      "_________________________________________________________________\n",
      "lstm (LSTM)                  (None, 64)                93440     \n",
      "_________________________________________________________________\n",
      "dense (Dense)                (None, 256)               16640     \n",
      "_________________________________________________________________\n",
      "dropout (Dropout)            (None, 256)               0         \n",
      "_________________________________________________________________\n",
      "dense_1 (Dense)              (None, 1)                 257       \n",
      "=================================================================\n",
      "Total params: 15,302,937\n",
      "Trainable params: 15,302,937\n",
      "Non-trainable params: 0\n",
      "_________________________________________________________________\n",
      "('Failed to import pydot. You must `pip install pydot` and install graphviz (https://graphviz.gitlab.io/download/), ', 'for `pydotprint` to work.')\n"
     ]
    }
   ],
   "source": [
    "# Reset the graph\n",
    "be.clear_session()\n",
    "\n",
    "# NOTE: We are using sequential\n",
    "model = Sequential()\n",
    "\n",
    "# For early callback and model checkpoint\n",
    "\n",
    "### create and fit the LSTM network ###\n",
    "\n",
    "# Embedding layer with features and input length along with embedding matrix as weights\n",
    "model.add(Embedding(MAX_FEATURES, EMBEDDING_SIZE,  weights=[embedding_matrix],  input_length = X_train.shape[1], trainable = True, mask_zero = True))\n",
    "\n",
    "# Spatial Dropout layer  promote independence between feature maps\n",
    "model.add(SpatialDropout1D(DROPOUT_RATE))\n",
    "\n",
    "# One layer Bidirectional LSTM with params and regularization and intialization\n",
    "model.add(LSTM(LSTM_CELL_SIZE,activation='tanh',kernel_regularizer=l1(0.001), recurrent_dropout=DROPOUT_RATE, dropout=DROPOUT_RATE ))\n",
    "\n",
    "# Dense layer added with dropout \n",
    "model.add(Dense(DENSE_LAYER,activation = 'tanh',kernel_regularizer=l1(0.001), bias_initializer='he_uniform'))\n",
    "model.add(Dropout(DROPOUT_RATE))\n",
    "\n",
    "# Prediction layer with 'sigmoid' activation for binary classification\n",
    "model.add(Dense(1,activation='sigmoid'))\n",
    "\n",
    "# Compliling using 'BCE'  with Adam and accuracy as metric\n",
    "model.compile(loss = 'binary_crossentropy', optimizer=Adam(lr=0.01), metrics = ['accuracy'])\n",
    "model.summary()\n",
    "plot_model(model)"
   ]
  },
  {
   "cell_type": "code",
   "execution_count": 20,
   "metadata": {
    "colab": {
     "base_uri": "https://localhost:8080/"
    },
    "id": "48VDswmKXcNt",
    "outputId": "ed10c6d0-9453-40c2-fe25-023a3269dd93"
   },
   "outputs": [
    {
     "name": "stdout",
     "output_type": "stream",
     "text": [
      "Epoch 1/3\n",
      "51/51 [==============================] - 100s 2s/step - loss: 2.4210 - accuracy: 0.7064 - val_loss: 0.7963 - val_accuracy: 0.7428\n",
      "Epoch 2/3\n",
      "51/51 [==============================] - 93s 2s/step - loss: 0.5790 - accuracy: 0.8700 - val_loss: 0.7210 - val_accuracy: 0.7709\n",
      "Epoch 3/3\n",
      "51/51 [==============================] - 95s 2s/step - loss: 0.4603 - accuracy: 0.9077 - val_loss: 0.6997 - val_accuracy: 0.7821\n",
      "Wall time: 4min 48s\n"
     ]
    }
   ],
   "source": [
    "%%time\n",
    "history = model.fit(X_train, y_train,epochs=EPOCHS, batch_size=BATCH_SIZE, validation_data = (X_test, y_test),class_weight = class_weight)  "
   ]
  },
  {
   "cell_type": "code",
   "execution_count": 21,
   "metadata": {
    "colab": {
     "base_uri": "https://localhost:8080/",
     "height": 573
    },
    "id": "9S3PzOuMCp7X",
    "outputId": "4542cdaf-5266-498b-a76a-ba0cdff97d20"
   },
   "outputs": [
    {
     "data": {
      "image/png": "[encoded data removed]",
      "text/plain": [
       "<Figure size 432x288 with 1 Axes>"
      ]
     },
     "metadata": {
      "needs_background": "light"
     },
     "output_type": "display_data"
    },
    {
     "data": {
      "image/png": "[encoded data removed]",
      "text/plain": [
       "<Figure size 432x288 with 1 Axes>"
      ]
     },
     "metadata": {
      "needs_background": "light"
     },
     "output_type": "display_data"
    }
   ],
   "source": [
    "display_history(history)"
   ]
  },
  {
   "cell_type": "markdown",
   "metadata": {
    "id": "WDz0pqbMCxoz"
   },
   "source": [
    "*Observations*\n",
    "\n",
    "<div class=\"alert alert-block alert-warning\">\n",
    "\n",
    "The model performs better in terms of results with trained embeddings and we also mitigate the problem of __'overfitting'__ in this case.\n",
    "    \n",
    "</div>"
   ]
  },
  {
   "cell_type": "markdown",
   "metadata": {},
   "source": [
    "## Fast Text based embedding + LSTM\n",
    "\n",
    "As discussed above we will be using pretrained embeddings in this case though in the architecture we use bi-directional LSTM"
   ]
  },
  {
   "cell_type": "code",
   "execution_count": 25,
   "metadata": {
    "id": "jmVyiq9n0df1"
   },
   "outputs": [],
   "source": [
    "# Same as above\n",
    "LSTM_CELL_SIZE  = 128\n",
    "BATCH_SIZE      = 512\n",
    "EPOCHS          = 5\n",
    "DROPOUT_RATE    = 0.5\n",
    "\n",
    "## Embedding size of our FAST-TEXT Vector is 300\n",
    "EMBEDDING_SIZE  = 300\n",
    "\n",
    "# We use it as found word index in the tokenisation process\n",
    "MAX_FEATURES    = len(word_index) +  1\n",
    "DENSE_LAYER_1    = 128\n",
    "DENSE_LAYER_2    = 64"
   ]
  },
  {
   "cell_type": "code",
   "execution_count": 26,
   "metadata": {
    "colab": {
     "base_uri": "https://localhost:8080/"
    },
    "id": "i3iQ2a8vx-Kx",
    "outputId": "852503ac-2059-443f-de5c-4084c820434b"
   },
   "outputs": [
    {
     "name": "stdout",
     "output_type": "stream",
     "text": [
      "Found 999995 word vectors.\n",
      "Wall time: 1min 46s\n"
     ]
    }
   ],
   "source": [
    "%%time\n",
    "# Let's use fast text Embedding\n",
    "embedding_matrix = generate_embedding(embedding_file = 'wiki-news-300d-1M.vec',EMBEDDING_SIZE  =  EMBEDDING_SIZE, word_index = word_index)"
   ]
  },
  {
   "cell_type": "markdown",
   "metadata": {
    "id": "LmiPlzIPKvCj"
   },
   "source": [
    "\n",
    "<div class=\"alert alert-block alert-warning\">\n",
    "\n",
    "Note:  **different architecture** has been used here with one extra layer as embedding size is more.\n",
    "    \n",
    "</div>"
   ]
  },
  {
   "cell_type": "code",
   "execution_count": 27,
   "metadata": {
    "colab": {
     "base_uri": "https://localhost:8080/",
     "height": 1000
    },
    "id": "VU6ry87Bx-Pl",
    "outputId": "f3a5c26b-f19f-4ab3-dc1b-6a67c7868488"
   },
   "outputs": [
    {
     "name": "stdout",
     "output_type": "stream",
     "text": [
      "WARNING:tensorflow:Layer lstm will not use cuDNN kernel since it doesn't meet the cuDNN kernel criteria. It will use generic GPU kernel as fallback when running on GPU\n",
      "Model: \"sequential\"\n",
      "_________________________________________________________________\n",
      "Layer (type)                 Output Shape              Param #   \n",
      "=================================================================\n",
      "embedding (Embedding)        (None, 115, 300)          15192600  \n",
      "_________________________________________________________________\n",
      "spatial_dropout1d (SpatialDr (None, 115, 300)          0         \n",
      "_________________________________________________________________\n",
      "lstm (LSTM)                  (None, 128)               219648    \n",
      "_________________________________________________________________\n",
      "dense (Dense)                (None, 256)               33024     \n",
      "_________________________________________________________________\n",
      "dropout (Dropout)            (None, 256)               0         \n",
      "_________________________________________________________________\n",
      "dense_1 (Dense)              (None, 256)               65792     \n",
      "_________________________________________________________________\n",
      "dropout_1 (Dropout)          (None, 256)               0         \n",
      "_________________________________________________________________\n",
      "dense_2 (Dense)              (None, 1)                 257       \n",
      "=================================================================\n",
      "Total params: 15,511,321\n",
      "Trainable params: 15,511,321\n",
      "Non-trainable params: 0\n",
      "_________________________________________________________________\n",
      "('Failed to import pydot. You must `pip install pydot` and install graphviz (https://graphviz.gitlab.io/download/), ', 'for `pydotprint` to work.')\n"
     ]
    }
   ],
   "source": [
    "# Reset the graph\n",
    "be.clear_session()\n",
    "\n",
    "# NOTE: We are using sequential\n",
    "model = Sequential()\n",
    "\n",
    "# For early callback and model checkpoint\n",
    "\n",
    "### create and fit the LSTM network ###\n",
    "\n",
    "# Embedding layer with features and input length\n",
    "model.add(Embedding(MAX_FEATURES, EMBEDDING_SIZE, weights=[embedding_matrix], input_length = X_train.shape[1] ,mask_zero=True, trainable = True))\n",
    "\n",
    "# Spatial Dropout layer  promote independence between feature maps\n",
    "model.add(SpatialDropout1D(DROPOUT_RATE))\n",
    "\n",
    "#  Bidirectional LSTM with params and regularization and intialization\n",
    "model.add(LSTM(LSTM_CELL_SIZE,activation='tanh',kernel_regularizer=l1(0.001), recurrent_dropout=DROPOUT_RATE, dropout=DROPOUT_RATE ))\n",
    "\n",
    "# Dense layer 1 added with dropout \n",
    "model.add(Dense(DENSE_LAYER,activation = 'tanh',kernel_regularizer=l1(0.001), bias_initializer='he_uniform'))\n",
    "model.add(Dropout(DROPOUT_RATE))\n",
    "\n",
    "# Dense layer 2 added with dropout\n",
    "model.add(Dense(DENSE_LAYER,activation = 'tanh',kernel_regularizer=l1(0.001), bias_initializer='he_uniform'))\n",
    "model.add(Dropout(DROPOUT_RATE))\n",
    "\n",
    "# Prediction layer with 'sigmoid' activation for binary classification\n",
    "model.add(Dense(1,activation='sigmoid'))\n",
    "\n",
    "# Compliling using 'BCE'  with Adam and accuracy as metric\n",
    "model.compile(loss = 'binary_crossentropy', optimizer=Adam(lr=0.001), metrics = ['accuracy'])\n",
    "model.summary()\n",
    "plot_model(model)"
   ]
  },
  {
   "cell_type": "code",
   "execution_count": 28,
   "metadata": {
    "colab": {
     "base_uri": "https://localhost:8080/"
    },
    "id": "7P82C80G0syW",
    "outputId": "55cac262-1475-4002-8cee-b3dd5282d1ab"
   },
   "outputs": [
    {
     "name": "stdout",
     "output_type": "stream",
     "text": [
      "Epoch 1/5\n",
      "102/102 [==============================] - 224s 2s/step - loss: 8.2026 - accuracy: 0.6561 - val_loss: 1.1207 - val_accuracy: 0.6742\n",
      "Epoch 2/5\n",
      "102/102 [==============================] - 171s 2s/step - loss: 0.6873 - accuracy: 0.8599 - val_loss: 0.7091 - val_accuracy: 0.7267\n",
      "Epoch 3/5\n",
      "102/102 [==============================] - 172s 2s/step - loss: 0.4635 - accuracy: 0.8919 - val_loss: 0.6518 - val_accuracy: 0.7479\n",
      "Epoch 4/5\n",
      "102/102 [==============================] - 169s 2s/step - loss: 0.4113 - accuracy: 0.9040 - val_loss: 0.6343 - val_accuracy: 0.7538\n",
      "Epoch 5/5\n",
      "102/102 [==============================] - 169s 2s/step - loss: 0.3648 - accuracy: 0.9191 - val_loss: 0.6278 - val_accuracy: 0.7612\n",
      "Wall time: 15min 4s\n"
     ]
    }
   ],
   "source": [
    "%%time\n",
    "history = model.fit(X_train, y_train,epochs=EPOCHS, batch_size=BATCH_SIZE, validation_data = (X_test, y_test),class_weight = class_weight) "
   ]
  },
  {
   "cell_type": "code",
   "execution_count": 29,
   "metadata": {
    "colab": {
     "base_uri": "https://localhost:8080/",
     "height": 573
    },
    "id": "FghAlNCsCTJk",
    "outputId": "acfbe739-9c25-4d67-a5ef-05392b443be1"
   },
   "outputs": [
    {
     "data": {
      "image/png": "[encoded data removed]",
      "text/plain": [
       "<Figure size 432x288 with 1 Axes>"
      ]
     },
     "metadata": {
      "needs_background": "light"
     },
     "output_type": "display_data"
    },
    {
     "data": {
      "image/png": "[encoded data removed]",
      "text/plain": [
       "<Figure size 432x288 with 1 Axes>"
      ]
     },
     "metadata": {
      "needs_background": "light"
     },
     "output_type": "display_data"
    }
   ],
   "source": [
    "display_history(history)"
   ]
  },
  {
   "cell_type": "markdown",
   "metadata": {
    "id": "w7CZqiJYDFNJ"
   },
   "source": [
    "*Observations*\n",
    "\n",
    "<div class=\"alert alert-block alert-warning\">\n",
    "- Here the model performs considerably well only in training data than the former two in terms of loss as well as accuracy as the embedding size is large.\n",
    "\n",
    "- But the problem, of overfitting, still remains even when extensive **regularization** is used.\n",
    "\n",
    "- With more computational power comes good accuracy which is always a tradeoff to decided when training a model.\n",
    " \n",
    " *With great power comes great responsibilities*\n",
    "\n",
    "    \n",
    "</div>"
   ]
  },
  {
   "cell_type": "markdown",
   "metadata": {
    "id": "dFxSI1zoDHIc"
   },
   "source": [
    "## Conclusion\n",
    "\n",
    "<div class=\"alert alert-block alert-success\">\n",
    "    \n",
    "<b>Success:</b>\n",
    "- With LSTM although we acheive good accuracy there is always a bottleneck in terms of overfitting \n",
    "\n",
    "- Let's now go to some pre-trained defined models and check their performance.\n",
    "    \n",
    "</div>\n"
   ]
  },
  {
   "cell_type": "code",
   "execution_count": null,
   "metadata": {
    "id": "EBwYJU5IDrj7"
   },
   "outputs": [],
   "source": []
  }
 ],
 "metadata": {
  "accelerator": "GPU",
  "colab": {
   "collapsed_sections": [],
   "name": "LSTM_Models_IMDB.ipynb",
   "provenance": []
  },
  "kernelspec": {
   "display_name": "Python 3",
   "language": "python",
   "name": "python3"
  },
  "language_info": {
   "codemirror_mode": {
    "name": "ipython",
    "version": 3
   },
   "file_extension": ".py",
   "mimetype": "text/x-python",
   "name": "python",
   "nbconvert_exporter": "python",
   "pygments_lexer": "ipython3",
   "version": "3.8.5"
  }
 },
 "nbformat": 4,
 "nbformat_minor": 1
}
