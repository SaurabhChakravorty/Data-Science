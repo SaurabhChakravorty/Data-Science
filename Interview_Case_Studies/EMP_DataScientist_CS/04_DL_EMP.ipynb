{
 "cells": [
  {
   "cell_type": "markdown",
   "metadata": {},
   "source": [
    "# Deep Learning\n",
    "The _objectives_ in the following `Notebook` are:\n",
    "\n",
    "1. Perform Machine Learning Modelling using <code style=\"background:yellow;color:black\">Random Forest, RNN & LSTM based architecture</code> by proper analysis and description. \n",
    "2. Generating features with the help of feature engineering as in the case of DL the loss is very different.\n",
    "3. Perform Comparision by models and trying to find the best one with the help of our metric function.\n",
    "\n",
    "\n",
    "__Some important points:__\n",
    "- For solving this problem we will be following the steps discussed in the NB and for explaining the observation `boxes` willl be used\n",
    "\n",
    "\n",
    "<div class=\"alert alert-block alert-danger\">\n",
    "    \n",
    "<b>Caution:</b>\n",
    "    \n",
    "Due to `complex architecture and low memory in system` we will not train our model extensively.\n",
    "    \n",
    "</div>\n"
   ]
  },
  {
   "cell_type": "markdown",
   "metadata": {},
   "source": [
    "> Since we now want to predict the __‘Category_Reporting’__ for rest of the month Of May we have to build a model based on our data so far. We will try to model the distribution so far."
   ]
  },
  {
   "cell_type": "markdown",
   "metadata": {},
   "source": [
    "## Getting requirements ready"
   ]
  },
  {
   "cell_type": "code",
   "execution_count": 1,
   "metadata": {},
   "outputs": [],
   "source": [
    "# run the libraries\n",
    "import pandas as pd\n",
    "import numpy as np\n",
    "import warnings\n",
    "from sklearn import metrics\n",
    "from termcolor import colored\n",
    "import tensorflow as tf\n",
    "from tensorflow.keras import Sequential,Model\n",
    "from collections import Counter\n",
    "from tensorflow.keras.layers import Dense, Dropout, LSTM, Activation, TimeDistributed, Flatten,Input,SimpleRNN\n",
    "from tensorflow.keras.optimizers import Adam\n",
    "from sklearn.utils import class_weight\n",
    "from sklearn.preprocessing import OneHotEncoder, LabelEncoder\n",
    "from tensorflow.keras.callbacks import ModelCheckpoint, EarlyStopping,TensorBoard\n",
    "from sklearn.model_selection import train_test_split\n",
    "from sklearn.preprocessing import MinMaxScaler, power_transform\n",
    "from sklearn.metrics import f1_score, precision_score, confusion_matrix, recall_score, accuracy_score,classification_report,roc_auc_score\n",
    "from sklearn.model_selection import GridSearchCV\n",
    "from sklearn.ensemble import RandomForestClassifier\n",
    "warnings.filterwarnings(\"ignore\")\n",
    "%matplotlib inline\n",
    "%run viz.py\n",
    "%load_ext tensorboard"
   ]
  },
  {
   "cell_type": "code",
   "execution_count": 2,
   "metadata": {},
   "outputs": [
    {
     "data": {
      "text/html": [
       "<div>\n",
       "<style scoped>\n",
       "    .dataframe tbody tr th:only-of-type {\n",
       "        vertical-align: middle;\n",
       "    }\n",
       "\n",
       "    .dataframe tbody tr th {\n",
       "        vertical-align: top;\n",
       "    }\n",
       "\n",
       "    .dataframe thead th {\n",
       "        text-align: right;\n",
       "    }\n",
       "</style>\n",
       "<table border=\"1\" class=\"dataframe\">\n",
       "  <thead>\n",
       "    <tr style=\"text-align: right;\">\n",
       "      <th></th>\n",
       "      <th>CustomerHash</th>\n",
       "      <th>OrderHash</th>\n",
       "      <th>Date_Order</th>\n",
       "      <th>Customer_Age</th>\n",
       "      <th>Gender</th>\n",
       "      <th>Account_Age</th>\n",
       "      <th>AffinityProductGender</th>\n",
       "      <th>Category_Reporting</th>\n",
       "      <th>Genre</th>\n",
       "      <th>ClientType</th>\n",
       "      <th>...</th>\n",
       "      <th>Delivery_Value</th>\n",
       "      <th>Discount_Total</th>\n",
       "      <th>OrderProfit</th>\n",
       "      <th>Day</th>\n",
       "      <th>Month</th>\n",
       "      <th>Day_Sin</th>\n",
       "      <th>Day_Cos</th>\n",
       "      <th>Month_Sin</th>\n",
       "      <th>Month_Cos</th>\n",
       "      <th>cluster</th>\n",
       "    </tr>\n",
       "  </thead>\n",
       "  <tbody>\n",
       "    <tr>\n",
       "      <th>0</th>\n",
       "      <td>0x3093AB3CF6C717566C0034C1D4600E64D9B01773</td>\n",
       "      <td>0xBF46DF9D1097824DE975E4BAC3D34FDE621BE3A6</td>\n",
       "      <td>2019-11-08</td>\n",
       "      <td>38.0</td>\n",
       "      <td>2</td>\n",
       "      <td>14</td>\n",
       "      <td>Male</td>\n",
       "      <td>Entertainment - Apparel</td>\n",
       "      <td>Merchandise - Film &amp; TV</td>\n",
       "      <td>desktop</td>\n",
       "      <td>...</td>\n",
       "      <td>52.92</td>\n",
       "      <td>0.00</td>\n",
       "      <td>5.6053</td>\n",
       "      <td>5</td>\n",
       "      <td>11</td>\n",
       "      <td>-9.749279e-01</td>\n",
       "      <td>-0.222521</td>\n",
       "      <td>-0.5</td>\n",
       "      <td>0.866025</td>\n",
       "      <td>2</td>\n",
       "    </tr>\n",
       "    <tr>\n",
       "      <th>1</th>\n",
       "      <td>0x3820FA6A7E1D368E7846B8ED85AC48C83F552D96</td>\n",
       "      <td>0x85C8363C9DDFFF16DF84926428B6A72822226FE6</td>\n",
       "      <td>2019-11-10</td>\n",
       "      <td>45.0</td>\n",
       "      <td>0</td>\n",
       "      <td>1</td>\n",
       "      <td>Male</td>\n",
       "      <td>Fashion / Private label - Apparel</td>\n",
       "      <td>Private label</td>\n",
       "      <td>app</td>\n",
       "      <td>...</td>\n",
       "      <td>88.20</td>\n",
       "      <td>0.00</td>\n",
       "      <td>35.7781</td>\n",
       "      <td>7</td>\n",
       "      <td>11</td>\n",
       "      <td>-2.449294e-16</td>\n",
       "      <td>1.000000</td>\n",
       "      <td>-0.5</td>\n",
       "      <td>0.866025</td>\n",
       "      <td>0</td>\n",
       "    </tr>\n",
       "    <tr>\n",
       "      <th>2</th>\n",
       "      <td>0xA803C4F8AF9AEBEC2620412EB7BEFBB1F6B14E70</td>\n",
       "      <td>0x92F575557F8EC463F61EFEC7DAF97798C222FC62</td>\n",
       "      <td>2019-11-10</td>\n",
       "      <td>30.0</td>\n",
       "      <td>3</td>\n",
       "      <td>0</td>\n",
       "      <td>Unisex</td>\n",
       "      <td>Entertainment - Apparel</td>\n",
       "      <td>Merchandise - Film &amp; TV</td>\n",
       "      <td>mobile</td>\n",
       "      <td>...</td>\n",
       "      <td>212.55</td>\n",
       "      <td>-39.49</td>\n",
       "      <td>99.1710</td>\n",
       "      <td>7</td>\n",
       "      <td>11</td>\n",
       "      <td>-2.449294e-16</td>\n",
       "      <td>1.000000</td>\n",
       "      <td>-0.5</td>\n",
       "      <td>0.866025</td>\n",
       "      <td>1</td>\n",
       "    </tr>\n",
       "    <tr>\n",
       "      <th>3</th>\n",
       "      <td>0x49988EA0FE66BAA42E97123D0EB806486EF84ABD</td>\n",
       "      <td>0x197258C2B7CB93A8C3101C58C31BF2159A1849F3</td>\n",
       "      <td>2019-11-10</td>\n",
       "      <td>41.0</td>\n",
       "      <td>3</td>\n",
       "      <td>10</td>\n",
       "      <td>Female</td>\n",
       "      <td>Fashion / 3rd Party - Apparel</td>\n",
       "      <td>3rd Party Brands</td>\n",
       "      <td>app</td>\n",
       "      <td>...</td>\n",
       "      <td>45.70</td>\n",
       "      <td>-46.73</td>\n",
       "      <td>-5.7816</td>\n",
       "      <td>7</td>\n",
       "      <td>11</td>\n",
       "      <td>-2.449294e-16</td>\n",
       "      <td>1.000000</td>\n",
       "      <td>-0.5</td>\n",
       "      <td>0.866025</td>\n",
       "      <td>1</td>\n",
       "    </tr>\n",
       "    <tr>\n",
       "      <th>4</th>\n",
       "      <td>0xDDC4EBF5B1B7143B80790D2C476DC821E97D8AD9</td>\n",
       "      <td>0xC9806A9D99B442B47163EC27546F7BF35EA535D7</td>\n",
       "      <td>2019-11-10</td>\n",
       "      <td>42.0</td>\n",
       "      <td>0</td>\n",
       "      <td>3</td>\n",
       "      <td>Male</td>\n",
       "      <td>Fashion / Private label - Apparel</td>\n",
       "      <td>Private label</td>\n",
       "      <td>desktop</td>\n",
       "      <td>...</td>\n",
       "      <td>141.13</td>\n",
       "      <td>0.00</td>\n",
       "      <td>42.7255</td>\n",
       "      <td>7</td>\n",
       "      <td>11</td>\n",
       "      <td>-2.449294e-16</td>\n",
       "      <td>1.000000</td>\n",
       "      <td>-0.5</td>\n",
       "      <td>0.866025</td>\n",
       "      <td>0</td>\n",
       "    </tr>\n",
       "  </tbody>\n",
       "</table>\n",
       "<p>5 rows × 29 columns</p>\n",
       "</div>"
      ],
      "text/plain": [
       "                                 CustomerHash  \\\n",
       "0  0x3093AB3CF6C717566C0034C1D4600E64D9B01773   \n",
       "1  0x3820FA6A7E1D368E7846B8ED85AC48C83F552D96   \n",
       "2  0xA803C4F8AF9AEBEC2620412EB7BEFBB1F6B14E70   \n",
       "3  0x49988EA0FE66BAA42E97123D0EB806486EF84ABD   \n",
       "4  0xDDC4EBF5B1B7143B80790D2C476DC821E97D8AD9   \n",
       "\n",
       "                                    OrderHash  Date_Order  Customer_Age  \\\n",
       "0  0xBF46DF9D1097824DE975E4BAC3D34FDE621BE3A6  2019-11-08          38.0   \n",
       "1  0x85C8363C9DDFFF16DF84926428B6A72822226FE6  2019-11-10          45.0   \n",
       "2  0x92F575557F8EC463F61EFEC7DAF97798C222FC62  2019-11-10          30.0   \n",
       "3  0x197258C2B7CB93A8C3101C58C31BF2159A1849F3  2019-11-10          41.0   \n",
       "4  0xC9806A9D99B442B47163EC27546F7BF35EA535D7  2019-11-10          42.0   \n",
       "\n",
       "   Gender  Account_Age AffinityProductGender  \\\n",
       "0       2           14                  Male   \n",
       "1       0            1                  Male   \n",
       "2       3            0                Unisex   \n",
       "3       3           10                Female   \n",
       "4       0            3                  Male   \n",
       "\n",
       "                  Category_Reporting                    Genre ClientType  ...  \\\n",
       "0            Entertainment - Apparel  Merchandise - Film & TV    desktop  ...   \n",
       "1  Fashion / Private label - Apparel            Private label        app  ...   \n",
       "2            Entertainment - Apparel  Merchandise - Film & TV     mobile  ...   \n",
       "3      Fashion / 3rd Party - Apparel         3rd Party Brands        app  ...   \n",
       "4  Fashion / Private label - Apparel            Private label    desktop  ...   \n",
       "\n",
       "  Delivery_Value Discount_Total OrderProfit  Day  Month       Day_Sin  \\\n",
       "0          52.92           0.00      5.6053    5     11 -9.749279e-01   \n",
       "1          88.20           0.00     35.7781    7     11 -2.449294e-16   \n",
       "2         212.55         -39.49     99.1710    7     11 -2.449294e-16   \n",
       "3          45.70         -46.73     -5.7816    7     11 -2.449294e-16   \n",
       "4         141.13           0.00     42.7255    7     11 -2.449294e-16   \n",
       "\n",
       "    Day_Cos  Month_Sin  Month_Cos  cluster  \n",
       "0 -0.222521       -0.5   0.866025        2  \n",
       "1  1.000000       -0.5   0.866025        0  \n",
       "2  1.000000       -0.5   0.866025        1  \n",
       "3  1.000000       -0.5   0.866025        1  \n",
       "4  1.000000       -0.5   0.866025        0  \n",
       "\n",
       "[5 rows x 29 columns]"
      ]
     },
     "execution_count": 2,
     "metadata": {},
     "output_type": "execute_result"
    }
   ],
   "source": [
    "# read the data and see it....\n",
    "df = pd.read_csv('EMP_Cleaned_File.csv')\n",
    "df.head()"
   ]
  },
  {
   "cell_type": "markdown",
   "metadata": {},
   "source": [
    "## Data Cleaning\n",
    "In this we will perfrom 3 main steps:\n",
    "\n",
    "1. Select relevant features.\n",
    "2. Normalise the continous variable and `transform` the categorical variable .\n",
    "3. Perform standard scaling and prepare the data for modelling."
   ]
  },
  {
   "cell_type": "markdown",
   "metadata": {},
   "source": [
    "### Feature selection\n",
    "\n",
    "> We have selected some features from the data based on our understanding of `domain and necessary relations` for classification of models.\n",
    "\n",
    "\n",
    "> We will use this features for our prediction task."
   ]
  },
  {
   "cell_type": "code",
   "execution_count": 3,
   "metadata": {},
   "outputs": [],
   "source": [
    "## feature selection\n",
    "features    = ['Customer_Age','OrderValue','Revenue_Goods','Delivery_Value','Day_Sin','Day_Cos','Month_Sin','Month_Cos','Gender','Category_Reporting','Marketing_Channel','cluster']\n",
    "\n",
    "\n",
    "## categorical features\n",
    "cat_features = ['Gender','Marketing_Channel']"
   ]
  },
  {
   "cell_type": "markdown",
   "metadata": {},
   "source": [
    "### Label encoding categorical variables"
   ]
  },
  {
   "cell_type": "code",
   "execution_count": 4,
   "metadata": {},
   "outputs": [],
   "source": [
    "## make the encoding\n",
    "ord_enc = LabelEncoder()\n",
    "\n",
    "for i in cat_features:\n",
    "    df[i] = LabelEncoder().fit_transform(df[i])\n",
    "\n",
    "## for getting values again of prediction we will make an instance\n",
    "le = LabelEncoder()\n",
    "df['Category_Reporting'] = le.fit_transform(df['Category_Reporting'].values)"
   ]
  },
  {
   "cell_type": "code",
   "execution_count": 5,
   "metadata": {},
   "outputs": [
    {
     "data": {
      "image/png": "[encoded data removed]",
      "text/plain": [
       "<Figure size 792x648 with 2 Axes>"
      ]
     },
     "metadata": {
      "needs_background": "light"
     },
     "output_type": "display_data"
    }
   ],
   "source": [
    "## let us see plot\n",
    "visualisation(df[features]).heat_map()"
   ]
  },
  {
   "cell_type": "markdown",
   "metadata": {},
   "source": [
    "### Normalisation of value"
   ]
  },
  {
   "cell_type": "code",
   "execution_count": 6,
   "metadata": {},
   "outputs": [],
   "source": [
    "## get the values\n",
    "X = df[features]\n",
    "X = X.drop(columns = ['Category_Reporting']).values\n",
    "y = df['Category_Reporting'].values"
   ]
  },
  {
   "cell_type": "code",
   "execution_count": 7,
   "metadata": {},
   "outputs": [],
   "source": [
    "## normalise the values\n",
    "scaler = MinMaxScaler(feature_range=(0, 1))\n",
    "X      = scaler.fit_transform(X)"
   ]
  },
  {
   "cell_type": "markdown",
   "metadata": {},
   "source": [
    "```python\n",
    "## apply box cox transformation\n",
    "X = power_transform(X, method='yeo-johnson')\n",
    "y = power_transform(X, method='yeo-johnson')\n",
    "```"
   ]
  },
  {
   "cell_type": "markdown",
   "metadata": {},
   "source": [
    "### Metrics\n",
    "\n",
    "Since we are mostly concerned with accuracy we will check four accuracy metrics:\n",
    "- Precision\n",
    "- Recall\n",
    "- Accuracy\n",
    "- F1 Score"
   ]
  },
  {
   "cell_type": "code",
   "execution_count": 8,
   "metadata": {},
   "outputs": [],
   "source": [
    "def calc_metrics_class(pred,y_test):\n",
    "        # Print's the model's performance overall\n",
    "        print(colored(\"Generating the results wait for it....\",color = 'red', attrs=['bold']))\n",
    "        # Lets see the classification metrics\n",
    "        precision = precision_score(pred, y_test,average='weighted')\n",
    "        recall = recall_score(pred,y_test,average='weighted')\n",
    "        f1 = f1_score(pred,y_test,average='weighted')\n",
    "        accuracy = accuracy_score(pred,y_test)\n",
    "\n",
    "        print('Precision:', precision)\n",
    "        print('Recall:',  recall)\n",
    "        print('Accuracy:', accuracy)\n",
    "        print('F1 Score:', f1)"
   ]
  },
  {
   "cell_type": "markdown",
   "metadata": {},
   "source": [
    "## Class balance"
   ]
  },
  {
   "cell_type": "code",
   "execution_count": 9,
   "metadata": {},
   "outputs": [
    {
     "data": {
      "text/plain": [
       "Counter({2: 576381,\n",
       "         5: 510595,\n",
       "         4: 689434,\n",
       "         1: 276979,\n",
       "         12: 557520,\n",
       "         7: 208431,\n",
       "         10: 214678,\n",
       "         11: 87050,\n",
       "         0: 188975,\n",
       "         9: 82378,\n",
       "         3: 235899,\n",
       "         8: 52474,\n",
       "         13: 48278,\n",
       "         6: 1006})"
      ]
     },
     "execution_count": 9,
     "metadata": {},
     "output_type": "execute_result"
    }
   ],
   "source": [
    "## let us see class distribution\n",
    "Counter(y)"
   ]
  },
  {
   "cell_type": "markdown",
   "metadata": {},
   "source": [
    "<div class=\"alert alert-block alert-info\">\n",
    "<b>Data Balance:</b> We see our data is not at all balanced. For this purpose we specifically assign weights to our corresponding labels. We do so, by giving higher weight to labels having low frequency and lower to labels having more frequency.</div>"
   ]
  },
  {
   "cell_type": "code",
   "execution_count": 10,
   "metadata": {},
   "outputs": [],
   "source": [
    "## compute class weight\n",
    "class_weight = class_weight.compute_class_weight('balanced',\n",
    "                                                 np.unique(y), y)\n",
    "class_weight = dict(enumerate(class_weight))"
   ]
  },
  {
   "cell_type": "markdown",
   "metadata": {},
   "source": [
    "## ML Model\n",
    "\n",
    "The machine learning model which we will be using is `Random Forest` for baseline accuracy and we will then go to __Deep Learning__ for more accuracy"
   ]
  },
  {
   "cell_type": "code",
   "execution_count": 11,
   "metadata": {},
   "outputs": [],
   "source": [
    "## Random Forest with Best Params\n",
    "def random_forest(X_train,y_train,X_test,y_test):\n",
    "    print(colored(\"Performing modelling for Random forest\",color = 'green', attrs=['bold']))\n",
    "    # Create Random Forest Model\n",
    "    rf_model = RandomForestClassifier(random_state=1)\n",
    "    # Specifying hyperparams for the search(narrowed it down due to computation)\n",
    "    param_grid = {\n",
    "            'n_estimators': [10],\n",
    "            'max_features': [0.3],\n",
    "            'min_samples_split': [3],\n",
    "            'class_weight' : [class_weight]\n",
    "            }\n",
    "    # Fit the model and find best hyperparams\n",
    "    grid_model = GridSearchCV(estimator=rf_model, param_grid=param_grid, cv=5, n_jobs=-1)\n",
    "    grid_model.fit(X_train,y_train)\n",
    "\n",
    "    # Fit the model with best params\n",
    "    print(\"Best parameters =\", grid_model.best_params_)\n",
    "    model_clf = rf_model.set_params(**grid_model.best_params_)\n",
    "    model_clf.fit(X_train, y_train)\n",
    "\n",
    "    # Time to test the model\n",
    "    # Time to test the model for test set\n",
    "    print(colored(\"Test results for test set\",color = 'yellow', attrs=['bold']))\n",
    "    pred = model_clf.predict_proba(X_test).astype(float)\n",
    "    \n",
    "    ## predict the results\n",
    "    calc_metrics_class(pred,y_test)\n",
    "\n",
    "    # Returning model\n",
    "    return model_clf"
   ]
  },
  {
   "cell_type": "code",
   "execution_count": 12,
   "metadata": {},
   "outputs": [],
   "source": [
    "## split the data for better accuracy\n",
    "X_train, X_test, y_train, y_test =  train_test_split(X, y, test_size=0.2,random_state=True)"
   ]
  },
  {
   "cell_type": "markdown",
   "metadata": {},
   "source": [
    "> Skipping due to low __RAM__ issues"
   ]
  },
  {
   "cell_type": "code",
   "execution_count": 13,
   "metadata": {},
   "outputs": [],
   "source": [
    "## model of random forest\n",
    "#rf = random_forest(X_train,y_train,X_test,y_test)"
   ]
  },
  {
   "cell_type": "markdown",
   "metadata": {},
   "source": [
    "<div class=\"alert alert-block alert-warning\">\n",
    "\n",
    "We set a __baseline accuracy__ to begin with and hope for much better results as we move towards sequence based models.\n",
    "\n",
    "</div>"
   ]
  },
  {
   "cell_type": "markdown",
   "metadata": {},
   "source": [
    "## Deep Learning"
   ]
  },
  {
   "cell_type": "markdown",
   "metadata": {},
   "source": [
    "### Data Tranform\n",
    "\n",
    "<div class=\"alert alert-block alert-info\">\n",
    "<b>Code:</b> Since the models which we are using use sequence to sequence encoding we need to take care of shape of our data. The transformation of data is important in this case. For this purpose we will use the custom window to transform the data from 2D to 3D.</div>\n"
   ]
  },
  {
   "cell_type": "code",
   "execution_count": 14,
   "metadata": {},
   "outputs": [],
   "source": [
    "def lstm_data_transform(x_data, y_data, num_steps=1):\n",
    "    \"\"\" \n",
    "    Changes data to the format for LSTM training for sliding window approach \n",
    "    \n",
    "    This function reshape for lstm into 3 dimension shape (batchsize, timestep, features)\n",
    "\n",
    "    Input to this function is X and y and time step\n",
    "    \"\"\"\n",
    "    # Prepare the list for the transformed data\n",
    "    X, y = list(), list()\n",
    "    # Loop of the entire data set\n",
    "    for i in range(x_data.shape[0]):\n",
    "        # compute a new (sliding window) index\n",
    "        end_ix = i + num_steps\n",
    "        # if index is larger than the size of the dataset, we stop\n",
    "        if end_ix >= x_data.shape[0]:\n",
    "            break\n",
    "        # Get a sequence of data for x\n",
    "        seq_X = x_data[i:end_ix]\n",
    "        # Get only the last element of the sequency for y\n",
    "        seq_y = y_data[end_ix]\n",
    "        # Append the list with sequencies\n",
    "        X.append(seq_X)\n",
    "        y.append(seq_y)\n",
    "    # Make final arrays\n",
    "    x_array = np.array(X)\n",
    "    y_array = np.array(y)\n",
    "    \n",
    "    return x_array, y_array"
   ]
  },
  {
   "cell_type": "code",
   "execution_count": 15,
   "metadata": {},
   "outputs": [],
   "source": [
    "## transform for LSTM\n",
    "X_, y_ = lstm_data_transform(X, y, num_steps=2)"
   ]
  },
  {
   "cell_type": "code",
   "execution_count": 16,
   "metadata": {},
   "outputs": [],
   "source": [
    "## train and test split\n",
    "X_train, X_test, y_train, y_test =  train_test_split(X_, y_, test_size=0.2,random_state=True)"
   ]
  },
  {
   "cell_type": "markdown",
   "metadata": {},
   "source": [
    "## Modelling\n",
    "\n",
    "Two Types of Deep Learning model used here to train the sequential data are:\n",
    "\n",
    "1. `RNN Model:` The reason to choose this model was to check what is the effect of sequence transformation with the introduction of the <code style=\"background:yellow;color:black\">previous cell state.</code> Our hypothesis is it captures the temporal relationship of our data well.\n",
    "\n",
    "\n",
    "2. `LSTM Model`: This adds to the RNN model with an extra `Forget Gate` which yields better accuracy.\n",
    "\n",
    "> This model works well when we have more training data. But in our case, we have less data so let's see how well it performs.\n"
   ]
  },
  {
   "cell_type": "markdown",
   "metadata": {},
   "source": [
    "### RNN Model"
   ]
  },
  {
   "cell_type": "code",
   "execution_count": 17,
   "metadata": {},
   "outputs": [],
   "source": [
    "## define our params\n",
    "layers = [150,100]\n",
    "dense_layer = [500,200]\n",
    "dropout = 0.4"
   ]
  },
  {
   "cell_type": "code",
   "execution_count": 18,
   "metadata": {},
   "outputs": [
    {
     "name": "stdout",
     "output_type": "stream",
     "text": [
      "Model: \"model\"\n",
      "_________________________________________________________________\n",
      "Layer (type)                 Output Shape              Param #   \n",
      "=================================================================\n",
      "input_1 (InputLayer)         [(None, 2, 11)]           0         \n",
      "_________________________________________________________________\n",
      "simple_rnn (SimpleRNN)       (None, 2, 150)            24300     \n",
      "_________________________________________________________________\n",
      "dropout (Dropout)            (None, 2, 150)            0         \n",
      "_________________________________________________________________\n",
      "simple_rnn_1 (SimpleRNN)     (None, 2, 100)            25100     \n",
      "_________________________________________________________________\n",
      "dropout_1 (Dropout)          (None, 2, 100)            0         \n",
      "_________________________________________________________________\n",
      "activation (Activation)      (None, 2, 100)            0         \n",
      "_________________________________________________________________\n",
      "flatten (Flatten)            (None, 200)               0         \n",
      "_________________________________________________________________\n",
      "dense (Dense)                (None, 500)               100500    \n",
      "_________________________________________________________________\n",
      "dense_1 (Dense)              (None, 200)               100200    \n",
      "_________________________________________________________________\n",
      "dense_2 (Dense)              (None, 14)                2814      \n",
      "=================================================================\n",
      "Total params: 252,914\n",
      "Trainable params: 252,914\n",
      "Non-trainable params: 0\n",
      "_________________________________________________________________\n"
     ]
    }
   ],
   "source": [
    "## declare the shape\n",
    "inp = Input(shape=X_train.shape[1:])\n",
    "\n",
    "## RNN layer\n",
    "x = SimpleRNN(layers[0], return_sequences=True)(inp)  # add first layer\n",
    "x = Dropout(dropout)(x)\n",
    "\n",
    "## Repeat based on values in list with dropout\n",
    "for i in layers[1:] : \n",
    "    x = SimpleRNN(i, activation='relu', return_sequences=True)(x) # add succesiive layers\n",
    "    x = Dropout(dropout)(x)  # add dropout for layer\n",
    "\n",
    "## Activate the neuron\n",
    "x = Activation(\"relu\")(x)\n",
    "\n",
    "## flatten and add dense layer\n",
    "x = Flatten()(x)\n",
    "for i in dense_layer:\n",
    "    x = Dense(i,activation='relu')(x)  \n",
    "\n",
    "# add output layer\n",
    "y = Dense(len(np.unique(y_train).tolist()), activation='softmax')(x)  # output layer with linear activation\n",
    "\n",
    "\n",
    "## Instantiate the model\n",
    "rnn_model = Model(inp,y)\n",
    "\n",
    "## Set ADAM opt and see the model\n",
    "opt = Adam(lr = 0.001)\n",
    "rnn_model.compile(loss='sparse_categorical_crossentropy', optimizer=opt, metrics=['accuracy'])\n",
    "rnn_model.summary()"
   ]
  },
  {
   "cell_type": "code",
   "execution_count": 19,
   "metadata": {},
   "outputs": [
    {
     "name": "stdout",
     "output_type": "stream",
     "text": [
      "5829/5829 [==============================] - 139s 23ms/step - loss: 2.5518 - accuracy: 0.0568 - val_loss: 2.6235 - val_accuracy: 0.0363\n",
      "\n",
      "Epoch 00001: saving model to RNN.h5\n"
     ]
    },
    {
     "data": {
      "text/plain": [
       "<tensorflow.python.keras.callbacks.History at 0x25e87f38100>"
      ]
     },
     "execution_count": 19,
     "metadata": {},
     "output_type": "execute_result"
    }
   ],
   "source": [
    "# Create a checkpoint for models\n",
    "checkpoint = tf.keras.callbacks.ModelCheckpoint(\"RNN.h5\",monitor=\"val_mse\",verbose = 1,        # creating a callback for saving the model\n",
    "                                                save_best_only = False,save_weights_only = False, # save the weights\n",
    "                                                mode= \"auto\",save_freq= \"epoch\",                  \n",
    "                                                options=None)\n",
    "\n",
    "# tensorboard logs\n",
    "# Define Tensorboard as a Keras callback\n",
    "tensorboard = TensorBoard(\n",
    "  log_dir='.\\RNN_logs', histogram_freq=0,write_graph=True, \n",
    "  write_grads=False, write_images=False, embeddings_freq=0, embeddings_layer_names=None, \n",
    "  embeddings_metadata=None, embeddings_data=None, update_freq='epoch')\n",
    "keras_callbacks = [tensorboard]\n",
    "\n",
    "\n",
    "## fit and train\n",
    "rnn_model.fit(X_train,y_train, epochs=1, batch_size=512,validation_data= (X_test,y_test),class_weight = class_weight,\n",
    "              callbacks = [checkpoint,keras_callbacks])"
   ]
  },
  {
   "cell_type": "code",
   "execution_count": 20,
   "metadata": {},
   "outputs": [
    {
     "name": "stdout",
     "output_type": "stream",
     "text": [
      "\u001b[1m\u001b[31mGenerating the results wait for it....\u001b[0m\n",
      "Precision: 0.3387782681104985\n",
      "Recall: 0.03629412773988762\n",
      "Accuracy: 0.03629412773988762\n",
      "F1 Score: 0.04951594088994364\n"
     ]
    }
   ],
   "source": [
    "## let us see the accuracy\n",
    "## get the pred and the y_test\n",
    "pred = np.argmax(rnn_model.predict(X_test),axis = 1).flatten().tolist()\n",
    "## predict the results\n",
    "calc_metrics_class(pred,y_test)"
   ]
  },
  {
   "cell_type": "code",
   "execution_count": 21,
   "metadata": {
    "scrolled": true
   },
   "outputs": [
    {
     "data": {
      "text/plain": [
       "Reusing TensorBoard on port 6006 (pid 11628), started 0:30:55 ago. (Use '!kill 11628' to kill it.)"
      ]
     },
     "metadata": {},
     "output_type": "display_data"
    },
    {
     "data": {
      "text/html": [
       "\n",
       "      <iframe id=\"tensorboard-frame-d35489f3ff8d9f60\" width=\"100%\" height=\"800\" frameborder=\"0\">\n",
       "      </iframe>\n",
       "      <script>\n",
       "        (function() {\n",
       "          const frame = document.getElementById(\"tensorboard-frame-d35489f3ff8d9f60\");\n",
       "          const url = new URL(\"/\", window.location);\n",
       "          const port = 6006;\n",
       "          if (port) {\n",
       "            url.port = port;\n",
       "          }\n",
       "          frame.src = url;\n",
       "        })();\n",
       "      </script>\n",
       "    "
      ],
      "text/plain": [
       "<IPython.core.display.HTML object>"
      ]
     },
     "metadata": {},
     "output_type": "display_data"
    }
   ],
   "source": [
    "%tensorboard --logdir=RNN_logs"
   ]
  },
  {
   "cell_type": "markdown",
   "metadata": {},
   "source": [
    "## LSTM"
   ]
  },
  {
   "cell_type": "code",
   "execution_count": 22,
   "metadata": {},
   "outputs": [],
   "source": [
    "## define our params\n",
    "layers = [175,50]\n",
    "dense_layer = [125,75]\n",
    "dropout = 0.5"
   ]
  },
  {
   "cell_type": "code",
   "execution_count": 23,
   "metadata": {},
   "outputs": [
    {
     "name": "stdout",
     "output_type": "stream",
     "text": [
      "WARNING:tensorflow:Layer lstm_1 will not use cuDNN kernel since it doesn't meet the cuDNN kernel criteria. It will use generic GPU kernel as fallback when running on GPU\n",
      "Model: \"model_1\"\n",
      "_________________________________________________________________\n",
      "Layer (type)                 Output Shape              Param #   \n",
      "=================================================================\n",
      "input_2 (InputLayer)         [(None, 2, 11)]           0         \n",
      "_________________________________________________________________\n",
      "lstm (LSTM)                  (None, 2, 175)            130900    \n",
      "_________________________________________________________________\n",
      "lstm_1 (LSTM)                (None, 2, 50)             45200     \n",
      "_________________________________________________________________\n",
      "dropout_2 (Dropout)          (None, 2, 50)             0         \n",
      "_________________________________________________________________\n",
      "time_distributed (TimeDistri (None, 2, 5)              255       \n",
      "_________________________________________________________________\n",
      "activation_1 (Activation)    (None, 2, 5)              0         \n",
      "_________________________________________________________________\n",
      "flatten_1 (Flatten)          (None, 10)                0         \n",
      "_________________________________________________________________\n",
      "dense_4 (Dense)              (None, 125)               1375      \n",
      "_________________________________________________________________\n",
      "dense_5 (Dense)              (None, 75)                9450      \n",
      "_________________________________________________________________\n",
      "dense_6 (Dense)              (None, 14)                1064      \n",
      "=================================================================\n",
      "Total params: 188,244\n",
      "Trainable params: 188,244\n",
      "Non-trainable params: 0\n",
      "_________________________________________________________________\n"
     ]
    }
   ],
   "source": [
    "## declare the shape\n",
    "inp = Input(shape=X_.shape[1:])\n",
    "\n",
    "## LSTM layer\n",
    "x = LSTM(layers[0], return_sequences=True)(inp)  # add first layer\n",
    "\n",
    "## Repeat based on values in list with dropout\n",
    "for i in layers[1:] : \n",
    "    x = LSTM(i, activation='relu', return_sequences=True)(x) # add succesiive layers\n",
    "    x = Dropout(dropout)(x)  # add dropout for first layer\n",
    "    \n",
    "## adding time distributed layer\n",
    "x = TimeDistributed(Dense(5))(x)  # add dense layer\n",
    "x = Activation(\"relu\")(x)\n",
    "\n",
    "## flatten and add dense layer\n",
    "x = Flatten()(x)\n",
    "for i in dense_layer:\n",
    "    x = Dense(i,activation='relu')(x)  # add output layer\n",
    "\n",
    "# add output layer\n",
    "y = Dense(len(np.unique(y_train).tolist()), activation='softmax')(x)  # output layer with linear activation\n",
    "\n",
    "\n",
    "## Instantiate the model\n",
    "lstm_model = Model(inp,y)\n",
    "\n",
    "## Set ADAM opt and see the model\n",
    "opt = Adam(lr = 0.001)\n",
    "lstm_model.compile(loss='sparse_categorical_crossentropy', optimizer=opt, metrics=['accuracy'])\n",
    "lstm_model.summary()"
   ]
  },
  {
   "cell_type": "code",
   "execution_count": 24,
   "metadata": {},
   "outputs": [
    {
     "name": "stdout",
     "output_type": "stream",
     "text": [
      "5829/5829 [==============================] - 191s 32ms/step - loss: 2.5354 - accuracy: 0.0605 - val_loss: 2.6305 - val_accuracy: 0.0384\n",
      "\n",
      "Epoch 00001: saving model to LSTM.h5\n"
     ]
    },
    {
     "data": {
      "text/plain": [
       "<tensorflow.python.keras.callbacks.History at 0x260ca8f3490>"
      ]
     },
     "execution_count": 24,
     "metadata": {},
     "output_type": "execute_result"
    }
   ],
   "source": [
    "# Create a checkpoint for models\n",
    "checkpoint = tf.keras.callbacks.ModelCheckpoint(\"LSTM.h5\",monitor=\"val_mse\",verbose = 1,        # creating a callback for saving the model\n",
    "                                                save_best_only = False,save_weights_only = False, # save the weights\n",
    "                                                mode= \"auto\",save_freq= \"epoch\",                  \n",
    "                                                options=None)\n",
    "\n",
    "# tensorboard logs\n",
    "# Define Tensorboard as a Keras callback\n",
    "tensorboard = TensorBoard(\n",
    "  log_dir='.\\LSTM_logs', histogram_freq=0,write_graph=True, \n",
    "  write_grads=False, write_images=False, embeddings_freq=0, embeddings_layer_names=None, \n",
    "  embeddings_metadata=None, embeddings_data=None, update_freq='epoch')\n",
    "keras_callbacks = [tensorboard]\n",
    "\n",
    "\n",
    "lstm_model.fit(X_train,y_train, epochs=1, batch_size=512,validation_data= (X_test,y_test),class_weight = class_weight,\n",
    "               callbacks = [checkpoint,keras_callbacks])"
   ]
  },
  {
   "cell_type": "code",
   "execution_count": 25,
   "metadata": {},
   "outputs": [
    {
     "name": "stdout",
     "output_type": "stream",
     "text": [
      "\u001b[1m\u001b[31mGenerating the results wait for it....\u001b[0m\n",
      "Precision: 0.36200026014277426\n",
      "Recall: 0.03839059752069661\n",
      "Accuracy: 0.03839059752069661\n",
      "F1 Score: 0.05290858013586134\n"
     ]
    }
   ],
   "source": [
    "## let us see the accuracy\n",
    "## get the pred and the y_test\n",
    "pred = np.argmax(lstm_model.predict(X_test),axis = 1).flatten().tolist()\n",
    "## predict the results\n",
    "calc_metrics_class(pred,y_test)"
   ]
  },
  {
   "cell_type": "code",
   "execution_count": 26,
   "metadata": {},
   "outputs": [
    {
     "data": {
      "text/plain": [
       "Reusing TensorBoard on port 6006 (pid 23788), started 0:56:04 ago. (Use '!kill 23788' to kill it.)"
      ]
     },
     "metadata": {},
     "output_type": "display_data"
    },
    {
     "data": {
      "text/html": [
       "\n",
       "      <iframe id=\"tensorboard-frame-52a6597d1d694a3f\" width=\"100%\" height=\"800\" frameborder=\"0\">\n",
       "      </iframe>\n",
       "      <script>\n",
       "        (function() {\n",
       "          const frame = document.getElementById(\"tensorboard-frame-52a6597d1d694a3f\");\n",
       "          const url = new URL(\"/\", window.location);\n",
       "          const port = 6006;\n",
       "          if (port) {\n",
       "            url.port = port;\n",
       "          }\n",
       "          frame.src = url;\n",
       "        })();\n",
       "      </script>\n",
       "    "
      ],
      "text/plain": [
       "<IPython.core.display.HTML object>"
      ]
     },
     "metadata": {},
     "output_type": "display_data"
    }
   ],
   "source": [
    "%tensorboard --logdir=LSTM_logs"
   ]
  },
  {
   "cell_type": "markdown",
   "metadata": {},
   "source": [
    "<div class=\"alert alert-block alert-warning\">\n",
    "\n",
    "</div>"
   ]
  },
  {
   "cell_type": "markdown",
   "metadata": {},
   "source": [
    "## Prediction for May\n",
    "\n",
    "\n",
    "Now we will see the prediction of our Model for the `Month of May`"
   ]
  },
  {
   "cell_type": "code",
   "execution_count": 27,
   "metadata": {},
   "outputs": [],
   "source": [
    "## read it again\n",
    "df = pd.read_csv('EMP_Cleaned_File.csv')"
   ]
  },
  {
   "cell_type": "code",
   "execution_count": 28,
   "metadata": {},
   "outputs": [],
   "source": [
    "## lets get datetime based order\n",
    "df['Date_Order']         = pd.to_datetime(df['Date_Order'])\n",
    "df['month_cuttoff']      = [int(i.strftime('%m')) for i in df['Date_Order']]"
   ]
  },
  {
   "cell_type": "code",
   "execution_count": 29,
   "metadata": {},
   "outputs": [],
   "source": [
    "## get the data for the month of may\n",
    "df = df[df['month_cuttoff'] == 5].reset_index(drop=True)"
   ]
  },
  {
   "cell_type": "code",
   "execution_count": 30,
   "metadata": {},
   "outputs": [],
   "source": [
    "## feature selection\n",
    "features    = ['Customer_Age','OrderValue','Revenue_Goods','Delivery_Value','Day_Sin','Day_Cos','Month_Sin','Month_Cos','Gender','Category_Reporting','Marketing_Channel','cluster']\n",
    "\n",
    "\n",
    "## categorical features\n",
    "cat_features = ['Gender','Marketing_Channel']"
   ]
  },
  {
   "cell_type": "code",
   "execution_count": 31,
   "metadata": {},
   "outputs": [],
   "source": [
    "## make the encoding\n",
    "ord_enc = LabelEncoder()\n",
    "\n",
    "for i in cat_features:\n",
    "    df[i] = LabelEncoder().fit_transform(df[i])\n",
    "\n",
    "## for getting values again of prediction we will make an instance\n",
    "le = LabelEncoder()\n",
    "df['Category_Reporting'] = le.fit_transform(df['Category_Reporting'].values)"
   ]
  },
  {
   "cell_type": "code",
   "execution_count": 32,
   "metadata": {},
   "outputs": [],
   "source": [
    "## get the values\n",
    "X = df[features]\n",
    "X = X.drop(columns = ['Category_Reporting']).values\n",
    "y = df['Category_Reporting'].values"
   ]
  },
  {
   "cell_type": "code",
   "execution_count": 33,
   "metadata": {},
   "outputs": [],
   "source": [
    "## normalise the values\n",
    "scaler = MinMaxScaler(feature_range=(0, 1))\n",
    "X      = scaler.fit_transform(X)"
   ]
  },
  {
   "cell_type": "code",
   "execution_count": 34,
   "metadata": {},
   "outputs": [],
   "source": [
    "## transform for LSTM\n",
    "X, y = lstm_data_transform(X, y, num_steps=2)"
   ]
  },
  {
   "cell_type": "markdown",
   "metadata": {},
   "source": [
    "_Get the prediction right and get the job!!_"
   ]
  },
  {
   "cell_type": "code",
   "execution_count": 35,
   "metadata": {},
   "outputs": [
    {
     "data": {
      "text/plain": [
       "Counter({'Funshirts&Hoodies - Apparel': 275888,\n",
       "         'Freebies': 5576,\n",
       "         'Music - Apparel': 1})"
      ]
     },
     "execution_count": 35,
     "metadata": {},
     "output_type": "execute_result"
    }
   ],
   "source": [
    "## get the predictions\n",
    "predict_lstm= np.argmax(lstm_model.predict(X),axis = 1).flatten().tolist()\n",
    "predict_lstm= le.inverse_transform(predict_lstm)\n",
    "\n",
    "Counter(predict_lstm)"
   ]
  },
  {
   "cell_type": "code",
   "execution_count": 36,
   "metadata": {},
   "outputs": [
    {
     "data": {
      "text/plain": [
       "Counter({'Fashion - Accessories': 179281,\n",
       "         'Funshirts&Hoodies - Apparel': 102184})"
      ]
     },
     "execution_count": 36,
     "metadata": {},
     "output_type": "execute_result"
    }
   ],
   "source": [
    "## get the predictions\n",
    "predict_rnn= np.argmax(rnn_model.predict(X),axis = 1).flatten().tolist()\n",
    "predict_rnn= le.inverse_transform(predict_rnn)\n",
    "\n",
    "Counter(predict_rnn)"
   ]
  },
  {
   "cell_type": "markdown",
   "metadata": {},
   "source": [
    "<div class=\"alert alert-block alert-info\">\n",
    "<b>Prediction:</b> \n",
    "    \n",
    "I predict customers will be more interested in `Funshirts & Hoodies - Apparel and Fashion - Accessories` in May 2021.\n",
    "    \n",
    "</div>"
   ]
  },
  {
   "cell_type": "markdown",
   "metadata": {},
   "source": [
    "<div class=\"alert alert-block alert-success\">\n",
    "<b>Success:</b> \n",
    "Both these models gives us better accuracy and results and I finally wait for our prediction to be accurate this summer to get a job...... :)\n",
    "</div>"
   ]
  },
  {
   "cell_type": "code",
   "execution_count": null,
   "metadata": {},
   "outputs": [],
   "source": []
  }
 ],
 "metadata": {
  "kernelspec": {
   "display_name": "Python 3",
   "language": "python",
   "name": "python3"
  },
  "language_info": {
   "codemirror_mode": {
    "name": "ipython",
    "version": 3
   },
   "file_extension": ".py",
   "mimetype": "text/x-python",
   "name": "python",
   "nbconvert_exporter": "python",
   "pygments_lexer": "ipython3",
   "version": "3.8.5"
  }
 },
 "nbformat": 4,
 "nbformat_minor": 4
}
