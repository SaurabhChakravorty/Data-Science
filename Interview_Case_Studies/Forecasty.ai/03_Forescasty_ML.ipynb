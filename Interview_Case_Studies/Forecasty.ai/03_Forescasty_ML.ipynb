{
 "cells": [
  {
   "cell_type": "markdown",
   "metadata": {},
   "source": [
    "# Machine Learning\n",
    "The _objectives_ in the following `Notebook` are:\n",
    "\n",
    "1. Perform Machine Learning Modelling using <code style=\"background:yellow;color:black\">simple linear regression and tree based models</code> by proper analysis and description. \n",
    "2. Generating features with the help of feature engineering and trying to investigate it after modeling by doing `error analysis` and `Xplainable AI (XAI)`\n",
    "3. Perform Comparision by models and trying to find the best one with the help of our metric function.\n",
    "\n",
    "\n",
    "__Some important points:__\n",
    "- For solving this problem we will be following the steps discussed in the NB and for explaining the observation `boxes` willl be used\n",
    "- We have created a custom class function called `regression.py` with all the dependencies and API style coding has been used for analysis."
   ]
  },
  {
   "cell_type": "code",
   "execution_count": 1,
   "metadata": {},
   "outputs": [],
   "source": [
    "# run the libraries\n",
    "import pandas as pd\n",
    "import numpy as np\n",
    "import warnings\n",
    "import seaborn as sns\n",
    "from sklearn.preprocessing import MinMaxScaler\n",
    "warnings.filterwarnings(\"ignore\")\n",
    "%run regression.py\n",
    "%matplotlib inline\n",
    "%load_ext autoreload\n",
    "%autoreload 2"
   ]
  },
  {
   "cell_type": "code",
   "execution_count": 2,
   "metadata": {},
   "outputs": [
    {
     "data": {
      "text/html": [
       "<div>\n",
       "<style scoped>\n",
       "    .dataframe tbody tr th:only-of-type {\n",
       "        vertical-align: middle;\n",
       "    }\n",
       "\n",
       "    .dataframe tbody tr th {\n",
       "        vertical-align: top;\n",
       "    }\n",
       "\n",
       "    .dataframe thead th {\n",
       "        text-align: right;\n",
       "    }\n",
       "</style>\n",
       "<table border=\"1\" class=\"dataframe\">\n",
       "  <thead>\n",
       "    <tr style=\"text-align: right;\">\n",
       "      <th></th>\n",
       "      <th>Date</th>\n",
       "      <th>StainlessSteelPrice</th>\n",
       "      <th>Steel_Inventory_M_USD</th>\n",
       "      <th>Steel_Orders_M_USD</th>\n",
       "      <th>IronOre_Global_USD</th>\n",
       "      <th>CoalAustralia_Global_USD</th>\n",
       "      <th>Energy_Index</th>\n",
       "      <th>Nickel_Global_USD</th>\n",
       "      <th>Zinc_Global_USD</th>\n",
       "      <th>Freight_Transport_Index</th>\n",
       "      <th>...</th>\n",
       "      <th>BCI_Europe</th>\n",
       "      <th>BCI_US</th>\n",
       "      <th>CLI_China</th>\n",
       "      <th>CLI_Europe</th>\n",
       "      <th>CLI_US</th>\n",
       "      <th>PMI_US_Manufacturing</th>\n",
       "      <th>Copper_Global_USD</th>\n",
       "      <th>Day</th>\n",
       "      <th>Month</th>\n",
       "      <th>Year</th>\n",
       "    </tr>\n",
       "  </thead>\n",
       "  <tbody>\n",
       "    <tr>\n",
       "      <th>0</th>\n",
       "      <td>2013-11-01</td>\n",
       "      <td>0.750242</td>\n",
       "      <td>20854</td>\n",
       "      <td>11559</td>\n",
       "      <td>136.323810</td>\n",
       "      <td>88.363265</td>\n",
       "      <td>225.437049</td>\n",
       "      <td>13684.01190</td>\n",
       "      <td>1866.416667</td>\n",
       "      <td>2.1</td>\n",
       "      <td>...</td>\n",
       "      <td>100.49830</td>\n",
       "      <td>100.5459</td>\n",
       "      <td>101.1283</td>\n",
       "      <td>100.17150</td>\n",
       "      <td>100.6744</td>\n",
       "      <td>56.4</td>\n",
       "      <td>7070.65</td>\n",
       "      <td>Friday</td>\n",
       "      <td>11</td>\n",
       "      <td>2013</td>\n",
       "    </tr>\n",
       "    <tr>\n",
       "      <th>1</th>\n",
       "      <td>2013-07-01</td>\n",
       "      <td>0.827352</td>\n",
       "      <td>20575</td>\n",
       "      <td>10568</td>\n",
       "      <td>127.191304</td>\n",
       "      <td>82.222360</td>\n",
       "      <td>227.022942</td>\n",
       "      <td>13750.31522</td>\n",
       "      <td>1837.619565</td>\n",
       "      <td>-0.4</td>\n",
       "      <td>...</td>\n",
       "      <td>99.64265</td>\n",
       "      <td>100.1044</td>\n",
       "      <td>101.1423</td>\n",
       "      <td>99.43615</td>\n",
       "      <td>100.6230</td>\n",
       "      <td>50.9</td>\n",
       "      <td>6906.64</td>\n",
       "      <td>Monday</td>\n",
       "      <td>7</td>\n",
       "      <td>2013</td>\n",
       "    </tr>\n",
       "    <tr>\n",
       "      <th>2</th>\n",
       "      <td>2013-09-01</td>\n",
       "      <td>0.784715</td>\n",
       "      <td>20761</td>\n",
       "      <td>10774</td>\n",
       "      <td>134.185714</td>\n",
       "      <td>83.295918</td>\n",
       "      <td>234.335594</td>\n",
       "      <td>13801.39286</td>\n",
       "      <td>1846.880952</td>\n",
       "      <td>0.1</td>\n",
       "      <td>...</td>\n",
       "      <td>100.18490</td>\n",
       "      <td>100.5363</td>\n",
       "      <td>101.2066</td>\n",
       "      <td>99.84383</td>\n",
       "      <td>100.6646</td>\n",
       "      <td>55.7</td>\n",
       "      <td>7159.27</td>\n",
       "      <td>Sunday</td>\n",
       "      <td>9</td>\n",
       "      <td>2013</td>\n",
       "    </tr>\n",
       "    <tr>\n",
       "      <th>3</th>\n",
       "      <td>2013-12-01</td>\n",
       "      <td>0.773829</td>\n",
       "      <td>21158</td>\n",
       "      <td>10232</td>\n",
       "      <td>135.790476</td>\n",
       "      <td>89.444464</td>\n",
       "      <td>233.481929</td>\n",
       "      <td>13924.55000</td>\n",
       "      <td>1974.975000</td>\n",
       "      <td>-0.9</td>\n",
       "      <td>...</td>\n",
       "      <td>100.53380</td>\n",
       "      <td>100.4033</td>\n",
       "      <td>101.0334</td>\n",
       "      <td>100.28980</td>\n",
       "      <td>100.6767</td>\n",
       "      <td>57.3</td>\n",
       "      <td>7214.90</td>\n",
       "      <td>Sunday</td>\n",
       "      <td>12</td>\n",
       "      <td>2013</td>\n",
       "    </tr>\n",
       "    <tr>\n",
       "      <th>4</th>\n",
       "      <td>2013-08-01</td>\n",
       "      <td>0.760221</td>\n",
       "      <td>20609</td>\n",
       "      <td>10821</td>\n",
       "      <td>137.055000</td>\n",
       "      <td>82.221429</td>\n",
       "      <td>232.234194</td>\n",
       "      <td>14308.26190</td>\n",
       "      <td>1896.392857</td>\n",
       "      <td>0.5</td>\n",
       "      <td>...</td>\n",
       "      <td>99.91766</td>\n",
       "      <td>100.3962</td>\n",
       "      <td>101.1938</td>\n",
       "      <td>99.64082</td>\n",
       "      <td>100.6545</td>\n",
       "      <td>55.4</td>\n",
       "      <td>7186.25</td>\n",
       "      <td>Thursday</td>\n",
       "      <td>8</td>\n",
       "      <td>2013</td>\n",
       "    </tr>\n",
       "  </tbody>\n",
       "</table>\n",
       "<p>5 rows × 23 columns</p>\n",
       "</div>"
      ],
      "text/plain": [
       "         Date  StainlessSteelPrice  Steel_Inventory_M_USD  Steel_Orders_M_USD  \\\n",
       "0  2013-11-01             0.750242                  20854               11559   \n",
       "1  2013-07-01             0.827352                  20575               10568   \n",
       "2  2013-09-01             0.784715                  20761               10774   \n",
       "3  2013-12-01             0.773829                  21158               10232   \n",
       "4  2013-08-01             0.760221                  20609               10821   \n",
       "\n",
       "   IronOre_Global_USD  CoalAustralia_Global_USD  Energy_Index  \\\n",
       "0          136.323810                 88.363265    225.437049   \n",
       "1          127.191304                 82.222360    227.022942   \n",
       "2          134.185714                 83.295918    234.335594   \n",
       "3          135.790476                 89.444464    233.481929   \n",
       "4          137.055000                 82.221429    232.234194   \n",
       "\n",
       "   Nickel_Global_USD  Zinc_Global_USD  Freight_Transport_Index  ...  \\\n",
       "0        13684.01190      1866.416667                      2.1  ...   \n",
       "1        13750.31522      1837.619565                     -0.4  ...   \n",
       "2        13801.39286      1846.880952                      0.1  ...   \n",
       "3        13924.55000      1974.975000                     -0.9  ...   \n",
       "4        14308.26190      1896.392857                      0.5  ...   \n",
       "\n",
       "   BCI_Europe    BCI_US  CLI_China  CLI_Europe    CLI_US  \\\n",
       "0   100.49830  100.5459   101.1283   100.17150  100.6744   \n",
       "1    99.64265  100.1044   101.1423    99.43615  100.6230   \n",
       "2   100.18490  100.5363   101.2066    99.84383  100.6646   \n",
       "3   100.53380  100.4033   101.0334   100.28980  100.6767   \n",
       "4    99.91766  100.3962   101.1938    99.64082  100.6545   \n",
       "\n",
       "   PMI_US_Manufacturing  Copper_Global_USD        Day  Month  Year  \n",
       "0                  56.4             7070.65    Friday     11  2013  \n",
       "1                  50.9             6906.64    Monday      7  2013  \n",
       "2                  55.7             7159.27    Sunday      9  2013  \n",
       "3                  57.3             7214.90    Sunday     12  2013  \n",
       "4                  55.4             7186.25  Thursday      8  2013  \n",
       "\n",
       "[5 rows x 23 columns]"
      ]
     },
     "execution_count": 2,
     "metadata": {},
     "output_type": "execute_result"
    }
   ],
   "source": [
    "# read the data and see it....\n",
    "df = pd.read_csv('regression_features.csv')\n",
    "df.head()"
   ]
  },
  {
   "cell_type": "markdown",
   "metadata": {},
   "source": [
    "## Data Preparation\n",
    "\n",
    "In this we will perfrom 3 main steps:\n",
    "\n",
    "1. Select relevant features.\n",
    "2. Normalise the continous variable and one-hot encode categorical variables.\n",
    "3. Perform standard scaling and prepare the data for modelling."
   ]
  },
  {
   "cell_type": "code",
   "execution_count": 3,
   "metadata": {},
   "outputs": [],
   "source": [
    "# let us prepare the dataset\n",
    "X      = df.drop(columns = ['Date','StainlessSteelPrice','Day','Month','Year'])\n",
    "cols   = X.columns\n",
    "X      = X.values\n",
    "y      = df['StainlessSteelPrice'].values"
   ]
  },
  {
   "cell_type": "code",
   "execution_count": 4,
   "metadata": {},
   "outputs": [],
   "source": [
    "# normalising the data with min max scaler\n",
    "scaler = MinMaxScaler(feature_range=(0, 1))\n",
    "X      = scaler.fit_transform(X)\n",
    "y      = scaler.fit_transform(y.reshape(-1, 1))"
   ]
  },
  {
   "cell_type": "code",
   "execution_count": 5,
   "metadata": {},
   "outputs": [],
   "source": [
    "# one hot encode categorical variables and get the values\n",
    "for col in ['Day','Month','Year']:\n",
    "   d    = pd.get_dummies(df[col])  # get dummies\n",
    "   X    = np.hstack([X,d.values])  # stack it\n",
    "   cols = cols.append(d.columns)   # get col names"
   ]
  },
  {
   "cell_type": "markdown",
   "metadata": {},
   "source": [
    "## Modelling\n",
    "\n",
    "1. __Linear Regression__: This is our `baseline model`. We will do linear regression first and try to check the accuracy metrics defined after prediction of test data."
   ]
  },
  {
   "cell_type": "code",
   "execution_count": 6,
   "metadata": {},
   "outputs": [
    {
     "name": "stdout",
     "output_type": "stream",
     "text": [
      "\u001b[1m\u001b[33mThe len of train data is 67\u001b[0m\n",
      "\u001b[1m\u001b[33mThe len of test data is 17\u001b[0m\n"
     ]
    }
   ],
   "source": [
    "# Create training and testing sets (use 80% of the data for the training and reminder for testing).\n",
    "reg = regression(X, y,cols,split_ratio=0.2)"
   ]
  },
  {
   "cell_type": "code",
   "execution_count": 7,
   "metadata": {},
   "outputs": [
    {
     "name": "stdout",
     "output_type": "stream",
     "text": [
      "                            OLS Regression Results                            \n",
      "==============================================================================\n",
      "Dep. Variable:                      y   R-squared:                       0.959\n",
      "Model:                            OLS   Adj. R-squared:                  0.888\n",
      "Method:                 Least Squares   F-statistic:                     13.44\n",
      "Date:                Wed, 02 Jun 2021   Prob (F-statistic):           2.22e-09\n",
      "Time:                        02:59:16   Log-Likelihood:                 102.92\n",
      "No. Observations:                  67   AIC:                            -119.8\n",
      "Df Residuals:                      24   BIC:                            -25.03\n",
      "Df Model:                          42                                         \n",
      "Covariance Type:            nonrobust                                         \n",
      "==============================================================================\n",
      "                 coef    std err          t      P>|t|      [0.025      0.975]\n",
      "------------------------------------------------------------------------------\n",
      "x1             0.0585      0.386      0.151      0.881      -0.738       0.855\n",
      "x2             0.0638      0.281      0.227      0.823      -0.517       0.645\n",
      "x3            -0.0365      0.248     -0.147      0.884      -0.549       0.476\n",
      "x4            -0.3478      0.209     -1.663      0.109      -0.780       0.084\n",
      "x5            -0.9506      1.010     -0.941      0.356      -3.035       1.134\n",
      "x6             0.1918      0.201      0.956      0.349      -0.222       0.606\n",
      "x7             0.3827      0.308      1.242      0.226      -0.253       1.019\n",
      "x8             0.0095      0.162      0.059      0.954      -0.325       0.345\n",
      "x9             1.3206      0.943      1.400      0.174      -0.627       3.268\n",
      "x10           -0.0202      0.155     -0.130      0.898      -0.340       0.300\n",
      "x11            1.3998      0.433      3.230      0.004       0.505       2.294\n",
      "x12            0.1340      0.625      0.214      0.832      -1.156       1.425\n",
      "x13           -0.4225      0.366     -1.155      0.260      -1.178       0.333\n",
      "x14           -0.6978      0.261     -2.671      0.013      -1.237      -0.159\n",
      "x15           -3.3246      0.982     -3.385      0.002      -5.352      -1.297\n",
      "x16            3.9333      0.876      4.492      0.000       2.126       5.741\n",
      "x17           -0.2096      0.271     -0.773      0.447      -0.769       0.350\n",
      "x18           -0.2880      0.313     -0.921      0.366      -0.933       0.358\n",
      "x19           -0.1303      0.250     -0.520      0.608      -0.647       0.387\n",
      "x20           -0.1433      0.254     -0.564      0.578      -0.668       0.381\n",
      "x21           -0.1284      0.250     -0.514      0.612      -0.644       0.387\n",
      "x22           -0.1670      0.263     -0.634      0.532      -0.710       0.376\n",
      "x23           -0.2003      0.246     -0.815      0.423      -0.708       0.307\n",
      "x24           -0.1552      0.240     -0.647      0.524      -0.650       0.340\n",
      "x25           -0.1287      0.246     -0.522      0.606      -0.637       0.380\n",
      "x26           -0.0584      0.181     -0.323      0.750      -0.432       0.315\n",
      "x27           -0.1006      0.142     -0.707      0.486      -0.394       0.193\n",
      "x28           -0.1430      0.152     -0.940      0.357      -0.457       0.171\n",
      "x29           -0.1592      0.155     -1.026      0.315      -0.479       0.161\n",
      "x30           -0.0938      0.167     -0.562      0.579      -0.438       0.251\n",
      "x31           -0.1068      0.159     -0.671      0.509      -0.435       0.222\n",
      "x32           -0.1216      0.158     -0.772      0.448      -0.447       0.204\n",
      "x33           -0.1146      0.147     -0.779      0.443      -0.418       0.189\n",
      "x34           -0.0973      0.151     -0.645      0.525      -0.408       0.214\n",
      "x35           -0.0709      0.146     -0.485      0.632      -0.373       0.231\n",
      "x36           -0.0165      0.140     -0.117      0.907      -0.306       0.273\n",
      "x37            0.0298      0.136      0.220      0.828      -0.250       0.310\n",
      "x38           -0.5916      0.369     -1.605      0.122      -1.352       0.169\n",
      "x39           -0.3797      0.340     -1.118      0.275      -1.081       0.321\n",
      "x40           -0.1718      0.324     -0.530      0.601      -0.840       0.497\n",
      "x41           -0.2392      0.228     -1.051      0.304      -0.709       0.230\n",
      "x42            0.0211      0.253      0.084      0.934      -0.500       0.542\n",
      "x43            0.0187      0.203      0.092      0.927      -0.401       0.438\n",
      "x44           -0.0004      0.202     -0.002      0.998      -0.416       0.416\n",
      "x45            0.2900      0.138      2.105      0.046       0.006       0.574\n",
      "==============================================================================\n",
      "Omnibus:                        0.191   Durbin-Watson:                   1.650\n",
      "Prob(Omnibus):                  0.909   Jarque-Bera (JB):                0.168\n",
      "Skew:                           0.111   Prob(JB):                        0.920\n",
      "Kurtosis:                       2.894   Cond. No.                     1.11e+16\n",
      "==============================================================================\n",
      "\n",
      "Notes:\n",
      "[1] Standard Errors assume that the covariance matrix of the errors is correctly specified.\n",
      "[2] The smallest eigenvalue is 4.03e-30. This might indicate that there are\n",
      "strong multicollinearity problems or that the design matrix is singular.\n",
      "\n",
      "\u001b[1m\u001b[32mThe metrics of regression are :\u001b[0m\n",
      "Mean Absolute Error: 0.09798050155282946\n",
      "Mean Absolute Percentage Error: 0.31342262072396254\n",
      "Mean Squared Error: 0.018122658458564228\n",
      "Root Mean Squared Error: 0.13462042363090465\n",
      "R Squared: 0.5643698258425041\n"
     ]
    }
   ],
   "source": [
    "## call the class function\n",
    "linear_reg = reg.linear_regression()"
   ]
  },
  {
   "cell_type": "markdown",
   "metadata": {},
   "source": [
    "2. __Random Forest__: We will try to improve our model performance by using `Bagging` approach and  try to see which the important features which help in prediction of our values.\n",
    "\n",
    "> The best parameters are choosen by doing a greedy search of proper hyperparams"
   ]
  },
  {
   "cell_type": "code",
   "execution_count": 8,
   "metadata": {},
   "outputs": [
    {
     "name": "stdout",
     "output_type": "stream",
     "text": [
      "\u001b[1m\u001b[33mPerforming modelling for Random forest\u001b[0m\n",
      "\n",
      "Best parameters = {'bootstrap': True, 'criterion': 'mse', 'max_depth': 15, 'min_samples_leaf': 2, 'min_samples_split': 10, 'n_estimators': 25}\n",
      "\n",
      "\u001b[1m\u001b[32mThe metrics of regression are :\u001b[0m\n",
      "Mean Absolute Error: 0.07955992341853353\n",
      "Mean Absolute Percentage Error: 0.28121440821741867\n",
      "Mean Squared Error: 0.008791181726146392\n",
      "Root Mean Squared Error: 0.09376130185821009\n",
      "R Squared: 0.7886786844674245\n",
      "\n",
      "\u001b[1m\u001b[33mThe feature importance are :\u001b[0m\n",
      "                    variable  importance\n",
      "5          Nickel_Global_USD    0.376383\n",
      "1         Steel_Orders_M_USD    0.168112\n",
      "17        Copper_Global_USD     0.096949\n",
      "15                    CLI_US    0.082016\n",
      "4               Energy_Index    0.056296\n",
      "2         IronOre_Global_USD    0.054822\n",
      "13                 CLI_China    0.052634\n",
      "12                    BCI_US    0.023114\n",
      "0      Steel_Inventory_M_USD    0.020244\n",
      "8       WTI_Crude_Global_USD    0.016856\n",
      "9           Baltic_Dry_Index    0.014685\n",
      "16      PMI_US_Manufacturing    0.011886\n",
      "6            Zinc_Global_USD    0.010565\n",
      "14                CLI_Europe    0.004105\n",
      "3   CoalAustralia_Global_USD    0.003628\n",
      "Wall time: 5.95 s\n"
     ]
    }
   ],
   "source": [
    "%%time\n",
    "## let see the modelling performance\n",
    "rf = reg.random_forest(feature_importance=True)"
   ]
  },
  {
   "cell_type": "markdown",
   "metadata": {},
   "source": [
    "3. __XG Boost__: We will try to improve our model performance by using `Boosting` approach and  try to see which the important features which help in prediction of our values.\n",
    "\n",
    "> Here also we will do a Greedy Hyperparam search"
   ]
  },
  {
   "cell_type": "code",
   "execution_count": 9,
   "metadata": {},
   "outputs": [
    {
     "name": "stdout",
     "output_type": "stream",
     "text": [
      "\u001b[1m\u001b[33mPerforming modelling for XG Boost Regressor\u001b[0m\n",
      "\n",
      "Best parameters = {'colsample_bytree': 0.7, 'learning_rate': 0.1, 'max_depth': 3, 'min_child_weight': 3, 'n_estimators': 500, 'objective': 'reg:squaredlogerror', 'subsample': 0.7}\n",
      "\n",
      "\u001b[1m\u001b[32mThe metrics of regression are :\u001b[0m\n",
      "Mean Absolute Error: 0.05868964056206256\n",
      "Mean Absolute Percentage Error: 0.14368001805321445\n",
      "Mean Squared Error: 0.004742712612694601\n",
      "Root Mean Squared Error: 0.06886735520327901\n",
      "R Squared: 0.885995273476517\n",
      "\n",
      "\u001b[1m\u001b[33mThe feature importance are :\u001b[0m\n",
      "                    variable  importance\n",
      "17        Copper_Global_USD     0.180144\n",
      "5          Nickel_Global_USD    0.157897\n",
      "40                      2016    0.126854\n",
      "1         Steel_Orders_M_USD    0.105752\n",
      "13                 CLI_China    0.061231\n",
      "0      Steel_Inventory_M_USD    0.056350\n",
      "2         IronOre_Global_USD    0.042349\n",
      "6            Zinc_Global_USD    0.040167\n",
      "15                    CLI_US    0.038948\n",
      "3   CoalAustralia_Global_USD    0.032339\n",
      "4               Energy_Index    0.025694\n",
      "12                    BCI_US    0.025567\n",
      "14                CLI_Europe    0.023068\n",
      "8       WTI_Crude_Global_USD    0.022189\n",
      "39                      2015    0.014494\n",
      "Wall time: 1min 38s\n"
     ]
    }
   ],
   "source": [
    "%%time\n",
    "## finding best params with more sophisticated modelling approach\n",
    "xg = reg.XG_Boost(feature_importance=True)"
   ]
  },
  {
   "cell_type": "markdown",
   "metadata": {},
   "source": [
    "### Model Evaluation\n",
    "\n",
    "Lets check the model performance by using different algorithm approach"
   ]
  },
  {
   "cell_type": "code",
   "execution_count": 10,
   "metadata": {},
   "outputs": [
    {
     "name": "stdout",
     "output_type": "stream",
     "text": [
      "\u001b[1m\u001b[33mThe results of your model are:\u001b[0m\n"
     ]
    },
    {
     "data": {
      "text/html": [
       "<table border=\"1\" class=\"dataframe\">\n",
       "  <thead>\n",
       "    <tr style=\"text-align: right;\">\n",
       "      <th></th>\n",
       "      <th>Model</th>\n",
       "      <th>MAE</th>\n",
       "      <th>MAPE</th>\n",
       "      <th>MSE</th>\n",
       "      <th>RMSE</th>\n",
       "      <th>R_Squared</th>\n",
       "    </tr>\n",
       "  </thead>\n",
       "  <tbody>\n",
       "    <tr>\n",
       "      <th>0</th>\n",
       "      <td>Linear Regression</td>\n",
       "      <td>0.097981</td>\n",
       "      <td>0.313423</td>\n",
       "      <td>0.018123</td>\n",
       "      <td>0.134620</td>\n",
       "      <td>0.564370</td>\n",
       "    </tr>\n",
       "    <tr>\n",
       "      <th>1</th>\n",
       "      <td>Random Forest</td>\n",
       "      <td>0.079560</td>\n",
       "      <td>0.281214</td>\n",
       "      <td>0.008791</td>\n",
       "      <td>0.093761</td>\n",
       "      <td>0.788679</td>\n",
       "    </tr>\n",
       "    <tr>\n",
       "      <th>2</th>\n",
       "      <td>XG Boost</td>\n",
       "      <td>0.058690</td>\n",
       "      <td>0.143680</td>\n",
       "      <td>0.004743</td>\n",
       "      <td>0.068867</td>\n",
       "      <td>0.885995</td>\n",
       "    </tr>\n",
       "  </tbody>\n",
       "</table>"
      ],
      "text/plain": [
       "<IPython.core.display.HTML object>"
      ]
     },
     "metadata": {},
     "output_type": "display_data"
    },
    {
     "name": "stdout",
     "output_type": "stream",
     "text": [
      "None\n",
      "\u001b[1m\u001b[31mThe residual and error plots\u001b[0m\n"
     ]
    },
    {
     "data": {
      "image/png": "[encoded data removed]",
      "text/plain": [
       "<Figure size 432x288 with 2 Axes>"
      ]
     },
     "metadata": {
      "needs_background": "light"
     },
     "output_type": "display_data"
    },
    {
     "data": {
      "image/png": "[encoded data removed]",
      "text/plain": [
       "<Figure size 432x288 with 1 Axes>"
      ]
     },
     "metadata": {
      "needs_background": "light"
     },
     "output_type": "display_data"
    }
   ],
   "source": [
    "reg.result_plots(xg,error_plots=True)"
   ]
  },
  {
   "cell_type": "markdown",
   "metadata": {},
   "source": [
    "<div class=\"alert alert-block alert-warning\">\n",
    "\n",
    "__Key Observations:__\n",
    "    \n",
    "1. There is improvement in our accuracy metrics as we use more sophisticated models our `MAPE` value is significantly decreasing.\n",
    "    \n",
    "2. The error analysis shows a perfect fit in the case of __XG Boost__.\n",
    "    \n",
    "3. Feature importances shows us that target variable is strongly coorelated with our variables of <code style=\"background:yellow;color:black\">highest coorelation.</code>\n",
    "</div>"
   ]
  },
  {
   "cell_type": "markdown",
   "metadata": {},
   "source": [
    "<div class=\"alert alert-block alert-success\">\n",
    "<b>Success:</b> Let's move now towards the world of Deep Learning...\n",
    "</div>"
   ]
  },
  {
   "cell_type": "code",
   "execution_count": null,
   "metadata": {},
   "outputs": [],
   "source": []
  }
 ],
 "metadata": {
  "kernelspec": {
   "display_name": "Python 3",
   "language": "python",
   "name": "python3"
  },
  "language_info": {
   "codemirror_mode": {
    "name": "ipython",
    "version": 3
   },
   "file_extension": ".py",
   "mimetype": "text/x-python",
   "name": "python",
   "nbconvert_exporter": "python",
   "pygments_lexer": "ipython3",
   "version": "3.8.5"
  }
 },
 "nbformat": 4,
 "nbformat_minor": 4
}
