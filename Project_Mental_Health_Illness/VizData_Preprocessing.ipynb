{
 "cells": [
  {
   "cell_type": "markdown",
   "metadata": {},
   "source": [
    "As usual import libraries nothing new\n",
    "\n",
    "I don't know why we all do this and talk about desiging intelligent systems all day!\n",
    "\n",
    "!!!Great Part starts!!!"
   ]
  },
  {
   "cell_type": "code",
   "execution_count": 1,
   "metadata": {},
   "outputs": [],
   "source": [
    "\n",
    "import pandas as pd\n",
    "import numpy as np\n"
   ]
  },
  {
   "cell_type": "markdown",
   "metadata": {},
   "source": [
    "The source of data is from "
   ]
  },
  {
   "cell_type": "code",
   "execution_count": 2,
   "metadata": {},
   "outputs": [],
   "source": [
    "dir = \"C:\\\\Users\\\\Saurabh\\\\Documents\\\\MADS_Subjects\\\\VisualizationTheBigData\\\\Project\\\\Uncleaned_Data\\\\\"\n",
    "df = pd.read_csv(dir + \"mental_illness_and_suicide.csv\")\n",
    "# Load the data\n",
    "#print(df.describe()) # Describing column values of data\n",
    "#Columns renamed\n",
    "df.rename(columns={\n",
    "    \"Entity\": \"Country\",\n",
    "    'Country_Code':'Code',\n",
    "    'Deaths - Eating disorders - Sex: Both - Age: All Ages (Number) (deaths)':'Eating_Deaths',\n",
    "    'DALYs (Disability-Adjusted Life Years) - Mental and substance use disorders - Sex: Both - Age: All Ages (Percent) (%)':'Mental_Disorder_pct',\n",
    "    'Prevalence - Schizophrenia - Sex: Both - Age: Age-standardized (Percent) (%)':'Schizophrenia_pct',\n",
    "    \"Prevalence - Eating disorders - Sex: Both - Age: Age-standardized (Percent) (%)\":'Eating_Disorder_pct',\n",
    "    \"Prevalence - Anxiety disorders - Sex: Both - Age: Age-standardized (Percent) (%)\":'Anxiety_Disorder_pct',\n",
    "    'Prevalence - Bipolar disorder - Sex: Both - Age: Age-standardized (Percent) (%)':'Bipolar_Disorder_pct',\n",
    "    'Prevalence - Depressive disorders - Sex: Both - Age: Age-standardized (Percent) (%)':'Depressive_Disorder_pct',\n",
    "    'Prevalence - Alcohol and substance use disorders: Both (age-standardized percent) (%)':'Drug_Disorder_pct',\n",
    "    'Percentage of share with mental illness and substance disorders':'Mental_Illness_Drug_pct',\n",
    "    '70 years + (deaths per 100000)':'Suicide_Rate_70+',\n",
    "    '50 - 59 + (deaths per 100000)':'Suicide_Rate_50_59',\n",
    "    '0-14 Years Old + (deaths per 100000)':'Suicide_Rate_<15',\n",
    "    '15 – 49 years old + (deaths per 100000)':'Suicide_Rate_15_49',\n",
    "    'Suicide’s share of death ( cause of deaths)':'Suicide_pct_Deaths',\n",
    "    'Suicide per 100000 ':'Suicide_Rate_per_1000000',\n",
    "    'Females (Suicides per 100000)':'Suicide_Females_per_1000000',\n",
    "    'Males (Suicides per 100000)':'Suicide_Males_per_1000000'}, inplace=True)\n",
    "\n"
   ]
  },
  {
   "cell_type": "code",
   "execution_count": 3,
   "metadata": {},
   "outputs": [
    {
     "data": {
      "text/plain": [
       "Country                        6776\n",
       "Code                           6776\n",
       "Year                           6776\n",
       "Eating_Deaths                  6776\n",
       "Mental_Disorder_pct            6776\n",
       "Schizophrenia_pct              6776\n",
       "Eating_Disorder_pct            6776\n",
       "Anxiety_Disorder_pct           6776\n",
       "Bipolar_Disorder_pct           6776\n",
       "Depressive_Disorder_pct        6776\n",
       "Drug_Disorder_pct              6776\n",
       "Mental_Illness_Drug_pct        6776\n",
       "Suicide_Rate_70+               6776\n",
       "Suicide_Rate_50_59             6776\n",
       "Suicide_Rate_<15               6776\n",
       "Suicide_Rate_15_49             6776\n",
       "Suicide_pct_Deaths             6776\n",
       "Suicide_Rate_per_1000000       6776\n",
       "Suicide_Females_per_1000000    6776\n",
       "Suicide_Males_per_1000000      6776\n",
       "dtype: int64"
      ]
     },
     "execution_count": 3,
     "metadata": {},
     "output_type": "execute_result"
    }
   ],
   "source": [
    "df.isna().count()"
   ]
  },
  {
   "cell_type": "markdown",
   "metadata": {},
   "source": [
    "Selecting and describing right coulmns out of the data to tell a story\n",
    "\n",
    "\n",
    "1.\tCountry                     : Country Name\n",
    "2.\tCountry_Code                : Country Code\n",
    "3.\tYear                        : Year of Data\n",
    "4.\tEating_Deaths               : Standardized Deaths Related to Eating as a percentage for all genders\n",
    "5.\tMental_Disorder_pct         : Standardized Mental disorders for as a percentage all genders\n",
    "6.\tSchizophrenia_pct           : Standardized Schizophrenia disorders as a percentage for all genders\n",
    "7.\tEating_Disorder_pct         : Standardized Eating disorders as a percentage for all genders\n",
    "8.\tAnxiety_Disorder_pct        : Standardized Anxiety disorders as a percentage for all genders\n",
    "9.\tBipolar_Disorder_pct        : Standardized Bipolar disorders as a percentagefor all genders\n",
    "10.\tDepressive_Disorder_pct     : Standardized Depressive disordersas a percentage for all genders\n",
    "11.\tDrug_Disorder_pct           : Standardized drug disorders as a percentage for all genders\n",
    "12.\tMental_Illness_Drug_pct     : Standardized mental illness as a percentage for all genders\n",
    "13.\tSuicide_Rate_70+            : Deaths per 100000  for 70+ year age\n",
    "14.\tSuicide_Rate_50_59          : Deaths per 100000  for 50+ - 59 year age\n",
    "15.\tSuicide_Rate_<15            : Deaths per 100000  for less than 15 year age\n",
    "16.\tSuicide_Rate_15_49          : Deaths per 100000  for less than 15-49 year age\n",
    "17.\tSuicide_pct_Deaths          : Suicide share  in each country as per all cause of deaths\n",
    "18.\tSuicide per 100000          : Suicide per 100000\n",
    "19.\tSuicide_Females             : Female suicide rate per 100000\n",
    "20.\tSuicide_Males               : Female suicide rate per 100000\n",
    "    \n",
    "\n",
    "Since we are interested in showing a part of story realated to mental health illnesss we can drop some columns\n",
    "\n",
    "We are intereted in columns realted to mental health illness and suicide relation overall all aggregration so we can drop column :\n",
    " \n",
    " 2.  Country Code : As we developed our own function to map it\n",
    " \n",
    " 11. Drug Disorder pct : This part of feature is covered in column 12 as well\n",
    "\n",
    "    "
   ]
  },
  {
   "cell_type": "code",
   "execution_count": 4,
   "metadata": {},
   "outputs": [
    {
     "name": "stdout",
     "output_type": "stream",
     "text": [
      "Country                        308\n",
      "Year                           308\n",
      "Eating_Deaths                  308\n",
      "Mental_Disorder_pct            308\n",
      "Schizophrenia_pct              308\n",
      "Eating_Disorder_pct            308\n",
      "Anxiety_Disorder_pct           308\n",
      "Bipolar_Disorder_pct           308\n",
      "Depressive_Disorder_pct        308\n",
      "Mental_Illness_Drug_pct        308\n",
      "Suicide_Rate_70+               308\n",
      "Suicide_Rate_50_59             308\n",
      "Suicide_Rate_<15               308\n",
      "Suicide_Rate_15_49             308\n",
      "Suicide_pct_Deaths             308\n",
      "Suicide_Rate_per_1000000       308\n",
      "Suicide_Females_per_1000000    588\n",
      "Suicide_Males_per_1000000      588\n",
      "dtype: int64\n"
     ]
    }
   ],
   "source": [
    "df = df.drop(columns=['Code', 'Drug_Disorder_pct']) # Dropping columns\n",
    "\n",
    "print(df.isna().sum()) # Columns with  na values\n",
    "#print(len(df))"
   ]
  },
  {
   "cell_type": "code",
   "execution_count": 5,
   "metadata": {},
   "outputs": [
    {
     "name": "stdout",
     "output_type": "stream",
     "text": [
      "Country                          0\n",
      "Year                             0\n",
      "Eating_Deaths                    0\n",
      "Mental_Disorder_pct              0\n",
      "Schizophrenia_pct                0\n",
      "Eating_Disorder_pct              0\n",
      "Anxiety_Disorder_pct             0\n",
      "Bipolar_Disorder_pct             0\n",
      "Depressive_Disorder_pct          0\n",
      "Mental_Illness_Drug_pct          0\n",
      "Suicide_Rate_70+                 0\n",
      "Suicide_Rate_50_59               0\n",
      "Suicide_Rate_<15                 0\n",
      "Suicide_Rate_15_49               0\n",
      "Suicide_pct_Deaths               0\n",
      "Suicide_Rate_per_1000000         0\n",
      "Suicide_Females_per_1000000    532\n",
      "Suicide_Males_per_1000000      532\n",
      "dtype: int64\n"
     ]
    }
   ],
   "source": [
    "df = df[df['Country'].notna()]   # Country with no values of data\n",
    "print(df.isna().sum()) # Columns with  na values"
   ]
  },
  {
   "cell_type": "markdown",
   "metadata": {},
   "source": [
    "Since Countries with na values do not contribute to any relation of  analysis it's better to drop it"
   ]
  },
  {
   "cell_type": "markdown",
   "metadata": {},
   "source": [
    "Let's Get Country code"
   ]
  },
  {
   "cell_type": "code",
   "execution_count": 6,
   "metadata": {},
   "outputs": [],
   "source": [
    "\n",
    "def get_Country_Code(df):\n",
    "    \"\"\"\n",
    "    This function gives country codes of countries if country doesn't exist it removes it from the df names\n",
    "    \n",
    "    Input : Dataframe with input of Coloumn with name \"Country\"\n",
    "    \n",
    "    Output: Output with country code\n",
    "    \n",
    "    ** Remove country with na values**\n",
    "    \"\"\"\n",
    "    import pycountry_convert as pc # pip install this package\n",
    "    l = [x for x in df['Country']] # List for storing country name\n",
    "    code = []  # list for storing continent name\n",
    "    df['Country_Code'] = 0\n",
    "    d = {'Micronesia (country)': 'FSM', 'Timor': ' TLS', 'Democratic Republic of Congo': 'COD',\"Cote d'Ivoire\":'CIV'}\n",
    "    for i in l:  # Iterating over names of country names\n",
    "        if i in list(d):  # Checking for dict values as this are hard values to get\n",
    "                code.append(d[i])\n",
    "                continue\n",
    "        try:     # Try block for getiing the values\n",
    "            country_code = pc.country_name_to_country_alpha3(i, cn_name_format=\"default\")\n",
    "            #c = pc.country_alpha2_to_continent_code(country_code) # converts country code to continent code\n",
    "            #c = pc.convert_continent_code_to_continent_name(continent_name)\n",
    "            code.append(country_code)\n",
    "            \n",
    "        except:   # For removing if error is raised\n",
    "             df.drop(df.loc[df['Country']== i].index, inplace=True)\n",
    "    df['Country_Code'] = code\n",
    "    return df.reset_index(drop=True)  # Return the value if isn't there\n",
    "\n",
    "df = get_Country_Code(df)\n",
    "\n",
    "#print(df.isna().sum()) # Columns with  na values"
   ]
  },
  {
   "cell_type": "code",
   "execution_count": 7,
   "metadata": {},
   "outputs": [
    {
     "name": "stdout",
     "output_type": "stream",
     "text": [
      "Suicide Female and suicide male columns don't have data for some countries which are : \n",
      "['Andorra', 'Chad', 'Estonia', 'India', 'Indonesia', 'Nepal', 'Panama', 'Peru', 'Portugal', 'South Africa', 'Sweden', 'Switzerland', 'Syria', 'Uruguay', 'Yemen']\n"
     ]
    }
   ],
   "source": [
    "print(\"Suicide Female and suicide male columns don't have data for some countries which are : \")\n",
    "n = df[df.isnull().any(axis=1)]['Country'].unique().tolist()\n",
    "print(n)"
   ]
  },
  {
   "cell_type": "markdown",
   "metadata": {},
   "source": [
    "We cannot drop these values as these values play a important role in over all analysis instead we gonna replace it with overall average\n",
    "\n",
    "So we need to check what is the global average of male to female suicide ratio in these countries and access to these is possible in world wide web as we need p ratio of these countries\n",
    "\n",
    "Imported a .csv file with it and doind some basic cleaning"
   ]
  },
  {
   "cell_type": "code",
   "execution_count": 8,
   "metadata": {},
   "outputs": [
    {
     "data": {
      "text/html": [
       "<div>\n",
       "<style scoped>\n",
       "    .dataframe tbody tr th:only-of-type {\n",
       "        vertical-align: middle;\n",
       "    }\n",
       "\n",
       "    .dataframe tbody tr th {\n",
       "        vertical-align: top;\n",
       "    }\n",
       "\n",
       "    .dataframe thead th {\n",
       "        text-align: right;\n",
       "    }\n",
       "</style>\n",
       "<table border=\"1\" class=\"dataframe\">\n",
       "  <thead>\n",
       "    <tr style=\"text-align: right;\">\n",
       "      <th></th>\n",
       "      <th>Country</th>\n",
       "      <th>Year</th>\n",
       "      <th>M:F</th>\n",
       "    </tr>\n",
       "  </thead>\n",
       "  <tbody>\n",
       "    <tr>\n",
       "      <th>0</th>\n",
       "      <td>Afghanistan</td>\n",
       "      <td>1990</td>\n",
       "      <td>2.70</td>\n",
       "    </tr>\n",
       "    <tr>\n",
       "      <th>1</th>\n",
       "      <td>Afghanistan</td>\n",
       "      <td>1991</td>\n",
       "      <td>2.73</td>\n",
       "    </tr>\n",
       "    <tr>\n",
       "      <th>2</th>\n",
       "      <td>Afghanistan</td>\n",
       "      <td>1992</td>\n",
       "      <td>2.75</td>\n",
       "    </tr>\n",
       "    <tr>\n",
       "      <th>3</th>\n",
       "      <td>Afghanistan</td>\n",
       "      <td>1993</td>\n",
       "      <td>2.78</td>\n",
       "    </tr>\n",
       "    <tr>\n",
       "      <th>4</th>\n",
       "      <td>Afghanistan</td>\n",
       "      <td>1994</td>\n",
       "      <td>2.79</td>\n",
       "    </tr>\n",
       "  </tbody>\n",
       "</table>\n",
       "</div>"
      ],
      "text/plain": [
       "       Country  Year   M:F\n",
       "0  Afghanistan  1990  2.70\n",
       "1  Afghanistan  1991  2.73\n",
       "2  Afghanistan  1992  2.75\n",
       "3  Afghanistan  1993  2.78\n",
       "4  Afghanistan  1994  2.79"
      ]
     },
     "execution_count": 8,
     "metadata": {},
     "output_type": "execute_result"
    }
   ],
   "source": [
    "r = pd.read_csv(dir + \"Male-Female-Ratio-of-Suicide-Rates.csv\")\n",
    "r.rename(columns = {\n",
    "    'Entity':'Country',\n",
    "    'Male:female suicide ratio':'M:F'}, inplace=True)\n",
    "r = r.drop(columns=['Code'])\n",
    "r.head(5)"
   ]
  },
  {
   "cell_type": "code",
   "execution_count": 9,
   "metadata": {},
   "outputs": [
    {
     "name": "stderr",
     "output_type": "stream",
     "text": [
      "C:\\Program Files\\Anaconda\\lib\\site-packages\\ipykernel_launcher.py:15: SettingWithCopyWarning: \n",
      "A value is trying to be set on a copy of a slice from a DataFrame\n",
      "\n",
      "See the caveats in the documentation: http://pandas.pydata.org/pandas-docs/stable/user_guide/indexing.html#returning-a-view-versus-a-copy\n",
      "  from ipykernel import kernelapp as app\n",
      "C:\\Program Files\\Anaconda\\lib\\site-packages\\ipykernel_launcher.py:16: SettingWithCopyWarning: \n",
      "A value is trying to be set on a copy of a slice from a DataFrame\n",
      "\n",
      "See the caveats in the documentation: http://pandas.pydata.org/pandas-docs/stable/user_guide/indexing.html#returning-a-view-versus-a-copy\n",
      "  app.launch_new_instance()\n"
     ]
    }
   ],
   "source": [
    "r = r[r.Country.isin(n)].reset_index(drop=True)\n",
    "\n",
    "# Subsetting df so that join can be made\n",
    "d1 = df[df.Country.isin(n)].reset_index(drop=True)\n",
    "\n",
    "d2 = df.dropna().reset_index(drop=True)\n",
    "\n",
    "\n",
    "# Merging d1 with with our dataframe r to get values\n",
    "d = pd.merge(d1, r, on=['Country','Year'], how='inner')\n",
    "\n",
    "# Running sinle loop to fill values\n",
    "for i in range(len(d)):\n",
    "    \n",
    "     d['Suicide_Females_per_1000000'][i] = (1 / (d['M:F'][i] + 1)) * d['Suicide_Rate_per_1000000'][i]\n",
    "     d['Suicide_Males_per_1000000'][i]   = (d['M:F'][i] / (d['M:F'][i] + 1)) * d['Suicide_Rate_per_1000000'][i]\n",
    "\n"
   ]
  },
  {
   "cell_type": "code",
   "execution_count": 10,
   "metadata": {},
   "outputs": [
    {
     "name": "stdout",
     "output_type": "stream",
     "text": [
      "Anxiety_Disorder_pct           0\n",
      "Bipolar_Disorder_pct           0\n",
      "Country                        0\n",
      "Country_Code                   0\n",
      "Depressive_Disorder_pct        0\n",
      "Eating_Deaths                  0\n",
      "Eating_Disorder_pct            0\n",
      "Mental_Disorder_pct            0\n",
      "Mental_Illness_Drug_pct        0\n",
      "Schizophrenia_pct              0\n",
      "Suicide_Females_per_1000000    0\n",
      "Suicide_Males_per_1000000      0\n",
      "Suicide_Rate_15_49             0\n",
      "Suicide_Rate_50_59             0\n",
      "Suicide_Rate_70+               0\n",
      "Suicide_Rate_<15               0\n",
      "Suicide_Rate_per_1000000       0\n",
      "Suicide_pct_Deaths             0\n",
      "Year                           0\n",
      "dtype: int64\n"
     ]
    }
   ],
   "source": [
    "\n",
    "# Finally merging two df to get single view and check na values\n",
    "df = pd.concat([d,d2],sort=True)\n",
    "df = df.drop(columns=['M:F']) # Dropping columns\n",
    "\n",
    "\n",
    "print(df.isna().sum()) # Columns with  na values"
   ]
  },
  {
   "cell_type": "markdown",
   "metadata": {},
   "source": [
    "Let's look up another aspect of suicide and mental illness well being how much are the countries spending on the healthcare and other factores affecting it\n",
    "\n",
    "Source of this data is from following websites:\n",
    "GDP: https://data.worldbank.org/indicator/NY.GDP.MKTP.CD\n",
    "Population: https://data.worldbank.org/indicator/SP.POP.TOTL\n",
    "Unemployment: https://data.worldbank.org/indicator/SL.UEM.TOTL.ZS\n",
    "CPI: https://data.worldbank.org/indicator/FP.CPI.TOTL\n",
    "Food Production: https://data.worldbank.org/indicator/AG.PRD.FOOD.XD"
   ]
  },
  {
   "cell_type": "code",
   "execution_count": 11,
   "metadata": {},
   "outputs": [],
   "source": [
    " df1 = pd.read_csv(dir + \"Economic_Data.csv\")"
   ]
  },
  {
   "cell_type": "markdown",
   "metadata": {},
   "source": [
    "Take only those countries which are present in last analysis i.e df of last frame"
   ]
  },
  {
   "cell_type": "code",
   "execution_count": 12,
   "metadata": {},
   "outputs": [],
   "source": [
    "country = df.Country.unique().tolist() # Getting country in list\n",
    "df1 = df1[df1.Country.isin(country)].reset_index(drop=True) # Taking only those countries in list"
   ]
  },
  {
   "cell_type": "markdown",
   "metadata": {},
   "source": [
    "Let's do preliminary analysis of this dataset"
   ]
  },
  {
   "cell_type": "code",
   "execution_count": 13,
   "metadata": {},
   "outputs": [
    {
     "name": "stdout",
     "output_type": "stream",
     "text": [
      "Country              0\n",
      "Country_Code         0\n",
      "Year                 0\n",
      "GDP                291\n",
      "Population           0\n",
      "Unemployment       546\n",
      "Continent           28\n",
      "IncomeGroup         28\n",
      "FoodProduction     416\n",
      "CPI                950\n",
      "GINI              4086\n",
      "dtype: int64\n"
     ]
    }
   ],
   "source": [
    "df1.describe()\n",
    "print(df1.isna().sum()) # Columns with  na values"
   ]
  },
  {
   "cell_type": "markdown",
   "metadata": {},
   "source": [
    "We are gonna replace continent values oursleves and Tableau is supersmart to identify!!\n",
    "Dropping Food Production Column as we have GDP Indicator"
   ]
  },
  {
   "cell_type": "markdown",
   "metadata": {},
   "source": [
    "Let's discuss the columns:\n",
    "\n",
    "1. Country             : Country with their names\n",
    "2. Country_Code        : Country codes\n",
    "3. Year                : Year ranging from 1990 - 2017\n",
    "4. GDP                 : GDP measured in USD\n",
    "5. Population          : Actual Poulation count in millions\n",
    "6. Unemployment        : Unemployment is percentage out of total people unemployed out of population\n",
    "7. Continent           : Continent name \n",
    "8. IncomeGroup         : Income group of the country as defined by world bank\n",
    "9. FoodProduction      : Food production is total food production index of country\n",
    "10. CPI                : Consumer Price Index is a measure of inflation set by world bank\n",
    "11. GINI               : It helps in measurement of inequality i.e higher the number the higher the inequality of wealth"
   ]
  },
  {
   "cell_type": "code",
   "execution_count": 14,
   "metadata": {},
   "outputs": [],
   "source": [
    "df1 = df1.drop(columns=['Country_Code', 'Continent']) # Dropping column\n"
   ]
  },
  {
   "cell_type": "markdown",
   "metadata": {},
   "source": [
    "******** Most Important Regarding N.A Values**********\n",
    "\n",
    "Columns Unemployement, Food Production and C.P.I are the indicator of changes which cannot be generalised over a period of time\n",
    "\n",
    "So it's not a great idea to replace it with mean values or frequency of most incurrent value so for visualising purpose we are keeping this n.a values"
   ]
  },
  {
   "cell_type": "markdown",
   "metadata": {},
   "source": [
    "Finding countries having n.a values with only column of Income Group and replacing it with estimated values of last measured of that respective country"
   ]
  },
  {
   "cell_type": "code",
   "execution_count": 15,
   "metadata": {},
   "outputs": [
    {
     "name": "stderr",
     "output_type": "stream",
     "text": [
      "C:\\Program Files\\Anaconda\\lib\\site-packages\\pandas\\core\\frame.py:4259: SettingWithCopyWarning: \n",
      "A value is trying to be set on a copy of a slice from a DataFrame\n",
      "\n",
      "See the caveats in the documentation: http://pandas.pydata.org/pandas-docs/stable/user_guide/indexing.html#returning-a-view-versus-a-copy\n",
      "  **kwargs\n"
     ]
    }
   ],
   "source": [
    "df1[['IncomeGroup']].bfill(axis=0, inplace=True)\n"
   ]
  },
  {
   "cell_type": "markdown",
   "metadata": {},
   "source": [
    "Let's merge economic indicator data to our final dataframe to get aggregrated values of relations"
   ]
  },
  {
   "cell_type": "code",
   "execution_count": 16,
   "metadata": {},
   "outputs": [],
   "source": [
    "# Merging d1 with with our dataframe r to get values\n",
    "df = pd.merge(df1, df, on=['Country','Year'], how='inner')\n"
   ]
  },
  {
   "cell_type": "code",
   "execution_count": 17,
   "metadata": {},
   "outputs": [
    {
     "data": {
      "text/html": [
       "<div>\n",
       "<style scoped>\n",
       "    .dataframe tbody tr th:only-of-type {\n",
       "        vertical-align: middle;\n",
       "    }\n",
       "\n",
       "    .dataframe tbody tr th {\n",
       "        vertical-align: top;\n",
       "    }\n",
       "\n",
       "    .dataframe thead th {\n",
       "        text-align: right;\n",
       "    }\n",
       "</style>\n",
       "<table border=\"1\" class=\"dataframe\">\n",
       "  <thead>\n",
       "    <tr style=\"text-align: right;\">\n",
       "      <th></th>\n",
       "      <th>Year</th>\n",
       "      <th>GDP</th>\n",
       "      <th>Population</th>\n",
       "      <th>Unemployment</th>\n",
       "      <th>FoodProduction</th>\n",
       "      <th>CPI</th>\n",
       "      <th>GINI</th>\n",
       "      <th>Anxiety_Disorder_pct</th>\n",
       "      <th>Bipolar_Disorder_pct</th>\n",
       "      <th>Depressive_Disorder_pct</th>\n",
       "      <th>...</th>\n",
       "      <th>Mental_Illness_Drug_pct</th>\n",
       "      <th>Schizophrenia_pct</th>\n",
       "      <th>Suicide_Females_per_1000000</th>\n",
       "      <th>Suicide_Males_per_1000000</th>\n",
       "      <th>Suicide_Rate_15_49</th>\n",
       "      <th>Suicide_Rate_50_59</th>\n",
       "      <th>Suicide_Rate_70+</th>\n",
       "      <th>Suicide_Rate_&lt;15</th>\n",
       "      <th>Suicide_Rate_per_1000000</th>\n",
       "      <th>Suicide_pct_Deaths</th>\n",
       "    </tr>\n",
       "  </thead>\n",
       "  <tbody>\n",
       "    <tr>\n",
       "      <th>count</th>\n",
       "      <td>5460.000000</td>\n",
       "      <td>5.169000e+03</td>\n",
       "      <td>5.460000e+03</td>\n",
       "      <td>4914.000000</td>\n",
       "      <td>5044.000000</td>\n",
       "      <td>4.510000e+03</td>\n",
       "      <td>1374.000000</td>\n",
       "      <td>5460.000000</td>\n",
       "      <td>5460.000000</td>\n",
       "      <td>5460.000000</td>\n",
       "      <td>...</td>\n",
       "      <td>5460.000000</td>\n",
       "      <td>5460.000000</td>\n",
       "      <td>5460.000000</td>\n",
       "      <td>5460.000000</td>\n",
       "      <td>5460.000000</td>\n",
       "      <td>5460.000000</td>\n",
       "      <td>5460.000000</td>\n",
       "      <td>5460.000000</td>\n",
       "      <td>5460.000000</td>\n",
       "      <td>5460.000000</td>\n",
       "    </tr>\n",
       "    <tr>\n",
       "      <th>mean</th>\n",
       "      <td>2003.500000</td>\n",
       "      <td>2.574651e+11</td>\n",
       "      <td>3.262962e+07</td>\n",
       "      <td>8.283576</td>\n",
       "      <td>99.242617</td>\n",
       "      <td>8.138943e+01</td>\n",
       "      <td>39.187263</td>\n",
       "      <td>3.947774</td>\n",
       "      <td>0.717535</td>\n",
       "      <td>3.474351</td>\n",
       "      <td>...</td>\n",
       "      <td>12.926504</td>\n",
       "      <td>0.207948</td>\n",
       "      <td>5.756547</td>\n",
       "      <td>17.466918</td>\n",
       "      <td>13.805725</td>\n",
       "      <td>19.807426</td>\n",
       "      <td>30.110719</td>\n",
       "      <td>0.665954</td>\n",
       "      <td>11.948501</td>\n",
       "      <td>1.422106</td>\n",
       "    </tr>\n",
       "    <tr>\n",
       "      <th>std</th>\n",
       "      <td>8.078487</td>\n",
       "      <td>1.135314e+12</td>\n",
       "      <td>1.256625e+08</td>\n",
       "      <td>6.349720</td>\n",
       "      <td>26.074380</td>\n",
       "      <td>8.986793e+01</td>\n",
       "      <td>9.360470</td>\n",
       "      <td>1.137662</td>\n",
       "      <td>0.164415</td>\n",
       "      <td>0.673450</td>\n",
       "      <td>...</td>\n",
       "      <td>1.816910</td>\n",
       "      <td>0.041976</td>\n",
       "      <td>4.427974</td>\n",
       "      <td>13.188606</td>\n",
       "      <td>11.798430</td>\n",
       "      <td>13.658062</td>\n",
       "      <td>22.190424</td>\n",
       "      <td>0.875610</td>\n",
       "      <td>8.381369</td>\n",
       "      <td>1.087958</td>\n",
       "    </tr>\n",
       "    <tr>\n",
       "      <th>min</th>\n",
       "      <td>1990.000000</td>\n",
       "      <td>3.980954e+07</td>\n",
       "      <td>0.000000e+00</td>\n",
       "      <td>0.140000</td>\n",
       "      <td>0.070000</td>\n",
       "      <td>4.131430e-10</td>\n",
       "      <td>23.700000</td>\n",
       "      <td>2.023393</td>\n",
       "      <td>0.314535</td>\n",
       "      <td>2.139903</td>\n",
       "      <td>...</td>\n",
       "      <td>9.715255</td>\n",
       "      <td>0.146902</td>\n",
       "      <td>0.529270</td>\n",
       "      <td>2.338449</td>\n",
       "      <td>1.606804</td>\n",
       "      <td>2.828587</td>\n",
       "      <td>3.208721</td>\n",
       "      <td>0.037384</td>\n",
       "      <td>1.526792</td>\n",
       "      <td>0.109449</td>\n",
       "    </tr>\n",
       "    <tr>\n",
       "      <th>25%</th>\n",
       "      <td>1996.750000</td>\n",
       "      <td>3.291354e+09</td>\n",
       "      <td>1.449178e+06</td>\n",
       "      <td>3.655500</td>\n",
       "      <td>85.127500</td>\n",
       "      <td>5.649552e+01</td>\n",
       "      <td>31.800000</td>\n",
       "      <td>3.176496</td>\n",
       "      <td>0.616122</td>\n",
       "      <td>2.953517</td>\n",
       "      <td>...</td>\n",
       "      <td>11.440857</td>\n",
       "      <td>0.179262</td>\n",
       "      <td>2.850000</td>\n",
       "      <td>8.790000</td>\n",
       "      <td>6.913528</td>\n",
       "      <td>9.272147</td>\n",
       "      <td>12.152274</td>\n",
       "      <td>0.267642</td>\n",
       "      <td>6.482187</td>\n",
       "      <td>0.711033</td>\n",
       "    </tr>\n",
       "    <tr>\n",
       "      <th>50%</th>\n",
       "      <td>2003.500000</td>\n",
       "      <td>1.401079e+10</td>\n",
       "      <td>6.481214e+06</td>\n",
       "      <td>6.740500</td>\n",
       "      <td>98.330000</td>\n",
       "      <td>8.112735e+01</td>\n",
       "      <td>37.200000</td>\n",
       "      <td>3.505739</td>\n",
       "      <td>0.695039</td>\n",
       "      <td>3.460046</td>\n",
       "      <td>...</td>\n",
       "      <td>12.410090</td>\n",
       "      <td>0.198416</td>\n",
       "      <td>5.020000</td>\n",
       "      <td>15.005000</td>\n",
       "      <td>9.968232</td>\n",
       "      <td>16.737292</td>\n",
       "      <td>22.546248</td>\n",
       "      <td>0.483066</td>\n",
       "      <td>10.185062</td>\n",
       "      <td>1.151298</td>\n",
       "    </tr>\n",
       "    <tr>\n",
       "      <th>75%</th>\n",
       "      <td>2010.250000</td>\n",
       "      <td>9.674174e+10</td>\n",
       "      <td>2.091414e+07</td>\n",
       "      <td>11.156000</td>\n",
       "      <td>109.500000</td>\n",
       "      <td>1.030327e+02</td>\n",
       "      <td>46.175000</td>\n",
       "      <td>4.662053</td>\n",
       "      <td>0.831306</td>\n",
       "      <td>3.880110</td>\n",
       "      <td>...</td>\n",
       "      <td>14.164966</td>\n",
       "      <td>0.230024</td>\n",
       "      <td>7.302500</td>\n",
       "      <td>21.072500</td>\n",
       "      <td>16.338533</td>\n",
       "      <td>26.961937</td>\n",
       "      <td>44.553432</td>\n",
       "      <td>0.766753</td>\n",
       "      <td>14.796353</td>\n",
       "      <td>1.820854</td>\n",
       "    </tr>\n",
       "    <tr>\n",
       "      <th>max</th>\n",
       "      <td>2017.000000</td>\n",
       "      <td>1.948540e+13</td>\n",
       "      <td>1.386395e+09</td>\n",
       "      <td>37.939999</td>\n",
       "      <td>490.790000</td>\n",
       "      <td>4.583705e+03</td>\n",
       "      <td>65.800000</td>\n",
       "      <td>8.967330</td>\n",
       "      <td>1.206597</td>\n",
       "      <td>6.602754</td>\n",
       "      <td>...</td>\n",
       "      <td>19.115460</td>\n",
       "      <td>0.375110</td>\n",
       "      <td>48.710000</td>\n",
       "      <td>145.460000</td>\n",
       "      <td>156.183408</td>\n",
       "      <td>96.493884</td>\n",
       "      <td>147.957392</td>\n",
       "      <td>12.937600</td>\n",
       "      <td>98.831696</td>\n",
       "      <td>13.887123</td>\n",
       "    </tr>\n",
       "  </tbody>\n",
       "</table>\n",
       "<p>8 rows × 23 columns</p>\n",
       "</div>"
      ],
      "text/plain": [
       "              Year           GDP    Population  Unemployment  FoodProduction  \\\n",
       "count  5460.000000  5.169000e+03  5.460000e+03   4914.000000     5044.000000   \n",
       "mean   2003.500000  2.574651e+11  3.262962e+07      8.283576       99.242617   \n",
       "std       8.078487  1.135314e+12  1.256625e+08      6.349720       26.074380   \n",
       "min    1990.000000  3.980954e+07  0.000000e+00      0.140000        0.070000   \n",
       "25%    1996.750000  3.291354e+09  1.449178e+06      3.655500       85.127500   \n",
       "50%    2003.500000  1.401079e+10  6.481214e+06      6.740500       98.330000   \n",
       "75%    2010.250000  9.674174e+10  2.091414e+07     11.156000      109.500000   \n",
       "max    2017.000000  1.948540e+13  1.386395e+09     37.939999      490.790000   \n",
       "\n",
       "                CPI         GINI  Anxiety_Disorder_pct  Bipolar_Disorder_pct  \\\n",
       "count  4.510000e+03  1374.000000           5460.000000           5460.000000   \n",
       "mean   8.138943e+01    39.187263              3.947774              0.717535   \n",
       "std    8.986793e+01     9.360470              1.137662              0.164415   \n",
       "min    4.131430e-10    23.700000              2.023393              0.314535   \n",
       "25%    5.649552e+01    31.800000              3.176496              0.616122   \n",
       "50%    8.112735e+01    37.200000              3.505739              0.695039   \n",
       "75%    1.030327e+02    46.175000              4.662053              0.831306   \n",
       "max    4.583705e+03    65.800000              8.967330              1.206597   \n",
       "\n",
       "       Depressive_Disorder_pct  ...  Mental_Illness_Drug_pct  \\\n",
       "count              5460.000000  ...              5460.000000   \n",
       "mean                  3.474351  ...                12.926504   \n",
       "std                   0.673450  ...                 1.816910   \n",
       "min                   2.139903  ...                 9.715255   \n",
       "25%                   2.953517  ...                11.440857   \n",
       "50%                   3.460046  ...                12.410090   \n",
       "75%                   3.880110  ...                14.164966   \n",
       "max                   6.602754  ...                19.115460   \n",
       "\n",
       "       Schizophrenia_pct  Suicide_Females_per_1000000  \\\n",
       "count        5460.000000                  5460.000000   \n",
       "mean            0.207948                     5.756547   \n",
       "std             0.041976                     4.427974   \n",
       "min             0.146902                     0.529270   \n",
       "25%             0.179262                     2.850000   \n",
       "50%             0.198416                     5.020000   \n",
       "75%             0.230024                     7.302500   \n",
       "max             0.375110                    48.710000   \n",
       "\n",
       "       Suicide_Males_per_1000000  Suicide_Rate_15_49  Suicide_Rate_50_59  \\\n",
       "count                5460.000000         5460.000000         5460.000000   \n",
       "mean                   17.466918           13.805725           19.807426   \n",
       "std                    13.188606           11.798430           13.658062   \n",
       "min                     2.338449            1.606804            2.828587   \n",
       "25%                     8.790000            6.913528            9.272147   \n",
       "50%                    15.005000            9.968232           16.737292   \n",
       "75%                    21.072500           16.338533           26.961937   \n",
       "max                   145.460000          156.183408           96.493884   \n",
       "\n",
       "       Suicide_Rate_70+  Suicide_Rate_<15  Suicide_Rate_per_1000000  \\\n",
       "count       5460.000000       5460.000000               5460.000000   \n",
       "mean          30.110719          0.665954                 11.948501   \n",
       "std           22.190424          0.875610                  8.381369   \n",
       "min            3.208721          0.037384                  1.526792   \n",
       "25%           12.152274          0.267642                  6.482187   \n",
       "50%           22.546248          0.483066                 10.185062   \n",
       "75%           44.553432          0.766753                 14.796353   \n",
       "max          147.957392         12.937600                 98.831696   \n",
       "\n",
       "       Suicide_pct_Deaths  \n",
       "count         5460.000000  \n",
       "mean             1.422106  \n",
       "std              1.087958  \n",
       "min              0.109449  \n",
       "25%              0.711033  \n",
       "50%              1.151298  \n",
       "75%              1.820854  \n",
       "max             13.887123  \n",
       "\n",
       "[8 rows x 23 columns]"
      ]
     },
     "execution_count": 17,
     "metadata": {},
     "output_type": "execute_result"
    }
   ],
   "source": [
    "df.describe()"
   ]
  },
  {
   "cell_type": "markdown",
   "metadata": {},
   "source": [
    "The Population column has zero value which is not possible as not country has zero population else it's North Korea!\n"
   ]
  },
  {
   "cell_type": "code",
   "execution_count": 18,
   "metadata": {},
   "outputs": [
    {
     "name": "stdout",
     "output_type": "stream",
     "text": [
      "The list of countries having zero population are :['Eritrea', 'Kuwait', 'Taiwan']\n"
     ]
    }
   ],
   "source": [
    "l = df[df['Population']==0]['Country'].unique().tolist()\n",
    "print(\"The list of countries having zero population are :\" + str(l))\n"
   ]
  },
  {
   "cell_type": "markdown",
   "metadata": {},
   "source": [
    "Let's fill the population of these countries by checking these over years by using the following website:\n",
    "https://www.worldometers.info/world-population/"
   ]
  },
  {
   "cell_type": "code",
   "execution_count": 19,
   "metadata": {},
   "outputs": [
    {
     "name": "stdout",
     "output_type": "stream",
     "text": [
      "      Country  Year\n",
      "1590  Eritrea  2012\n",
      "1591  Eritrea  2013\n",
      "1592  Eritrea  2014\n",
      "1593  Eritrea  2015\n",
      "1594  Eritrea  2016\n",
      "1595  Eritrea  2017\n",
      "2578   Kuwait  1992\n",
      "2579   Kuwait  1993\n",
      "2580   Kuwait  1994\n",
      "4760   Taiwan  1990\n",
      "4761   Taiwan  1991\n",
      "4762   Taiwan  1992\n",
      "4763   Taiwan  1993\n",
      "4764   Taiwan  1994\n",
      "4765   Taiwan  1995\n",
      "4766   Taiwan  1996\n",
      "4767   Taiwan  1997\n",
      "4768   Taiwan  1998\n",
      "4769   Taiwan  1999\n",
      "4770   Taiwan  2000\n",
      "4771   Taiwan  2001\n",
      "4772   Taiwan  2002\n",
      "4773   Taiwan  2003\n",
      "4774   Taiwan  2004\n",
      "4775   Taiwan  2005\n",
      "4776   Taiwan  2006\n",
      "4777   Taiwan  2007\n",
      "4778   Taiwan  2008\n",
      "4779   Taiwan  2009\n",
      "4780   Taiwan  2010\n",
      "4781   Taiwan  2011\n",
      "4782   Taiwan  2012\n",
      "4783   Taiwan  2013\n",
      "4784   Taiwan  2014\n",
      "4785   Taiwan  2015\n",
      "4786   Taiwan  2016\n",
      "4787   Taiwan  2017\n"
     ]
    }
   ],
   "source": [
    "print(df[df['Population']==0][['Country','Year']])"
   ]
  },
  {
   "cell_type": "markdown",
   "metadata": {},
   "source": [
    "These are the countries and years whose population has been generalised over the years with some percentage changes \n",
    "Using this hypothesis we are gonna impute the changes"
   ]
  },
  {
   "cell_type": "code",
   "execution_count": 20,
   "metadata": {},
   "outputs": [
    {
     "name": "stderr",
     "output_type": "stream",
     "text": [
      "C:\\Program Files\\Anaconda\\lib\\site-packages\\IPython\\core\\interactiveshell.py:3326: SettingWithCopyWarning: \n",
      "A value is trying to be set on a copy of a slice from a DataFrame\n",
      "\n",
      "See the caveats in the documentation: http://pandas.pydata.org/pandas-docs/stable/user_guide/indexing.html#returning-a-view-versus-a-copy\n",
      "  exec(code_obj, self.user_global_ns, self.user_ns)\n"
     ]
    }
   ],
   "source": [
    "#print(df[df['Population']==0][['Country','Year']])\n",
    "\n",
    "# Taiwan Population in 20 Years has increased with 0.5% on an average as described in the above website\n",
    "\n",
    "l = df[df['Country'] == \"Taiwan\"]['Population'].index.values.tolist()\n",
    "\n",
    "population_taiwan = 20478520\n",
    "for i in l:\n",
    "    df[df['Country'] == \"Taiwan\"]['Population'][i] = 1.05 * population_taiwan\n",
    "    population_taiwan = 1.05 * population_taiwan\n",
    "\n",
    "# We don't have population of Kuwait before 1995\n",
    "\n",
    "# Assuming it has shown redution in 2 percent each year before 1996\n",
    "\n",
    "l = df[(df['Country'] == \"Kuwait\") & (df['Population'] == 0)].index.values.tolist()[::-1] # The list is reversed \n",
    "population_kuwait =  df[df['Country'] == \"Kuwait\"]['Population'][l[0] + 1]\n",
    "for i  in l:\n",
    "    df[df['Country'] == \"Kuwait\"]['Population'][i] = 0.98 * population_kuwait\n",
    "    population_kuwait = 0.98 * population_kuwait\n",
    " \n",
    "\n",
    "# We don't have population of Eritrea after 2014\n",
    "\n",
    "# Assuming it has shown increase in 1 percent each year before 1996\n",
    "\n",
    "l = df[(df['Country'] == \"Eritrea\") & (df['Population'] == 0)].index.values.tolist()\n",
    "population_Eritrea =  df[df['Country'] == \"Eritrea\"]['Population'][l[0]-1]\n",
    "for i  in l:\n",
    "    df[df['Country'] == \"Eritrea\"]['Population'][i] = 1.01 * population_Eritrea\n",
    "    population_Eritrea = 1.01 * population_Eritrea\n",
    " \n",
    "    "
   ]
  },
  {
   "cell_type": "markdown",
   "metadata": {},
   "source": [
    "Let's check how country is reacting when countries are spending on pysciatric cases\n",
    "The source of the data is from https://gateway.euro.who.int/en/indicators/hfa_488-5070-psychiatric-hospital-beds-per-100-000/"
   ]
  },
  {
   "cell_type": "code",
   "execution_count": 21,
   "metadata": {},
   "outputs": [],
   "source": [
    "p = pd.read_csv(dir  + \"phsychiatrists_per_100000.csv\")"
   ]
  },
  {
   "cell_type": "markdown",
   "metadata": {},
   "source": [
    "Let's discuss the columns:\n",
    "\n",
    "1. TIME                : Year values\n",
    "2. GEO                 : Countries\n",
    "3. UNIT                : Unit of measuring\n",
    "4. Value               : Number of phsychiatrists_per_100000"
   ]
  },
  {
   "cell_type": "code",
   "execution_count": 22,
   "metadata": {},
   "outputs": [],
   "source": [
    "# Dropping row value based on column\n",
    "p = p[p['UNIT'] != \"Number\"].reset_index(drop=True)\n",
    "p = p.drop(columns=['UNIT']) # Dropping column of UNIT\n",
    "# Renaming columns\n",
    "p.rename(columns={\n",
    "    'TIME': 'Year',\n",
    "    'GEO':'Country',\n",
    "    'Value' : 'Number_of_phsychiatrists_per_100000'}, inplace=True)\n",
    "\n",
    "# Dropping year  value more than 2018 as we don't have in original dataset\n",
    "p = p[p['Year'] != 2018].reset_index(drop=True)"
   ]
  },
  {
   "cell_type": "code",
   "execution_count": 23,
   "metadata": {},
   "outputs": [],
   "source": [
    "#Finally joining to get a cleaned dataset\n",
    "df = pd.merge(df, p, on=['Country','Year'], how='left')"
   ]
  },
  {
   "cell_type": "markdown",
   "metadata": {},
   "source": [
    "Let' go now to check how does happpiness index and well being relate with mental health and suicide statistics\n",
    "\n",
    "Since happiness index data has only been measure of score prominantly from 2015 we are uding only 3 years of data 2015, 2016 and 2017 for our analysis "
   ]
  },
  {
   "cell_type": "markdown",
   "metadata": {},
   "source": [
    "Let's check how country is reacting when countries are spending on pysciatric  beds and indicated mental health severity spending\n",
    "The source of the data is from https://gateway.euro.who.int/en/indicators/hfa_488-5070-psychiatric-hospital-beds-per-100-000/"
   ]
  },
  {
   "cell_type": "code",
   "execution_count": 24,
   "metadata": {},
   "outputs": [
    {
     "data": {
      "text/html": [
       "<div>\n",
       "<style scoped>\n",
       "    .dataframe tbody tr th:only-of-type {\n",
       "        vertical-align: middle;\n",
       "    }\n",
       "\n",
       "    .dataframe tbody tr th {\n",
       "        vertical-align: top;\n",
       "    }\n",
       "\n",
       "    .dataframe thead th {\n",
       "        text-align: right;\n",
       "    }\n",
       "</style>\n",
       "<table border=\"1\" class=\"dataframe\">\n",
       "  <thead>\n",
       "    <tr style=\"text-align: right;\">\n",
       "      <th></th>\n",
       "      <th>COUNTRY</th>\n",
       "      <th>COUNTRY_GRP</th>\n",
       "      <th>SEX</th>\n",
       "      <th>YEAR</th>\n",
       "      <th>VALUE</th>\n",
       "    </tr>\n",
       "  </thead>\n",
       "  <tbody>\n",
       "    <tr>\n",
       "      <th>0</th>\n",
       "      <td>ALB</td>\n",
       "      <td>NaN</td>\n",
       "      <td>ALL</td>\n",
       "      <td>1988</td>\n",
       "      <td>40.57</td>\n",
       "    </tr>\n",
       "    <tr>\n",
       "      <th>1</th>\n",
       "      <td>ALB</td>\n",
       "      <td>NaN</td>\n",
       "      <td>ALL</td>\n",
       "      <td>1989</td>\n",
       "      <td>37.74</td>\n",
       "    </tr>\n",
       "    <tr>\n",
       "      <th>2</th>\n",
       "      <td>ALB</td>\n",
       "      <td>NaN</td>\n",
       "      <td>ALL</td>\n",
       "      <td>1990</td>\n",
       "      <td>38.61</td>\n",
       "    </tr>\n",
       "    <tr>\n",
       "      <th>3</th>\n",
       "      <td>ALB</td>\n",
       "      <td>NaN</td>\n",
       "      <td>ALL</td>\n",
       "      <td>1991</td>\n",
       "      <td>39.85</td>\n",
       "    </tr>\n",
       "    <tr>\n",
       "      <th>4</th>\n",
       "      <td>ALB</td>\n",
       "      <td>NaN</td>\n",
       "      <td>ALL</td>\n",
       "      <td>1992</td>\n",
       "      <td>40.81</td>\n",
       "    </tr>\n",
       "    <tr>\n",
       "      <th>...</th>\n",
       "      <td>...</td>\n",
       "      <td>...</td>\n",
       "      <td>...</td>\n",
       "      <td>...</td>\n",
       "      <td>...</td>\n",
       "    </tr>\n",
       "    <tr>\n",
       "      <th>1553</th>\n",
       "      <td>NaN</td>\n",
       "      <td>WHO_EURO</td>\n",
       "      <td>ALL</td>\n",
       "      <td>2010</td>\n",
       "      <td>71.66</td>\n",
       "    </tr>\n",
       "    <tr>\n",
       "      <th>1554</th>\n",
       "      <td>NaN</td>\n",
       "      <td>WHO_EURO</td>\n",
       "      <td>ALL</td>\n",
       "      <td>2011</td>\n",
       "      <td>70.73</td>\n",
       "    </tr>\n",
       "    <tr>\n",
       "      <th>1555</th>\n",
       "      <td>NaN</td>\n",
       "      <td>WHO_EURO</td>\n",
       "      <td>ALL</td>\n",
       "      <td>2012</td>\n",
       "      <td>69.95</td>\n",
       "    </tr>\n",
       "    <tr>\n",
       "      <th>1556</th>\n",
       "      <td>NaN</td>\n",
       "      <td>WHO_EURO</td>\n",
       "      <td>ALL</td>\n",
       "      <td>2013</td>\n",
       "      <td>69.26</td>\n",
       "    </tr>\n",
       "    <tr>\n",
       "      <th>1557</th>\n",
       "      <td>NaN</td>\n",
       "      <td>WHO_EURO</td>\n",
       "      <td>ALL</td>\n",
       "      <td>2014</td>\n",
       "      <td>68.13</td>\n",
       "    </tr>\n",
       "  </tbody>\n",
       "</table>\n",
       "<p>1558 rows × 5 columns</p>\n",
       "</div>"
      ],
      "text/plain": [
       "     COUNTRY COUNTRY_GRP  SEX  YEAR  VALUE\n",
       "0        ALB         NaN  ALL  1988  40.57\n",
       "1        ALB         NaN  ALL  1989  37.74\n",
       "2        ALB         NaN  ALL  1990  38.61\n",
       "3        ALB         NaN  ALL  1991  39.85\n",
       "4        ALB         NaN  ALL  1992  40.81\n",
       "...      ...         ...  ...   ...    ...\n",
       "1553     NaN    WHO_EURO  ALL  2010  71.66\n",
       "1554     NaN    WHO_EURO  ALL  2011  70.73\n",
       "1555     NaN    WHO_EURO  ALL  2012  69.95\n",
       "1556     NaN    WHO_EURO  ALL  2013  69.26\n",
       "1557     NaN    WHO_EURO  ALL  2014  68.13\n",
       "\n",
       "[1558 rows x 5 columns]"
      ]
     },
     "execution_count": 24,
     "metadata": {},
     "output_type": "execute_result"
    }
   ],
   "source": [
    "p = pd.read_csv(dir  + \"phsychiatrists_beds_per_100000.csv\")\n",
    "p"
   ]
  },
  {
   "cell_type": "markdown",
   "metadata": {},
   "source": [
    "Let's discuss the columns:\n",
    "\n",
    "1. COUNTRY            : Country Codes\n",
    "2. COUNTRY_GRP        : Countries\n",
    "3. SEX                : Unit of measuring\n",
    "4. YEAR               : Year when survey was made\n",
    "4. Value              : Number_of_phsychiatrists_beds_per_100000"
   ]
  },
  {
   "cell_type": "code",
   "execution_count": 25,
   "metadata": {},
   "outputs": [],
   "source": [
    "# Dropping row value based on column\n",
    "# No use of two cols as sex is common\n",
    "p = p.drop(columns=['COUNTRY_GRP','SEX'])\n",
    "# Renaming columns\n",
    "p.rename(columns={\n",
    "    'COUNTRY': 'Country_Code',\n",
    "    'YEAR'   : 'Year',\n",
    "    'VALUE' : 'Number_of_phsychiatrists_beds_per_100000'}, inplace=True)"
   ]
  },
  {
   "cell_type": "code",
   "execution_count": 26,
   "metadata": {},
   "outputs": [],
   "source": [
    "#Finally joining to get a cleaned dataset\n",
    "df = pd.merge(df, p, on=['Country_Code','Year'], how='left')"
   ]
  },
  {
   "cell_type": "code",
   "execution_count": 27,
   "metadata": {},
   "outputs": [],
   "source": [
    "d1 = pd.read_csv(dir + \"2015 happiness index.csv\")\n",
    "d2 = pd.read_csv(dir + \"2016 happiness index.csv\")\n",
    "d3 = pd.read_csv(dir + \"2017 happiness index.csv\")"
   ]
  },
  {
   "cell_type": "markdown",
   "metadata": {},
   "source": [
    "Cleaning the data to join"
   ]
  },
  {
   "cell_type": "code",
   "execution_count": 28,
   "metadata": {},
   "outputs": [],
   "source": [
    "d1 = d1[['Country','Happiness Rank','Happiness Score','Economy (GDP per Capita)','Family','Freedom','Health (Life Expectancy)','Trust (Government Corruption)','Generosity','Year']]\n",
    "d2 = d2[['Country','Happiness Rank','Happiness Score','Economy (GDP per Capita)','Family','Freedom','Health (Life Expectancy)','Trust (Government Corruption)','Generosity','Year']]\n",
    "#d3 = d3[['Country','Region','Happiness Rank','Happiness Score','Economy (GDP per Capita)','Family','Freedom','Trust (Government Corruption)','Generosity']]\n",
    "d3.rename(columns={\n",
    "    'Entity': 'Country',\n",
    "    'Happiness.Rank':'Happiness Rank',\n",
    "    'Happiness.Score':'Happiness Score',\n",
    "    'Economy..GDP.per.Capita.':'Economy (GDP per Capita)',\n",
    "    'Health..Life.Expectancy.':'Health (Life Expectancy)',\n",
    "    'Trust..Government.Corruption.':'Trust (Government Corruption)'}, inplace=True)\n",
    "d3 = d3[['Country','Happiness Rank','Happiness Score','Economy (GDP per Capita)','Family','Freedom','Health (Life Expectancy)','Trust (Government Corruption)','Generosity','Year']]"
   ]
  },
  {
   "cell_type": "code",
   "execution_count": 29,
   "metadata": {},
   "outputs": [
    {
     "data": {
      "text/html": [
       "<div>\n",
       "<style scoped>\n",
       "    .dataframe tbody tr th:only-of-type {\n",
       "        vertical-align: middle;\n",
       "    }\n",
       "\n",
       "    .dataframe tbody tr th {\n",
       "        vertical-align: top;\n",
       "    }\n",
       "\n",
       "    .dataframe thead th {\n",
       "        text-align: right;\n",
       "    }\n",
       "</style>\n",
       "<table border=\"1\" class=\"dataframe\">\n",
       "  <thead>\n",
       "    <tr style=\"text-align: right;\">\n",
       "      <th></th>\n",
       "      <th></th>\n",
       "      <th>Economy (GDP per Capita)</th>\n",
       "      <th>Family</th>\n",
       "      <th>Freedom</th>\n",
       "      <th>Generosity</th>\n",
       "      <th>Happiness Score</th>\n",
       "      <th>Health (Life Expectancy)</th>\n",
       "      <th>Trust (Government Corruption)</th>\n",
       "    </tr>\n",
       "    <tr>\n",
       "      <th>Country</th>\n",
       "      <th>Year</th>\n",
       "      <th></th>\n",
       "      <th></th>\n",
       "      <th></th>\n",
       "      <th></th>\n",
       "      <th></th>\n",
       "      <th></th>\n",
       "      <th></th>\n",
       "    </tr>\n",
       "  </thead>\n",
       "  <tbody>\n",
       "    <tr>\n",
       "      <th rowspan=\"3\" valign=\"top\">Afghanistan</th>\n",
       "      <th>2015</th>\n",
       "      <td>0.319820</td>\n",
       "      <td>0.302850</td>\n",
       "      <td>0.234140</td>\n",
       "      <td>0.365100</td>\n",
       "      <td>3.575</td>\n",
       "      <td>0.303350</td>\n",
       "      <td>0.097190</td>\n",
       "    </tr>\n",
       "    <tr>\n",
       "      <th>2016</th>\n",
       "      <td>0.382270</td>\n",
       "      <td>0.110370</td>\n",
       "      <td>0.164300</td>\n",
       "      <td>0.312680</td>\n",
       "      <td>3.360</td>\n",
       "      <td>0.173440</td>\n",
       "      <td>0.071120</td>\n",
       "    </tr>\n",
       "    <tr>\n",
       "      <th>2017</th>\n",
       "      <td>0.401477</td>\n",
       "      <td>0.581543</td>\n",
       "      <td>0.106180</td>\n",
       "      <td>0.311871</td>\n",
       "      <td>3.794</td>\n",
       "      <td>0.180747</td>\n",
       "      <td>0.061158</td>\n",
       "    </tr>\n",
       "    <tr>\n",
       "      <th rowspan=\"2\" valign=\"top\">Albania</th>\n",
       "      <th>2015</th>\n",
       "      <td>0.878670</td>\n",
       "      <td>0.804340</td>\n",
       "      <td>0.357330</td>\n",
       "      <td>0.142720</td>\n",
       "      <td>4.959</td>\n",
       "      <td>0.813250</td>\n",
       "      <td>0.064130</td>\n",
       "    </tr>\n",
       "    <tr>\n",
       "      <th>2016</th>\n",
       "      <td>0.955300</td>\n",
       "      <td>0.501630</td>\n",
       "      <td>0.318660</td>\n",
       "      <td>0.168400</td>\n",
       "      <td>4.655</td>\n",
       "      <td>0.730070</td>\n",
       "      <td>0.053010</td>\n",
       "    </tr>\n",
       "    <tr>\n",
       "      <th>...</th>\n",
       "      <th>...</th>\n",
       "      <td>...</td>\n",
       "      <td>...</td>\n",
       "      <td>...</td>\n",
       "      <td>...</td>\n",
       "      <td>...</td>\n",
       "      <td>...</td>\n",
       "      <td>...</td>\n",
       "    </tr>\n",
       "    <tr>\n",
       "      <th rowspan=\"2\" valign=\"top\">Zambia</th>\n",
       "      <th>2016</th>\n",
       "      <td>0.612020</td>\n",
       "      <td>0.637600</td>\n",
       "      <td>0.426620</td>\n",
       "      <td>0.178660</td>\n",
       "      <td>4.795</td>\n",
       "      <td>0.235730</td>\n",
       "      <td>0.114790</td>\n",
       "    </tr>\n",
       "    <tr>\n",
       "      <th>2017</th>\n",
       "      <td>0.636407</td>\n",
       "      <td>1.003187</td>\n",
       "      <td>0.461603</td>\n",
       "      <td>0.249580</td>\n",
       "      <td>4.514</td>\n",
       "      <td>0.257836</td>\n",
       "      <td>0.078214</td>\n",
       "    </tr>\n",
       "    <tr>\n",
       "      <th rowspan=\"3\" valign=\"top\">Zimbabwe</th>\n",
       "      <th>2015</th>\n",
       "      <td>0.271000</td>\n",
       "      <td>1.032760</td>\n",
       "      <td>0.258610</td>\n",
       "      <td>0.189870</td>\n",
       "      <td>4.610</td>\n",
       "      <td>0.334750</td>\n",
       "      <td>0.080790</td>\n",
       "    </tr>\n",
       "    <tr>\n",
       "      <th>2016</th>\n",
       "      <td>0.350410</td>\n",
       "      <td>0.714780</td>\n",
       "      <td>0.254290</td>\n",
       "      <td>0.185030</td>\n",
       "      <td>4.193</td>\n",
       "      <td>0.159500</td>\n",
       "      <td>0.085820</td>\n",
       "    </tr>\n",
       "    <tr>\n",
       "      <th>2017</th>\n",
       "      <td>0.375847</td>\n",
       "      <td>1.083096</td>\n",
       "      <td>0.336384</td>\n",
       "      <td>0.189143</td>\n",
       "      <td>3.875</td>\n",
       "      <td>0.196764</td>\n",
       "      <td>0.095375</td>\n",
       "    </tr>\n",
       "  </tbody>\n",
       "</table>\n",
       "<p>470 rows × 7 columns</p>\n",
       "</div>"
      ],
      "text/plain": [
       "                  Economy (GDP per Capita)    Family   Freedom  Generosity  \\\n",
       "Country     Year                                                             \n",
       "Afghanistan 2015                  0.319820  0.302850  0.234140    0.365100   \n",
       "            2016                  0.382270  0.110370  0.164300    0.312680   \n",
       "            2017                  0.401477  0.581543  0.106180    0.311871   \n",
       "Albania     2015                  0.878670  0.804340  0.357330    0.142720   \n",
       "            2016                  0.955300  0.501630  0.318660    0.168400   \n",
       "...                                    ...       ...       ...         ...   \n",
       "Zambia      2016                  0.612020  0.637600  0.426620    0.178660   \n",
       "            2017                  0.636407  1.003187  0.461603    0.249580   \n",
       "Zimbabwe    2015                  0.271000  1.032760  0.258610    0.189870   \n",
       "            2016                  0.350410  0.714780  0.254290    0.185030   \n",
       "            2017                  0.375847  1.083096  0.336384    0.189143   \n",
       "\n",
       "                  Happiness Score  Health (Life Expectancy)  \\\n",
       "Country     Year                                              \n",
       "Afghanistan 2015            3.575                  0.303350   \n",
       "            2016            3.360                  0.173440   \n",
       "            2017            3.794                  0.180747   \n",
       "Albania     2015            4.959                  0.813250   \n",
       "            2016            4.655                  0.730070   \n",
       "...                           ...                       ...   \n",
       "Zambia      2016            4.795                  0.235730   \n",
       "            2017            4.514                  0.257836   \n",
       "Zimbabwe    2015            4.610                  0.334750   \n",
       "            2016            4.193                  0.159500   \n",
       "            2017            3.875                  0.196764   \n",
       "\n",
       "                  Trust (Government Corruption)  \n",
       "Country     Year                                 \n",
       "Afghanistan 2015                       0.097190  \n",
       "            2016                       0.071120  \n",
       "            2017                       0.061158  \n",
       "Albania     2015                       0.064130  \n",
       "            2016                       0.053010  \n",
       "...                                         ...  \n",
       "Zambia      2016                       0.114790  \n",
       "            2017                       0.078214  \n",
       "Zimbabwe    2015                       0.080790  \n",
       "            2016                       0.085820  \n",
       "            2017                       0.095375  \n",
       "\n",
       "[470 rows x 7 columns]"
      ]
     },
     "execution_count": 29,
     "metadata": {},
     "output_type": "execute_result"
    }
   ],
   "source": [
    "h = pd.concat([d1,d2,d3],sort=True) # Merging dataframe to one \n",
    "# Group by and droppping column\n",
    "d = h.groupby(['Country', 'Year']).mean()\n",
    "h = d.drop(columns=['Happiness Rank']) # Dropping column of rank\n",
    "h"
   ]
  },
  {
   "cell_type": "code",
   "execution_count": 30,
   "metadata": {},
   "outputs": [],
   "source": [
    "h.to_csv(dir + \"Happiness_Index.csv\" )\n",
    "h = pd.read_csv(dir + \"Happiness_Index.csv\" )\n",
    "#h = get_Country_Code(h)[['Country','Country_Code','Happiness Score','Economy (GDP per Capita)','Family','Freedom','Health (Life Expectancy)','Trust (Government Corruption)','Generosity','Year']]\n",
    "df = pd.merge(df, h, on=['Country','Year'], how='left')"
   ]
  },
  {
   "cell_type": "markdown",
   "metadata": {},
   "source": [
    "Get Continent name"
   ]
  },
  {
   "cell_type": "code",
   "execution_count": 31,
   "metadata": {},
   "outputs": [
    {
     "data": {
      "text/html": [
       "<div>\n",
       "<style scoped>\n",
       "    .dataframe tbody tr th:only-of-type {\n",
       "        vertical-align: middle;\n",
       "    }\n",
       "\n",
       "    .dataframe tbody tr th {\n",
       "        vertical-align: top;\n",
       "    }\n",
       "\n",
       "    .dataframe thead th {\n",
       "        text-align: right;\n",
       "    }\n",
       "</style>\n",
       "<table border=\"1\" class=\"dataframe\">\n",
       "  <thead>\n",
       "    <tr style=\"text-align: right;\">\n",
       "      <th></th>\n",
       "      <th>Country</th>\n",
       "      <th>Year</th>\n",
       "      <th>GDP</th>\n",
       "      <th>Population</th>\n",
       "      <th>Unemployment</th>\n",
       "      <th>IncomeGroup</th>\n",
       "      <th>FoodProduction</th>\n",
       "      <th>CPI</th>\n",
       "      <th>GINI</th>\n",
       "      <th>Anxiety_Disorder_pct</th>\n",
       "      <th>...</th>\n",
       "      <th>Number_of_phsychiatrists_per_100000</th>\n",
       "      <th>Number_of_phsychiatrists_beds_per_100000</th>\n",
       "      <th>Economy (GDP per Capita)</th>\n",
       "      <th>Family</th>\n",
       "      <th>Freedom</th>\n",
       "      <th>Generosity</th>\n",
       "      <th>Happiness Score</th>\n",
       "      <th>Health (Life Expectancy)</th>\n",
       "      <th>Trust (Government Corruption)</th>\n",
       "      <th>Continent</th>\n",
       "    </tr>\n",
       "  </thead>\n",
       "  <tbody>\n",
       "    <tr>\n",
       "      <th>0</th>\n",
       "      <td>Afghanistan</td>\n",
       "      <td>1990</td>\n",
       "      <td>NaN</td>\n",
       "      <td>12412308</td>\n",
       "      <td>NaN</td>\n",
       "      <td>Low income</td>\n",
       "      <td>68.12</td>\n",
       "      <td>NaN</td>\n",
       "      <td>NaN</td>\n",
       "      <td>4.828830</td>\n",
       "      <td>...</td>\n",
       "      <td>NaN</td>\n",
       "      <td>NaN</td>\n",
       "      <td>NaN</td>\n",
       "      <td>NaN</td>\n",
       "      <td>NaN</td>\n",
       "      <td>NaN</td>\n",
       "      <td>NaN</td>\n",
       "      <td>NaN</td>\n",
       "      <td>NaN</td>\n",
       "      <td>Asia</td>\n",
       "    </tr>\n",
       "    <tr>\n",
       "      <th>1</th>\n",
       "      <td>Afghanistan</td>\n",
       "      <td>1991</td>\n",
       "      <td>NaN</td>\n",
       "      <td>13299017</td>\n",
       "      <td>2.976</td>\n",
       "      <td>Low income</td>\n",
       "      <td>74.24</td>\n",
       "      <td>NaN</td>\n",
       "      <td>NaN</td>\n",
       "      <td>4.829740</td>\n",
       "      <td>...</td>\n",
       "      <td>NaN</td>\n",
       "      <td>NaN</td>\n",
       "      <td>NaN</td>\n",
       "      <td>NaN</td>\n",
       "      <td>NaN</td>\n",
       "      <td>NaN</td>\n",
       "      <td>NaN</td>\n",
       "      <td>NaN</td>\n",
       "      <td>NaN</td>\n",
       "      <td>Asia</td>\n",
       "    </tr>\n",
       "    <tr>\n",
       "      <th>2</th>\n",
       "      <td>Afghanistan</td>\n",
       "      <td>1992</td>\n",
       "      <td>NaN</td>\n",
       "      <td>14485546</td>\n",
       "      <td>3.173</td>\n",
       "      <td>Low income</td>\n",
       "      <td>71.75</td>\n",
       "      <td>NaN</td>\n",
       "      <td>NaN</td>\n",
       "      <td>4.831108</td>\n",
       "      <td>...</td>\n",
       "      <td>NaN</td>\n",
       "      <td>NaN</td>\n",
       "      <td>NaN</td>\n",
       "      <td>NaN</td>\n",
       "      <td>NaN</td>\n",
       "      <td>NaN</td>\n",
       "      <td>NaN</td>\n",
       "      <td>NaN</td>\n",
       "      <td>NaN</td>\n",
       "      <td>Asia</td>\n",
       "    </tr>\n",
       "    <tr>\n",
       "      <th>3</th>\n",
       "      <td>Afghanistan</td>\n",
       "      <td>1993</td>\n",
       "      <td>NaN</td>\n",
       "      <td>15816603</td>\n",
       "      <td>3.463</td>\n",
       "      <td>Low income</td>\n",
       "      <td>76.25</td>\n",
       "      <td>NaN</td>\n",
       "      <td>NaN</td>\n",
       "      <td>4.830864</td>\n",
       "      <td>...</td>\n",
       "      <td>NaN</td>\n",
       "      <td>NaN</td>\n",
       "      <td>NaN</td>\n",
       "      <td>NaN</td>\n",
       "      <td>NaN</td>\n",
       "      <td>NaN</td>\n",
       "      <td>NaN</td>\n",
       "      <td>NaN</td>\n",
       "      <td>NaN</td>\n",
       "      <td>Asia</td>\n",
       "    </tr>\n",
       "    <tr>\n",
       "      <th>4</th>\n",
       "      <td>Afghanistan</td>\n",
       "      <td>1994</td>\n",
       "      <td>NaN</td>\n",
       "      <td>17075727</td>\n",
       "      <td>3.612</td>\n",
       "      <td>Low income</td>\n",
       "      <td>81.33</td>\n",
       "      <td>NaN</td>\n",
       "      <td>NaN</td>\n",
       "      <td>4.829423</td>\n",
       "      <td>...</td>\n",
       "      <td>NaN</td>\n",
       "      <td>NaN</td>\n",
       "      <td>NaN</td>\n",
       "      <td>NaN</td>\n",
       "      <td>NaN</td>\n",
       "      <td>NaN</td>\n",
       "      <td>NaN</td>\n",
       "      <td>NaN</td>\n",
       "      <td>NaN</td>\n",
       "      <td>Asia</td>\n",
       "    </tr>\n",
       "  </tbody>\n",
       "</table>\n",
       "<p>5 rows × 36 columns</p>\n",
       "</div>"
      ],
      "text/plain": [
       "       Country  Year  GDP  Population  Unemployment IncomeGroup  \\\n",
       "0  Afghanistan  1990  NaN    12412308           NaN  Low income   \n",
       "1  Afghanistan  1991  NaN    13299017         2.976  Low income   \n",
       "2  Afghanistan  1992  NaN    14485546         3.173  Low income   \n",
       "3  Afghanistan  1993  NaN    15816603         3.463  Low income   \n",
       "4  Afghanistan  1994  NaN    17075727         3.612  Low income   \n",
       "\n",
       "   FoodProduction  CPI  GINI  Anxiety_Disorder_pct  ...  \\\n",
       "0           68.12  NaN   NaN              4.828830  ...   \n",
       "1           74.24  NaN   NaN              4.829740  ...   \n",
       "2           71.75  NaN   NaN              4.831108  ...   \n",
       "3           76.25  NaN   NaN              4.830864  ...   \n",
       "4           81.33  NaN   NaN              4.829423  ...   \n",
       "\n",
       "   Number_of_phsychiatrists_per_100000  \\\n",
       "0                                  NaN   \n",
       "1                                  NaN   \n",
       "2                                  NaN   \n",
       "3                                  NaN   \n",
       "4                                  NaN   \n",
       "\n",
       "  Number_of_phsychiatrists_beds_per_100000  Economy (GDP per Capita)  Family  \\\n",
       "0                                      NaN                       NaN     NaN   \n",
       "1                                      NaN                       NaN     NaN   \n",
       "2                                      NaN                       NaN     NaN   \n",
       "3                                      NaN                       NaN     NaN   \n",
       "4                                      NaN                       NaN     NaN   \n",
       "\n",
       "   Freedom  Generosity  Happiness Score  Health (Life Expectancy)  \\\n",
       "0      NaN         NaN              NaN                       NaN   \n",
       "1      NaN         NaN              NaN                       NaN   \n",
       "2      NaN         NaN              NaN                       NaN   \n",
       "3      NaN         NaN              NaN                       NaN   \n",
       "4      NaN         NaN              NaN                       NaN   \n",
       "\n",
       "   Trust (Government Corruption)  Continent  \n",
       "0                            NaN       Asia  \n",
       "1                            NaN       Asia  \n",
       "2                            NaN       Asia  \n",
       "3                            NaN       Asia  \n",
       "4                            NaN       Asia  \n",
       "\n",
       "[5 rows x 36 columns]"
      ]
     },
     "execution_count": 31,
     "metadata": {},
     "output_type": "execute_result"
    }
   ],
   "source": [
    "\n",
    "def get_Continent(df):\n",
    "    \"\"\"\n",
    "    This function gives country codes of countries if country doesn't exist it removes it from the df names\n",
    "    \n",
    "    Input : Dataframe with input of Coloumn with name \"Country\"\n",
    "    \n",
    "    Output: Output with country code\n",
    "    \n",
    "    ** Remove country with na values**\n",
    "    \"\"\"\n",
    "    import pycountry_convert as pc # pip install this package\n",
    "    l = [x for x in df['Country']] # List for storing country name\n",
    "    code = []  # list for storing continent name\n",
    "    df['Continent'] = 0\n",
    "    d = {'Micronesia (country)': 'Oceania', 'Timor': 'Asia', 'Democratic Republic of Congo': 'Africa',\"Cote d'Ivoire\":'Africa'} \n",
    "    for i in l:  # Iterating over names of country names\n",
    "        try:     # Try block for getiing the values\n",
    "            if i in list(d):\n",
    "                code.append(d[i])  # Checking in dict as these are hard country names to detect in package\n",
    "                continue\n",
    "            country_code = pc.country_name_to_country_alpha2(i, cn_name_format=\"default\")\n",
    "            c = pc.country_alpha2_to_continent_code(country_code) # converts country code to continent code\n",
    "            c = pc.convert_continent_code_to_continent_name(c)\n",
    "            code.append(c)\n",
    "            \n",
    "        except:   # For removing if error is raised\n",
    "             df.drop(df.loc[df['Country']== i].index, inplace=True)\n",
    "    \n",
    "    df['Continent'] = code\n",
    "    return df.reset_index(drop=True)  # Return the value if isn't there\n",
    "\n",
    "df = get_Continent(df)\n",
    "df.head(5)\n",
    "#print(df.isna().sum()) # Columns with  na values"
   ]
  },
  {
   "cell_type": "markdown",
   "metadata": {},
   "source": [
    "1. Let's check the average healthcare expenditure in these countries from only year 2000.\n",
    "2. The Source of this data is from https://data.oecd.org/healthres/health-spending.html"
   ]
  },
  {
   "cell_type": "code",
   "execution_count": 32,
   "metadata": {},
   "outputs": [],
   "source": [
    "h = pd.read_csv(dir  + \"healthcare_expenditure_per_capita.csv\")"
   ]
  },
  {
   "cell_type": "markdown",
   "metadata": {},
   "source": [
    "Let's discuss the columns:\n",
    "\n",
    "1. LOCATION             : Country code\n",
    "2. INDICATOR            : Countries\n",
    "3. SUBJECT              : Unit of measuring\n",
    "4. MEASURE              : Number of phsychiatrists_per_100000\n",
    "5. FREQUNECY            : Frequncy of survey by world bank\n",
    "6. TIME                 : Year when data is collected\n",
    "7. VALUE                : Economic value\n",
    "8. Flag Codes           : Flag Codes set by world bank"
   ]
  },
  {
   "cell_type": "code",
   "execution_count": 33,
   "metadata": {},
   "outputs": [],
   "source": [
    "h = h.drop(columns=['INDICATOR','SUBJECT','MEASURE','FREQUENCY','Flag Codes']) # Dropping column of UNIT\n",
    "h.rename(columns = {\n",
    "    'LOCATION':'Country_Code',\n",
    "    'TIME':'Year',\n",
    "    'Value':'Expenditure_Value'}, inplace=True)"
   ]
  },
  {
   "cell_type": "markdown",
   "metadata": {},
   "source": [
    "Merging for looking into Expenditure"
   ]
  },
  {
   "cell_type": "code",
   "execution_count": 34,
   "metadata": {},
   "outputs": [],
   "source": [
    "df = pd.merge(df, h, on=['Country_Code','Year'], how='left')"
   ]
  },
  {
   "cell_type": "markdown",
   "metadata": {},
   "source": [
    "Let's see deaths due to alcohol"
   ]
  },
  {
   "cell_type": "code",
   "execution_count": 35,
   "metadata": {},
   "outputs": [],
   "source": [
    "d = pd.read_csv(dir + \"rate-of-premature-deaths-due-to-alcohol.csv\")\n",
    "d.rename(columns={\n",
    "    'Entity': 'Country',\n",
    "    'Deaths - Alcohol use - Sex: Both - Age: Age-standardized (Rate) (Rate)':'Alcohol_Use_Death_Rate'}, inplace=True)\n",
    "d = d.drop(columns=['Code'])\n",
    "df = pd.merge(df,d, on=['Country','Year'], how='left')"
   ]
  },
  {
   "cell_type": "markdown",
   "metadata": {},
   "source": [
    "Let's see corruption index"
   ]
  },
  {
   "cell_type": "code",
   "execution_count": 36,
   "metadata": {},
   "outputs": [],
   "source": [
    "d = pd.read_csv(dir + \"TI-corruption-perception-index.csv\")\n",
    "d.rename(columns={\n",
    "    'Entity': 'Country'}, inplace=True)\n",
    "d = d.drop(columns=['Code'])\n",
    "df = pd.merge(df,d, on=['Country','Year'], how='left')"
   ]
  },
  {
   "cell_type": "markdown",
   "metadata": {},
   "source": [
    "Let's see C02 emissions"
   ]
  },
  {
   "cell_type": "code",
   "execution_count": 37,
   "metadata": {},
   "outputs": [],
   "source": [
    "d = pd.read_csv(dir + \"co-emissions-per-capita.csv\")\n",
    "d.rename(columns={\n",
    "    'Entity': 'Country',\n",
    "    'Per capita CO₂ emissions (tonnes per capita)' :'Per capita CO₂ emissions'}, inplace=True)\n",
    "d = d.drop(columns=['Code'])\n",
    "df = pd.merge(df,d, on=['Country','Year'], how='left')"
   ]
  },
  {
   "cell_type": "markdown",
   "metadata": {},
   "source": [
    "Let's see diability"
   ]
  },
  {
   "cell_type": "code",
   "execution_count": 38,
   "metadata": {},
   "outputs": [],
   "source": [
    "d = pd.read_csv(dir + \"dalys-rate-from-all-causes.csv\")\n",
    "d.rename(columns={\n",
    "    'Entity': 'Country',\n",
    "    'DALYs (Disability-Adjusted Life Years) - All causes - Sex: Both - Age: Age-standardized (Rate) (DALYs per 100,000)' :'DALY'}, inplace=True)\n",
    "d = d.drop(columns=['Code'])\n",
    "df = pd.merge(df,d, on=['Country','Year'], how='left')"
   ]
  },
  {
   "cell_type": "markdown",
   "metadata": {},
   "source": [
    "Let's see healthcare expenditure percentage"
   ]
  },
  {
   "cell_type": "code",
   "execution_count": 39,
   "metadata": {},
   "outputs": [],
   "source": [
    "d = pd.read_csv(dir + \"share-of-public-expenditure-on-healthcare-by-country.csv\")\n",
    "d.rename(columns={\n",
    "    'Entity': 'Country',\n",
    "    ' (% of total health expenditure)' :'Healthcare_Expenditure_%'}, inplace=True)\n",
    "d = d.drop(columns=['Code'])\n",
    "df = pd.merge(df,d, on=['Country','Year'], how='left')"
   ]
  },
  {
   "cell_type": "markdown",
   "metadata": {},
   "source": [
    "Let's see average years of schooling"
   ]
  },
  {
   "cell_type": "code",
   "execution_count": 40,
   "metadata": {},
   "outputs": [],
   "source": [
    "d = pd.read_csv(dir + \"mean-years-of-schooling-1.csv\")\n",
    "d.rename(columns={\n",
    "    'Entity': 'Country',\n",
    "    'Average total years of schooling for adult population (years)' :'Average Year Schooling'}, inplace=True)\n",
    "d = d.drop(columns=['Code'])\n",
    "df = pd.merge(df,d, on=['Country','Year'], how='left')"
   ]
  },
  {
   "cell_type": "markdown",
   "metadata": {},
   "source": [
    "Let's see deaths from air pollution"
   ]
  },
  {
   "cell_type": "code",
   "execution_count": 41,
   "metadata": {},
   "outputs": [],
   "source": [
    "d = pd.read_csv(dir + \"share-deaths-air-pollution.csv\")\n",
    "d.rename(columns={\n",
    "    'Entity': 'Country'}, inplace=True)\n",
    "d = d.drop(columns=['Code'])\n",
    "df = pd.merge(df,d, on=['Country','Year'], how='left')"
   ]
  },
  {
   "cell_type": "markdown",
   "metadata": {},
   "source": [
    "Let's see death due to unsafe water"
   ]
  },
  {
   "cell_type": "code",
   "execution_count": 42,
   "metadata": {},
   "outputs": [],
   "source": [
    "d = pd.read_csv(dir + \"death-rates-unsafe-water.csv\")\n",
    "d.rename(columns={\n",
    "    'Entity': 'Country',\n",
    "    'Deaths - Unsafe water source - Sex: Both - Age: Age-standardized (Rate) (deaths per 100,000)':'Deaths_Unsafe_Water'}, inplace=True)\n",
    "d = d.drop(columns=['Code'])\n",
    "df = pd.merge(df,d, on=['Country','Year'], how='left')"
   ]
  },
  {
   "cell_type": "markdown",
   "metadata": {},
   "source": [
    "Let's see women economic rights"
   ]
  },
  {
   "cell_type": "code",
   "execution_count": 43,
   "metadata": {},
   "outputs": [],
   "source": [
    "d = pd.read_csv(dir + \"womens-economic-rights.csv\")\n",
    "d.rename(columns={\n",
    "    'Entity': 'Country',\n",
    "    \"Women's Economic Rights - ciri_wecon\":'Women_economic_rights'}, inplace=True)\n",
    "d = d.drop(columns=['Code'])\n",
    "df = pd.merge(df,d, on=['Country','Year'], how='left')"
   ]
  },
  {
   "cell_type": "markdown",
   "metadata": {},
   "source": [
    "Let's see share of agriculture land"
   ]
  },
  {
   "cell_type": "code",
   "execution_count": 44,
   "metadata": {},
   "outputs": [],
   "source": [
    "d = pd.read_csv(dir + \"agricultural-area-per-capita.csv\")\n",
    "d.rename(columns={\n",
    "    'Entity': 'Country',\n",
    "    ' (hectares per person)':'hectares_per_person'}, inplace=True)\n",
    "d = d.drop(columns=['Code'])\n",
    "df = pd.merge(df,d, on=['Country','Year'], how='left')"
   ]
  },
  {
   "cell_type": "markdown",
   "metadata": {},
   "source": [
    "Let's see share of urban population"
   ]
  },
  {
   "cell_type": "code",
   "execution_count": 45,
   "metadata": {},
   "outputs": [],
   "source": [
    "d = pd.read_csv(dir + \"share-of-population-urban.csv\")\n",
    "d.rename(columns={\n",
    "    'Entity': 'Country',\n",
    "    'Urban population (% of total) (% of total)':'Urban_population'}, inplace=True)\n",
    "d = d.drop(columns=['Code'])\n",
    "df = pd.merge(df,d, on=['Country','Year'], how='left')"
   ]
  },
  {
   "cell_type": "code",
   "execution_count": 46,
   "metadata": {},
   "outputs": [],
   "source": [
    "# Final Cleaned Data\n",
    "df.to_csv(dir + \"Final_Data.csv\")\n"
   ]
  },
  {
   "cell_type": "code",
   "execution_count": null,
   "metadata": {},
   "outputs": [],
   "source": []
  },
  {
   "cell_type": "code",
   "execution_count": null,
   "metadata": {},
   "outputs": [],
   "source": []
  }
 ],
 "metadata": {
  "kernelspec": {
   "display_name": "Python 3",
   "language": "python",
   "name": "python3"
  },
  "language_info": {
   "codemirror_mode": {
    "name": "ipython",
    "version": 3
   },
   "file_extension": ".py",
   "mimetype": "text/x-python",
   "name": "python",
   "nbconvert_exporter": "python",
   "pygments_lexer": "ipython3",
   "version": "3.6.8"
  }
 },
 "nbformat": 4,
 "nbformat_minor": 2
}
